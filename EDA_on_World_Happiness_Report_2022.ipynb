{
  "nbformat": 4,
  "nbformat_minor": 0,
  "metadata": {
    "colab": {
      "name": "EDA on World Happiness Report 2022.ipynb",
      "provenance": [],
      "collapsed_sections": []
    },
    "kernelspec": {
      "name": "python3",
      "display_name": "Python 3"
    },
    "language_info": {
      "name": "python"
    }
  },
  "cells": [
    {
      "cell_type": "markdown",
      "source": [
        "# **Exploratory Data Analysis on World Happiness Report 2022**"
      ],
      "metadata": {
        "id": "dR_txWYrZp2v"
      }
    },
    {
      "cell_type": "markdown",
      "source": [
        "## **Import Libraries and Load Dataset**"
      ],
      "metadata": {
        "id": "H7mEeQAuZYGc"
      }
    },
    {
      "cell_type": "code",
      "execution_count": null,
      "metadata": {
        "id": "TKSmgEr9PzFh"
      },
      "outputs": [],
      "source": [
        "import numpy as np\n",
        "import pandas as pd\n",
        "import matplotlib.pyplot as plt\n",
        "%matplotlib inline\n",
        "import seaborn as sns"
      ]
    },
    {
      "cell_type": "code",
      "source": [
        "# Create happiness dataframe from the dataset\n",
        "happiness = pd.read_csv('World_Happiness_Report_2022.csv')\n",
        "# View the first 5 rows from the dataframe\n",
        "happiness.head()"
      ],
      "metadata": {
        "colab": {
          "base_uri": "https://localhost:8080/",
          "height": 320
        },
        "id": "CIhU5wV7QEoX",
        "outputId": "b31ff060-7804-4064-8857-7fa698ebc78c"
      },
      "execution_count": null,
      "outputs": [
        {
          "output_type": "execute_result",
          "data": {
            "text/plain": [
              "   RANK      Country  Happiness score  Whisker-high  Whisker-low  \\\n",
              "0     1      Finland            7.821         7.886        7.756   \n",
              "1     2      Denmark            7.636         7.710        7.563   \n",
              "2     3      Iceland            7.557         7.651        7.464   \n",
              "3     4  Switzerland            7.512         7.586        7.437   \n",
              "4     5  Netherlands            7.415         7.471        7.359   \n",
              "\n",
              "   Dystopia (1.83) + residual  Explained by: GDP per capita  \\\n",
              "0                       2.518                         1.892   \n",
              "1                       2.226                         1.953   \n",
              "2                       2.320                         1.936   \n",
              "3                       2.153                         2.026   \n",
              "4                       2.137                         1.945   \n",
              "\n",
              "   Explained by: Social support  Explained by: Healthy life expectancy  \\\n",
              "0                         1.258                                  0.775   \n",
              "1                         1.243                                  0.777   \n",
              "2                         1.320                                  0.803   \n",
              "3                         1.226                                  0.822   \n",
              "4                         1.206                                  0.787   \n",
              "\n",
              "   Explained by: Freedom to make life choices  Explained by: Generosity  \\\n",
              "0                                       0.736                     0.109   \n",
              "1                                       0.719                     0.188   \n",
              "2                                       0.718                     0.270   \n",
              "3                                       0.677                     0.147   \n",
              "4                                       0.651                     0.271   \n",
              "\n",
              "   Explained by: Perceptions of corruption  \n",
              "0                                    0.534  \n",
              "1                                    0.532  \n",
              "2                                    0.191  \n",
              "3                                    0.461  \n",
              "4                                    0.419  "
            ],
            "text/html": [
              "\n",
              "  <div id=\"df-06ebc36e-f4a9-412e-aa1f-da1d053ea5d8\">\n",
              "    <div class=\"colab-df-container\">\n",
              "      <div>\n",
              "<style scoped>\n",
              "    .dataframe tbody tr th:only-of-type {\n",
              "        vertical-align: middle;\n",
              "    }\n",
              "\n",
              "    .dataframe tbody tr th {\n",
              "        vertical-align: top;\n",
              "    }\n",
              "\n",
              "    .dataframe thead th {\n",
              "        text-align: right;\n",
              "    }\n",
              "</style>\n",
              "<table border=\"1\" class=\"dataframe\">\n",
              "  <thead>\n",
              "    <tr style=\"text-align: right;\">\n",
              "      <th></th>\n",
              "      <th>RANK</th>\n",
              "      <th>Country</th>\n",
              "      <th>Happiness score</th>\n",
              "      <th>Whisker-high</th>\n",
              "      <th>Whisker-low</th>\n",
              "      <th>Dystopia (1.83) + residual</th>\n",
              "      <th>Explained by: GDP per capita</th>\n",
              "      <th>Explained by: Social support</th>\n",
              "      <th>Explained by: Healthy life expectancy</th>\n",
              "      <th>Explained by: Freedom to make life choices</th>\n",
              "      <th>Explained by: Generosity</th>\n",
              "      <th>Explained by: Perceptions of corruption</th>\n",
              "    </tr>\n",
              "  </thead>\n",
              "  <tbody>\n",
              "    <tr>\n",
              "      <th>0</th>\n",
              "      <td>1</td>\n",
              "      <td>Finland</td>\n",
              "      <td>7.821</td>\n",
              "      <td>7.886</td>\n",
              "      <td>7.756</td>\n",
              "      <td>2.518</td>\n",
              "      <td>1.892</td>\n",
              "      <td>1.258</td>\n",
              "      <td>0.775</td>\n",
              "      <td>0.736</td>\n",
              "      <td>0.109</td>\n",
              "      <td>0.534</td>\n",
              "    </tr>\n",
              "    <tr>\n",
              "      <th>1</th>\n",
              "      <td>2</td>\n",
              "      <td>Denmark</td>\n",
              "      <td>7.636</td>\n",
              "      <td>7.710</td>\n",
              "      <td>7.563</td>\n",
              "      <td>2.226</td>\n",
              "      <td>1.953</td>\n",
              "      <td>1.243</td>\n",
              "      <td>0.777</td>\n",
              "      <td>0.719</td>\n",
              "      <td>0.188</td>\n",
              "      <td>0.532</td>\n",
              "    </tr>\n",
              "    <tr>\n",
              "      <th>2</th>\n",
              "      <td>3</td>\n",
              "      <td>Iceland</td>\n",
              "      <td>7.557</td>\n",
              "      <td>7.651</td>\n",
              "      <td>7.464</td>\n",
              "      <td>2.320</td>\n",
              "      <td>1.936</td>\n",
              "      <td>1.320</td>\n",
              "      <td>0.803</td>\n",
              "      <td>0.718</td>\n",
              "      <td>0.270</td>\n",
              "      <td>0.191</td>\n",
              "    </tr>\n",
              "    <tr>\n",
              "      <th>3</th>\n",
              "      <td>4</td>\n",
              "      <td>Switzerland</td>\n",
              "      <td>7.512</td>\n",
              "      <td>7.586</td>\n",
              "      <td>7.437</td>\n",
              "      <td>2.153</td>\n",
              "      <td>2.026</td>\n",
              "      <td>1.226</td>\n",
              "      <td>0.822</td>\n",
              "      <td>0.677</td>\n",
              "      <td>0.147</td>\n",
              "      <td>0.461</td>\n",
              "    </tr>\n",
              "    <tr>\n",
              "      <th>4</th>\n",
              "      <td>5</td>\n",
              "      <td>Netherlands</td>\n",
              "      <td>7.415</td>\n",
              "      <td>7.471</td>\n",
              "      <td>7.359</td>\n",
              "      <td>2.137</td>\n",
              "      <td>1.945</td>\n",
              "      <td>1.206</td>\n",
              "      <td>0.787</td>\n",
              "      <td>0.651</td>\n",
              "      <td>0.271</td>\n",
              "      <td>0.419</td>\n",
              "    </tr>\n",
              "  </tbody>\n",
              "</table>\n",
              "</div>\n",
              "      <button class=\"colab-df-convert\" onclick=\"convertToInteractive('df-06ebc36e-f4a9-412e-aa1f-da1d053ea5d8')\"\n",
              "              title=\"Convert this dataframe to an interactive table.\"\n",
              "              style=\"display:none;\">\n",
              "        \n",
              "  <svg xmlns=\"http://www.w3.org/2000/svg\" height=\"24px\"viewBox=\"0 0 24 24\"\n",
              "       width=\"24px\">\n",
              "    <path d=\"M0 0h24v24H0V0z\" fill=\"none\"/>\n",
              "    <path d=\"M18.56 5.44l.94 2.06.94-2.06 2.06-.94-2.06-.94-.94-2.06-.94 2.06-2.06.94zm-11 1L8.5 8.5l.94-2.06 2.06-.94-2.06-.94L8.5 2.5l-.94 2.06-2.06.94zm10 10l.94 2.06.94-2.06 2.06-.94-2.06-.94-.94-2.06-.94 2.06-2.06.94z\"/><path d=\"M17.41 7.96l-1.37-1.37c-.4-.4-.92-.59-1.43-.59-.52 0-1.04.2-1.43.59L10.3 9.45l-7.72 7.72c-.78.78-.78 2.05 0 2.83L4 21.41c.39.39.9.59 1.41.59.51 0 1.02-.2 1.41-.59l7.78-7.78 2.81-2.81c.8-.78.8-2.07 0-2.86zM5.41 20L4 18.59l7.72-7.72 1.47 1.35L5.41 20z\"/>\n",
              "  </svg>\n",
              "      </button>\n",
              "      \n",
              "  <style>\n",
              "    .colab-df-container {\n",
              "      display:flex;\n",
              "      flex-wrap:wrap;\n",
              "      gap: 12px;\n",
              "    }\n",
              "\n",
              "    .colab-df-convert {\n",
              "      background-color: #E8F0FE;\n",
              "      border: none;\n",
              "      border-radius: 50%;\n",
              "      cursor: pointer;\n",
              "      display: none;\n",
              "      fill: #1967D2;\n",
              "      height: 32px;\n",
              "      padding: 0 0 0 0;\n",
              "      width: 32px;\n",
              "    }\n",
              "\n",
              "    .colab-df-convert:hover {\n",
              "      background-color: #E2EBFA;\n",
              "      box-shadow: 0px 1px 2px rgba(60, 64, 67, 0.3), 0px 1px 3px 1px rgba(60, 64, 67, 0.15);\n",
              "      fill: #174EA6;\n",
              "    }\n",
              "\n",
              "    [theme=dark] .colab-df-convert {\n",
              "      background-color: #3B4455;\n",
              "      fill: #D2E3FC;\n",
              "    }\n",
              "\n",
              "    [theme=dark] .colab-df-convert:hover {\n",
              "      background-color: #434B5C;\n",
              "      box-shadow: 0px 1px 3px 1px rgba(0, 0, 0, 0.15);\n",
              "      filter: drop-shadow(0px 1px 2px rgba(0, 0, 0, 0.3));\n",
              "      fill: #FFFFFF;\n",
              "    }\n",
              "  </style>\n",
              "\n",
              "      <script>\n",
              "        const buttonEl =\n",
              "          document.querySelector('#df-06ebc36e-f4a9-412e-aa1f-da1d053ea5d8 button.colab-df-convert');\n",
              "        buttonEl.style.display =\n",
              "          google.colab.kernel.accessAllowed ? 'block' : 'none';\n",
              "\n",
              "        async function convertToInteractive(key) {\n",
              "          const element = document.querySelector('#df-06ebc36e-f4a9-412e-aa1f-da1d053ea5d8');\n",
              "          const dataTable =\n",
              "            await google.colab.kernel.invokeFunction('convertToInteractive',\n",
              "                                                     [key], {});\n",
              "          if (!dataTable) return;\n",
              "\n",
              "          const docLinkHtml = 'Like what you see? Visit the ' +\n",
              "            '<a target=\"_blank\" href=https://colab.research.google.com/notebooks/data_table.ipynb>data table notebook</a>'\n",
              "            + ' to learn more about interactive tables.';\n",
              "          element.innerHTML = '';\n",
              "          dataTable['output_type'] = 'display_data';\n",
              "          await google.colab.output.renderOutput(dataTable, element);\n",
              "          const docLink = document.createElement('div');\n",
              "          docLink.innerHTML = docLinkHtml;\n",
              "          element.appendChild(docLink);\n",
              "        }\n",
              "      </script>\n",
              "    </div>\n",
              "  </div>\n",
              "  "
            ]
          },
          "metadata": {},
          "execution_count": 2
        }
      ]
    },
    {
      "cell_type": "markdown",
      "source": [
        "## **Basic Information about the Dataset**"
      ],
      "metadata": {
        "id": "y-ahulNRZ7DM"
      }
    },
    {
      "cell_type": "markdown",
      "source": [
        "### The Dataset Shape"
      ],
      "metadata": {
        "id": "u5YfUyLpaDOj"
      }
    },
    {
      "cell_type": "code",
      "source": [
        "# View the shape from the dataframe\n",
        "happiness.shape"
      ],
      "metadata": {
        "colab": {
          "base_uri": "https://localhost:8080/"
        },
        "id": "yuHjYpEWQQg2",
        "outputId": "feb078e0-cf35-435f-81a5-393a73d22fb0"
      },
      "execution_count": null,
      "outputs": [
        {
          "output_type": "execute_result",
          "data": {
            "text/plain": [
              "(146, 12)"
            ]
          },
          "metadata": {},
          "execution_count": 3
        }
      ]
    },
    {
      "cell_type": "markdown",
      "source": [
        "### The Dataset Summary"
      ],
      "metadata": {
        "id": "2vBD7G7vaP0F"
      }
    },
    {
      "cell_type": "code",
      "source": [
        "# Basic information about the dataframe, including the columns, number of NULL (if exists) and the data type for each columns\n",
        "happiness.info()"
      ],
      "metadata": {
        "colab": {
          "base_uri": "https://localhost:8080/"
        },
        "id": "TYdiIRydQVp-",
        "outputId": "af682936-4081-419e-e7fa-112cd42a4ba3"
      },
      "execution_count": null,
      "outputs": [
        {
          "output_type": "stream",
          "name": "stdout",
          "text": [
            "<class 'pandas.core.frame.DataFrame'>\n",
            "RangeIndex: 146 entries, 0 to 145\n",
            "Data columns (total 12 columns):\n",
            " #   Column                                      Non-Null Count  Dtype  \n",
            "---  ------                                      --------------  -----  \n",
            " 0   RANK                                        146 non-null    int64  \n",
            " 1   Country                                     146 non-null    object \n",
            " 2   Happiness score                             146 non-null    float64\n",
            " 3   Whisker-high                                146 non-null    float64\n",
            " 4   Whisker-low                                 146 non-null    float64\n",
            " 5   Dystopia (1.83) + residual                  146 non-null    float64\n",
            " 6   Explained by: GDP per capita                146 non-null    float64\n",
            " 7   Explained by: Social support                146 non-null    float64\n",
            " 8   Explained by: Healthy life expectancy       146 non-null    float64\n",
            " 9   Explained by: Freedom to make life choices  146 non-null    float64\n",
            " 10  Explained by: Generosity                    146 non-null    float64\n",
            " 11  Explained by: Perceptions of corruption     146 non-null    float64\n",
            "dtypes: float64(10), int64(1), object(1)\n",
            "memory usage: 13.8+ KB\n"
          ]
        }
      ]
    },
    {
      "cell_type": "code",
      "source": [
        "# Change the Overall rank data type to string\n",
        "happiness['RANK'] = happiness['RANK'].astype('str')"
      ],
      "metadata": {
        "id": "1zi2Y50VQjhm"
      },
      "execution_count": null,
      "outputs": []
    },
    {
      "cell_type": "code",
      "source": [
        "# Confirm change\n",
        "happiness.info()"
      ],
      "metadata": {
        "colab": {
          "base_uri": "https://localhost:8080/"
        },
        "id": "GhtUK3N3RNsO",
        "outputId": "8d23bab3-7622-4b75-d820-690feb5a66dd"
      },
      "execution_count": null,
      "outputs": [
        {
          "output_type": "stream",
          "name": "stdout",
          "text": [
            "<class 'pandas.core.frame.DataFrame'>\n",
            "RangeIndex: 146 entries, 0 to 145\n",
            "Data columns (total 12 columns):\n",
            " #   Column                                      Non-Null Count  Dtype  \n",
            "---  ------                                      --------------  -----  \n",
            " 0   RANK                                        146 non-null    object \n",
            " 1   Country                                     146 non-null    object \n",
            " 2   Happiness score                             146 non-null    float64\n",
            " 3   Whisker-high                                146 non-null    float64\n",
            " 4   Whisker-low                                 146 non-null    float64\n",
            " 5   Dystopia (1.83) + residual                  146 non-null    float64\n",
            " 6   Explained by: GDP per capita                146 non-null    float64\n",
            " 7   Explained by: Social support                146 non-null    float64\n",
            " 8   Explained by: Healthy life expectancy       146 non-null    float64\n",
            " 9   Explained by: Freedom to make life choices  146 non-null    float64\n",
            " 10  Explained by: Generosity                    146 non-null    float64\n",
            " 11  Explained by: Perceptions of corruption     146 non-null    float64\n",
            "dtypes: float64(10), object(2)\n",
            "memory usage: 13.8+ KB\n"
          ]
        }
      ]
    },
    {
      "cell_type": "code",
      "source": [
        "# Capitalize the country or region name for visualization purpose\n",
        "happiness['Country'] = happiness['Country'].str.upper()\n",
        "happiness.head()"
      ],
      "metadata": {
        "colab": {
          "base_uri": "https://localhost:8080/",
          "height": 320
        },
        "id": "3PHhYJZ3RQR1",
        "outputId": "7b2ca13f-8620-4461-9f3e-4b937a7fc06f"
      },
      "execution_count": null,
      "outputs": [
        {
          "output_type": "execute_result",
          "data": {
            "text/plain": [
              "  RANK      Country  Happiness score  Whisker-high  Whisker-low  \\\n",
              "0    1      FINLAND            7.821         7.886        7.756   \n",
              "1    2      DENMARK            7.636         7.710        7.563   \n",
              "2    3      ICELAND            7.557         7.651        7.464   \n",
              "3    4  SWITZERLAND            7.512         7.586        7.437   \n",
              "4    5  NETHERLANDS            7.415         7.471        7.359   \n",
              "\n",
              "   Dystopia (1.83) + residual  Explained by: GDP per capita  \\\n",
              "0                       2.518                         1.892   \n",
              "1                       2.226                         1.953   \n",
              "2                       2.320                         1.936   \n",
              "3                       2.153                         2.026   \n",
              "4                       2.137                         1.945   \n",
              "\n",
              "   Explained by: Social support  Explained by: Healthy life expectancy  \\\n",
              "0                         1.258                                  0.775   \n",
              "1                         1.243                                  0.777   \n",
              "2                         1.320                                  0.803   \n",
              "3                         1.226                                  0.822   \n",
              "4                         1.206                                  0.787   \n",
              "\n",
              "   Explained by: Freedom to make life choices  Explained by: Generosity  \\\n",
              "0                                       0.736                     0.109   \n",
              "1                                       0.719                     0.188   \n",
              "2                                       0.718                     0.270   \n",
              "3                                       0.677                     0.147   \n",
              "4                                       0.651                     0.271   \n",
              "\n",
              "   Explained by: Perceptions of corruption  \n",
              "0                                    0.534  \n",
              "1                                    0.532  \n",
              "2                                    0.191  \n",
              "3                                    0.461  \n",
              "4                                    0.419  "
            ],
            "text/html": [
              "\n",
              "  <div id=\"df-35245400-5f51-41ea-aada-d748377cd365\">\n",
              "    <div class=\"colab-df-container\">\n",
              "      <div>\n",
              "<style scoped>\n",
              "    .dataframe tbody tr th:only-of-type {\n",
              "        vertical-align: middle;\n",
              "    }\n",
              "\n",
              "    .dataframe tbody tr th {\n",
              "        vertical-align: top;\n",
              "    }\n",
              "\n",
              "    .dataframe thead th {\n",
              "        text-align: right;\n",
              "    }\n",
              "</style>\n",
              "<table border=\"1\" class=\"dataframe\">\n",
              "  <thead>\n",
              "    <tr style=\"text-align: right;\">\n",
              "      <th></th>\n",
              "      <th>RANK</th>\n",
              "      <th>Country</th>\n",
              "      <th>Happiness score</th>\n",
              "      <th>Whisker-high</th>\n",
              "      <th>Whisker-low</th>\n",
              "      <th>Dystopia (1.83) + residual</th>\n",
              "      <th>Explained by: GDP per capita</th>\n",
              "      <th>Explained by: Social support</th>\n",
              "      <th>Explained by: Healthy life expectancy</th>\n",
              "      <th>Explained by: Freedom to make life choices</th>\n",
              "      <th>Explained by: Generosity</th>\n",
              "      <th>Explained by: Perceptions of corruption</th>\n",
              "    </tr>\n",
              "  </thead>\n",
              "  <tbody>\n",
              "    <tr>\n",
              "      <th>0</th>\n",
              "      <td>1</td>\n",
              "      <td>FINLAND</td>\n",
              "      <td>7.821</td>\n",
              "      <td>7.886</td>\n",
              "      <td>7.756</td>\n",
              "      <td>2.518</td>\n",
              "      <td>1.892</td>\n",
              "      <td>1.258</td>\n",
              "      <td>0.775</td>\n",
              "      <td>0.736</td>\n",
              "      <td>0.109</td>\n",
              "      <td>0.534</td>\n",
              "    </tr>\n",
              "    <tr>\n",
              "      <th>1</th>\n",
              "      <td>2</td>\n",
              "      <td>DENMARK</td>\n",
              "      <td>7.636</td>\n",
              "      <td>7.710</td>\n",
              "      <td>7.563</td>\n",
              "      <td>2.226</td>\n",
              "      <td>1.953</td>\n",
              "      <td>1.243</td>\n",
              "      <td>0.777</td>\n",
              "      <td>0.719</td>\n",
              "      <td>0.188</td>\n",
              "      <td>0.532</td>\n",
              "    </tr>\n",
              "    <tr>\n",
              "      <th>2</th>\n",
              "      <td>3</td>\n",
              "      <td>ICELAND</td>\n",
              "      <td>7.557</td>\n",
              "      <td>7.651</td>\n",
              "      <td>7.464</td>\n",
              "      <td>2.320</td>\n",
              "      <td>1.936</td>\n",
              "      <td>1.320</td>\n",
              "      <td>0.803</td>\n",
              "      <td>0.718</td>\n",
              "      <td>0.270</td>\n",
              "      <td>0.191</td>\n",
              "    </tr>\n",
              "    <tr>\n",
              "      <th>3</th>\n",
              "      <td>4</td>\n",
              "      <td>SWITZERLAND</td>\n",
              "      <td>7.512</td>\n",
              "      <td>7.586</td>\n",
              "      <td>7.437</td>\n",
              "      <td>2.153</td>\n",
              "      <td>2.026</td>\n",
              "      <td>1.226</td>\n",
              "      <td>0.822</td>\n",
              "      <td>0.677</td>\n",
              "      <td>0.147</td>\n",
              "      <td>0.461</td>\n",
              "    </tr>\n",
              "    <tr>\n",
              "      <th>4</th>\n",
              "      <td>5</td>\n",
              "      <td>NETHERLANDS</td>\n",
              "      <td>7.415</td>\n",
              "      <td>7.471</td>\n",
              "      <td>7.359</td>\n",
              "      <td>2.137</td>\n",
              "      <td>1.945</td>\n",
              "      <td>1.206</td>\n",
              "      <td>0.787</td>\n",
              "      <td>0.651</td>\n",
              "      <td>0.271</td>\n",
              "      <td>0.419</td>\n",
              "    </tr>\n",
              "  </tbody>\n",
              "</table>\n",
              "</div>\n",
              "      <button class=\"colab-df-convert\" onclick=\"convertToInteractive('df-35245400-5f51-41ea-aada-d748377cd365')\"\n",
              "              title=\"Convert this dataframe to an interactive table.\"\n",
              "              style=\"display:none;\">\n",
              "        \n",
              "  <svg xmlns=\"http://www.w3.org/2000/svg\" height=\"24px\"viewBox=\"0 0 24 24\"\n",
              "       width=\"24px\">\n",
              "    <path d=\"M0 0h24v24H0V0z\" fill=\"none\"/>\n",
              "    <path d=\"M18.56 5.44l.94 2.06.94-2.06 2.06-.94-2.06-.94-.94-2.06-.94 2.06-2.06.94zm-11 1L8.5 8.5l.94-2.06 2.06-.94-2.06-.94L8.5 2.5l-.94 2.06-2.06.94zm10 10l.94 2.06.94-2.06 2.06-.94-2.06-.94-.94-2.06-.94 2.06-2.06.94z\"/><path d=\"M17.41 7.96l-1.37-1.37c-.4-.4-.92-.59-1.43-.59-.52 0-1.04.2-1.43.59L10.3 9.45l-7.72 7.72c-.78.78-.78 2.05 0 2.83L4 21.41c.39.39.9.59 1.41.59.51 0 1.02-.2 1.41-.59l7.78-7.78 2.81-2.81c.8-.78.8-2.07 0-2.86zM5.41 20L4 18.59l7.72-7.72 1.47 1.35L5.41 20z\"/>\n",
              "  </svg>\n",
              "      </button>\n",
              "      \n",
              "  <style>\n",
              "    .colab-df-container {\n",
              "      display:flex;\n",
              "      flex-wrap:wrap;\n",
              "      gap: 12px;\n",
              "    }\n",
              "\n",
              "    .colab-df-convert {\n",
              "      background-color: #E8F0FE;\n",
              "      border: none;\n",
              "      border-radius: 50%;\n",
              "      cursor: pointer;\n",
              "      display: none;\n",
              "      fill: #1967D2;\n",
              "      height: 32px;\n",
              "      padding: 0 0 0 0;\n",
              "      width: 32px;\n",
              "    }\n",
              "\n",
              "    .colab-df-convert:hover {\n",
              "      background-color: #E2EBFA;\n",
              "      box-shadow: 0px 1px 2px rgba(60, 64, 67, 0.3), 0px 1px 3px 1px rgba(60, 64, 67, 0.15);\n",
              "      fill: #174EA6;\n",
              "    }\n",
              "\n",
              "    [theme=dark] .colab-df-convert {\n",
              "      background-color: #3B4455;\n",
              "      fill: #D2E3FC;\n",
              "    }\n",
              "\n",
              "    [theme=dark] .colab-df-convert:hover {\n",
              "      background-color: #434B5C;\n",
              "      box-shadow: 0px 1px 3px 1px rgba(0, 0, 0, 0.15);\n",
              "      filter: drop-shadow(0px 1px 2px rgba(0, 0, 0, 0.3));\n",
              "      fill: #FFFFFF;\n",
              "    }\n",
              "  </style>\n",
              "\n",
              "      <script>\n",
              "        const buttonEl =\n",
              "          document.querySelector('#df-35245400-5f51-41ea-aada-d748377cd365 button.colab-df-convert');\n",
              "        buttonEl.style.display =\n",
              "          google.colab.kernel.accessAllowed ? 'block' : 'none';\n",
              "\n",
              "        async function convertToInteractive(key) {\n",
              "          const element = document.querySelector('#df-35245400-5f51-41ea-aada-d748377cd365');\n",
              "          const dataTable =\n",
              "            await google.colab.kernel.invokeFunction('convertToInteractive',\n",
              "                                                     [key], {});\n",
              "          if (!dataTable) return;\n",
              "\n",
              "          const docLinkHtml = 'Like what you see? Visit the ' +\n",
              "            '<a target=\"_blank\" href=https://colab.research.google.com/notebooks/data_table.ipynb>data table notebook</a>'\n",
              "            + ' to learn more about interactive tables.';\n",
              "          element.innerHTML = '';\n",
              "          dataTable['output_type'] = 'display_data';\n",
              "          await google.colab.output.renderOutput(dataTable, element);\n",
              "          const docLink = document.createElement('div');\n",
              "          docLink.innerHTML = docLinkHtml;\n",
              "          element.appendChild(docLink);\n",
              "        }\n",
              "      </script>\n",
              "    </div>\n",
              "  </div>\n",
              "  "
            ]
          },
          "metadata": {},
          "execution_count": 7
        }
      ]
    },
    {
      "cell_type": "markdown",
      "source": [
        "### The Descriptive Statistics from the Dataset"
      ],
      "metadata": {
        "id": "G3AL8N8Xaf3i"
      }
    },
    {
      "cell_type": "code",
      "source": [
        "# Descriptive statistics from quantitative data in the dataframe\n",
        "happiness.describe()"
      ],
      "metadata": {
        "colab": {
          "base_uri": "https://localhost:8080/",
          "height": 396
        },
        "id": "Wnodjd1zRf1V",
        "outputId": "1bcd81b1-3a8c-49df-e9b0-b96c15b89bce"
      },
      "execution_count": null,
      "outputs": [
        {
          "output_type": "execute_result",
          "data": {
            "text/plain": [
              "       Happiness score  Whisker-high  Whisker-low  Dystopia (1.83) + residual  \\\n",
              "count       146.000000    146.000000   146.000000                  146.000000   \n",
              "mean          5.553575      5.673589     5.433568                    1.831808   \n",
              "std           1.086843      1.065621     1.109380                    0.534994   \n",
              "min           2.404000      2.469000     2.339000                    0.187000   \n",
              "25%           4.888750      5.006250     4.754750                    1.555250   \n",
              "50%           5.568500      5.680000     5.453000                    1.894500   \n",
              "75%           6.305000      6.448750     6.190000                    2.153000   \n",
              "max           7.821000      7.886000     7.756000                    2.844000   \n",
              "\n",
              "       Explained by: GDP per capita  Explained by: Social support  \\\n",
              "count                    146.000000                    146.000000   \n",
              "mean                       1.410445                      0.905863   \n",
              "std                        0.421663                      0.280122   \n",
              "min                        0.000000                      0.000000   \n",
              "25%                        1.095500                      0.732000   \n",
              "50%                        1.445500                      0.957500   \n",
              "75%                        1.784750                      1.114250   \n",
              "max                        2.209000                      1.320000   \n",
              "\n",
              "       Explained by: Healthy life expectancy  \\\n",
              "count                             146.000000   \n",
              "mean                                0.586171   \n",
              "std                                 0.176336   \n",
              "min                                 0.000000   \n",
              "25%                                 0.463250   \n",
              "50%                                 0.621500   \n",
              "75%                                 0.719750   \n",
              "max                                 0.942000   \n",
              "\n",
              "       Explained by: Freedom to make life choices  Explained by: Generosity  \\\n",
              "count                                  146.000000                146.000000   \n",
              "mean                                     0.517226                  0.147377   \n",
              "std                                      0.145859                  0.082799   \n",
              "min                                      0.000000                  0.000000   \n",
              "25%                                      0.440500                  0.089000   \n",
              "50%                                      0.543500                  0.132500   \n",
              "75%                                      0.626000                  0.197750   \n",
              "max                                      0.740000                  0.468000   \n",
              "\n",
              "       Explained by: Perceptions of corruption  \n",
              "count                               146.000000  \n",
              "mean                                  0.154781  \n",
              "std                                   0.127514  \n",
              "min                                   0.000000  \n",
              "25%                                   0.068250  \n",
              "50%                                   0.119500  \n",
              "75%                                   0.198500  \n",
              "max                                   0.587000  "
            ],
            "text/html": [
              "\n",
              "  <div id=\"df-e8c5cd33-68ec-44eb-8a73-59681ff44845\">\n",
              "    <div class=\"colab-df-container\">\n",
              "      <div>\n",
              "<style scoped>\n",
              "    .dataframe tbody tr th:only-of-type {\n",
              "        vertical-align: middle;\n",
              "    }\n",
              "\n",
              "    .dataframe tbody tr th {\n",
              "        vertical-align: top;\n",
              "    }\n",
              "\n",
              "    .dataframe thead th {\n",
              "        text-align: right;\n",
              "    }\n",
              "</style>\n",
              "<table border=\"1\" class=\"dataframe\">\n",
              "  <thead>\n",
              "    <tr style=\"text-align: right;\">\n",
              "      <th></th>\n",
              "      <th>Happiness score</th>\n",
              "      <th>Whisker-high</th>\n",
              "      <th>Whisker-low</th>\n",
              "      <th>Dystopia (1.83) + residual</th>\n",
              "      <th>Explained by: GDP per capita</th>\n",
              "      <th>Explained by: Social support</th>\n",
              "      <th>Explained by: Healthy life expectancy</th>\n",
              "      <th>Explained by: Freedom to make life choices</th>\n",
              "      <th>Explained by: Generosity</th>\n",
              "      <th>Explained by: Perceptions of corruption</th>\n",
              "    </tr>\n",
              "  </thead>\n",
              "  <tbody>\n",
              "    <tr>\n",
              "      <th>count</th>\n",
              "      <td>146.000000</td>\n",
              "      <td>146.000000</td>\n",
              "      <td>146.000000</td>\n",
              "      <td>146.000000</td>\n",
              "      <td>146.000000</td>\n",
              "      <td>146.000000</td>\n",
              "      <td>146.000000</td>\n",
              "      <td>146.000000</td>\n",
              "      <td>146.000000</td>\n",
              "      <td>146.000000</td>\n",
              "    </tr>\n",
              "    <tr>\n",
              "      <th>mean</th>\n",
              "      <td>5.553575</td>\n",
              "      <td>5.673589</td>\n",
              "      <td>5.433568</td>\n",
              "      <td>1.831808</td>\n",
              "      <td>1.410445</td>\n",
              "      <td>0.905863</td>\n",
              "      <td>0.586171</td>\n",
              "      <td>0.517226</td>\n",
              "      <td>0.147377</td>\n",
              "      <td>0.154781</td>\n",
              "    </tr>\n",
              "    <tr>\n",
              "      <th>std</th>\n",
              "      <td>1.086843</td>\n",
              "      <td>1.065621</td>\n",
              "      <td>1.109380</td>\n",
              "      <td>0.534994</td>\n",
              "      <td>0.421663</td>\n",
              "      <td>0.280122</td>\n",
              "      <td>0.176336</td>\n",
              "      <td>0.145859</td>\n",
              "      <td>0.082799</td>\n",
              "      <td>0.127514</td>\n",
              "    </tr>\n",
              "    <tr>\n",
              "      <th>min</th>\n",
              "      <td>2.404000</td>\n",
              "      <td>2.469000</td>\n",
              "      <td>2.339000</td>\n",
              "      <td>0.187000</td>\n",
              "      <td>0.000000</td>\n",
              "      <td>0.000000</td>\n",
              "      <td>0.000000</td>\n",
              "      <td>0.000000</td>\n",
              "      <td>0.000000</td>\n",
              "      <td>0.000000</td>\n",
              "    </tr>\n",
              "    <tr>\n",
              "      <th>25%</th>\n",
              "      <td>4.888750</td>\n",
              "      <td>5.006250</td>\n",
              "      <td>4.754750</td>\n",
              "      <td>1.555250</td>\n",
              "      <td>1.095500</td>\n",
              "      <td>0.732000</td>\n",
              "      <td>0.463250</td>\n",
              "      <td>0.440500</td>\n",
              "      <td>0.089000</td>\n",
              "      <td>0.068250</td>\n",
              "    </tr>\n",
              "    <tr>\n",
              "      <th>50%</th>\n",
              "      <td>5.568500</td>\n",
              "      <td>5.680000</td>\n",
              "      <td>5.453000</td>\n",
              "      <td>1.894500</td>\n",
              "      <td>1.445500</td>\n",
              "      <td>0.957500</td>\n",
              "      <td>0.621500</td>\n",
              "      <td>0.543500</td>\n",
              "      <td>0.132500</td>\n",
              "      <td>0.119500</td>\n",
              "    </tr>\n",
              "    <tr>\n",
              "      <th>75%</th>\n",
              "      <td>6.305000</td>\n",
              "      <td>6.448750</td>\n",
              "      <td>6.190000</td>\n",
              "      <td>2.153000</td>\n",
              "      <td>1.784750</td>\n",
              "      <td>1.114250</td>\n",
              "      <td>0.719750</td>\n",
              "      <td>0.626000</td>\n",
              "      <td>0.197750</td>\n",
              "      <td>0.198500</td>\n",
              "    </tr>\n",
              "    <tr>\n",
              "      <th>max</th>\n",
              "      <td>7.821000</td>\n",
              "      <td>7.886000</td>\n",
              "      <td>7.756000</td>\n",
              "      <td>2.844000</td>\n",
              "      <td>2.209000</td>\n",
              "      <td>1.320000</td>\n",
              "      <td>0.942000</td>\n",
              "      <td>0.740000</td>\n",
              "      <td>0.468000</td>\n",
              "      <td>0.587000</td>\n",
              "    </tr>\n",
              "  </tbody>\n",
              "</table>\n",
              "</div>\n",
              "      <button class=\"colab-df-convert\" onclick=\"convertToInteractive('df-e8c5cd33-68ec-44eb-8a73-59681ff44845')\"\n",
              "              title=\"Convert this dataframe to an interactive table.\"\n",
              "              style=\"display:none;\">\n",
              "        \n",
              "  <svg xmlns=\"http://www.w3.org/2000/svg\" height=\"24px\"viewBox=\"0 0 24 24\"\n",
              "       width=\"24px\">\n",
              "    <path d=\"M0 0h24v24H0V0z\" fill=\"none\"/>\n",
              "    <path d=\"M18.56 5.44l.94 2.06.94-2.06 2.06-.94-2.06-.94-.94-2.06-.94 2.06-2.06.94zm-11 1L8.5 8.5l.94-2.06 2.06-.94-2.06-.94L8.5 2.5l-.94 2.06-2.06.94zm10 10l.94 2.06.94-2.06 2.06-.94-2.06-.94-.94-2.06-.94 2.06-2.06.94z\"/><path d=\"M17.41 7.96l-1.37-1.37c-.4-.4-.92-.59-1.43-.59-.52 0-1.04.2-1.43.59L10.3 9.45l-7.72 7.72c-.78.78-.78 2.05 0 2.83L4 21.41c.39.39.9.59 1.41.59.51 0 1.02-.2 1.41-.59l7.78-7.78 2.81-2.81c.8-.78.8-2.07 0-2.86zM5.41 20L4 18.59l7.72-7.72 1.47 1.35L5.41 20z\"/>\n",
              "  </svg>\n",
              "      </button>\n",
              "      \n",
              "  <style>\n",
              "    .colab-df-container {\n",
              "      display:flex;\n",
              "      flex-wrap:wrap;\n",
              "      gap: 12px;\n",
              "    }\n",
              "\n",
              "    .colab-df-convert {\n",
              "      background-color: #E8F0FE;\n",
              "      border: none;\n",
              "      border-radius: 50%;\n",
              "      cursor: pointer;\n",
              "      display: none;\n",
              "      fill: #1967D2;\n",
              "      height: 32px;\n",
              "      padding: 0 0 0 0;\n",
              "      width: 32px;\n",
              "    }\n",
              "\n",
              "    .colab-df-convert:hover {\n",
              "      background-color: #E2EBFA;\n",
              "      box-shadow: 0px 1px 2px rgba(60, 64, 67, 0.3), 0px 1px 3px 1px rgba(60, 64, 67, 0.15);\n",
              "      fill: #174EA6;\n",
              "    }\n",
              "\n",
              "    [theme=dark] .colab-df-convert {\n",
              "      background-color: #3B4455;\n",
              "      fill: #D2E3FC;\n",
              "    }\n",
              "\n",
              "    [theme=dark] .colab-df-convert:hover {\n",
              "      background-color: #434B5C;\n",
              "      box-shadow: 0px 1px 3px 1px rgba(0, 0, 0, 0.15);\n",
              "      filter: drop-shadow(0px 1px 2px rgba(0, 0, 0, 0.3));\n",
              "      fill: #FFFFFF;\n",
              "    }\n",
              "  </style>\n",
              "\n",
              "      <script>\n",
              "        const buttonEl =\n",
              "          document.querySelector('#df-e8c5cd33-68ec-44eb-8a73-59681ff44845 button.colab-df-convert');\n",
              "        buttonEl.style.display =\n",
              "          google.colab.kernel.accessAllowed ? 'block' : 'none';\n",
              "\n",
              "        async function convertToInteractive(key) {\n",
              "          const element = document.querySelector('#df-e8c5cd33-68ec-44eb-8a73-59681ff44845');\n",
              "          const dataTable =\n",
              "            await google.colab.kernel.invokeFunction('convertToInteractive',\n",
              "                                                     [key], {});\n",
              "          if (!dataTable) return;\n",
              "\n",
              "          const docLinkHtml = 'Like what you see? Visit the ' +\n",
              "            '<a target=\"_blank\" href=https://colab.research.google.com/notebooks/data_table.ipynb>data table notebook</a>'\n",
              "            + ' to learn more about interactive tables.';\n",
              "          element.innerHTML = '';\n",
              "          dataTable['output_type'] = 'display_data';\n",
              "          await google.colab.output.renderOutput(dataTable, element);\n",
              "          const docLink = document.createElement('div');\n",
              "          docLink.innerHTML = docLinkHtml;\n",
              "          element.appendChild(docLink);\n",
              "        }\n",
              "      </script>\n",
              "    </div>\n",
              "  </div>\n",
              "  "
            ]
          },
          "metadata": {},
          "execution_count": 8
        }
      ]
    },
    {
      "cell_type": "code",
      "source": [
        "# Changing Columns names to simple names for easy using purpose\n",
        "happiness = happiness.rename(index = str,\n",
        "                             columns = {'Explained by: GDP per capita': 'GDP per capita',\n",
        "                                        'Explained by: Social support': 'Social support',\n",
        "                                        'Explained by: Healthy life expectancy': 'Healthy life expectancy',\n",
        "                                        'Explained by: Freedom to make life choices': 'Freedom to make life choices',\n",
        "                                        'Explained by: Generosity': 'Generosity',\n",
        "                                        'Explained by: Perceptions of corruption': 'Perceptions of corruption'\n",
        "                                        })"
      ],
      "metadata": {
        "id": "Za6otghaSFv1"
      },
      "execution_count": null,
      "outputs": []
    },
    {
      "cell_type": "code",
      "source": [
        "happiness.head()"
      ],
      "metadata": {
        "colab": {
          "base_uri": "https://localhost:8080/",
          "height": 285
        },
        "id": "7CZAys1WSLpl",
        "outputId": "dd7935ef-2133-4f66-8bd8-858387288118"
      },
      "execution_count": null,
      "outputs": [
        {
          "output_type": "execute_result",
          "data": {
            "text/plain": [
              "  RANK      Country  Happiness score  Whisker-high  Whisker-low  \\\n",
              "0    1      FINLAND            7.821         7.886        7.756   \n",
              "1    2      DENMARK            7.636         7.710        7.563   \n",
              "2    3      ICELAND            7.557         7.651        7.464   \n",
              "3    4  SWITZERLAND            7.512         7.586        7.437   \n",
              "4    5  NETHERLANDS            7.415         7.471        7.359   \n",
              "\n",
              "   Dystopia (1.83) + residual  GDP per capita  Social support  \\\n",
              "0                       2.518           1.892           1.258   \n",
              "1                       2.226           1.953           1.243   \n",
              "2                       2.320           1.936           1.320   \n",
              "3                       2.153           2.026           1.226   \n",
              "4                       2.137           1.945           1.206   \n",
              "\n",
              "   Healthy life expectancy  Freedom to make life choices  Generosity  \\\n",
              "0                    0.775                         0.736       0.109   \n",
              "1                    0.777                         0.719       0.188   \n",
              "2                    0.803                         0.718       0.270   \n",
              "3                    0.822                         0.677       0.147   \n",
              "4                    0.787                         0.651       0.271   \n",
              "\n",
              "   Perceptions of corruption  \n",
              "0                      0.534  \n",
              "1                      0.532  \n",
              "2                      0.191  \n",
              "3                      0.461  \n",
              "4                      0.419  "
            ],
            "text/html": [
              "\n",
              "  <div id=\"df-3798363c-719e-4069-ba71-13fcb01ddaad\">\n",
              "    <div class=\"colab-df-container\">\n",
              "      <div>\n",
              "<style scoped>\n",
              "    .dataframe tbody tr th:only-of-type {\n",
              "        vertical-align: middle;\n",
              "    }\n",
              "\n",
              "    .dataframe tbody tr th {\n",
              "        vertical-align: top;\n",
              "    }\n",
              "\n",
              "    .dataframe thead th {\n",
              "        text-align: right;\n",
              "    }\n",
              "</style>\n",
              "<table border=\"1\" class=\"dataframe\">\n",
              "  <thead>\n",
              "    <tr style=\"text-align: right;\">\n",
              "      <th></th>\n",
              "      <th>RANK</th>\n",
              "      <th>Country</th>\n",
              "      <th>Happiness score</th>\n",
              "      <th>Whisker-high</th>\n",
              "      <th>Whisker-low</th>\n",
              "      <th>Dystopia (1.83) + residual</th>\n",
              "      <th>GDP per capita</th>\n",
              "      <th>Social support</th>\n",
              "      <th>Healthy life expectancy</th>\n",
              "      <th>Freedom to make life choices</th>\n",
              "      <th>Generosity</th>\n",
              "      <th>Perceptions of corruption</th>\n",
              "    </tr>\n",
              "  </thead>\n",
              "  <tbody>\n",
              "    <tr>\n",
              "      <th>0</th>\n",
              "      <td>1</td>\n",
              "      <td>FINLAND</td>\n",
              "      <td>7.821</td>\n",
              "      <td>7.886</td>\n",
              "      <td>7.756</td>\n",
              "      <td>2.518</td>\n",
              "      <td>1.892</td>\n",
              "      <td>1.258</td>\n",
              "      <td>0.775</td>\n",
              "      <td>0.736</td>\n",
              "      <td>0.109</td>\n",
              "      <td>0.534</td>\n",
              "    </tr>\n",
              "    <tr>\n",
              "      <th>1</th>\n",
              "      <td>2</td>\n",
              "      <td>DENMARK</td>\n",
              "      <td>7.636</td>\n",
              "      <td>7.710</td>\n",
              "      <td>7.563</td>\n",
              "      <td>2.226</td>\n",
              "      <td>1.953</td>\n",
              "      <td>1.243</td>\n",
              "      <td>0.777</td>\n",
              "      <td>0.719</td>\n",
              "      <td>0.188</td>\n",
              "      <td>0.532</td>\n",
              "    </tr>\n",
              "    <tr>\n",
              "      <th>2</th>\n",
              "      <td>3</td>\n",
              "      <td>ICELAND</td>\n",
              "      <td>7.557</td>\n",
              "      <td>7.651</td>\n",
              "      <td>7.464</td>\n",
              "      <td>2.320</td>\n",
              "      <td>1.936</td>\n",
              "      <td>1.320</td>\n",
              "      <td>0.803</td>\n",
              "      <td>0.718</td>\n",
              "      <td>0.270</td>\n",
              "      <td>0.191</td>\n",
              "    </tr>\n",
              "    <tr>\n",
              "      <th>3</th>\n",
              "      <td>4</td>\n",
              "      <td>SWITZERLAND</td>\n",
              "      <td>7.512</td>\n",
              "      <td>7.586</td>\n",
              "      <td>7.437</td>\n",
              "      <td>2.153</td>\n",
              "      <td>2.026</td>\n",
              "      <td>1.226</td>\n",
              "      <td>0.822</td>\n",
              "      <td>0.677</td>\n",
              "      <td>0.147</td>\n",
              "      <td>0.461</td>\n",
              "    </tr>\n",
              "    <tr>\n",
              "      <th>4</th>\n",
              "      <td>5</td>\n",
              "      <td>NETHERLANDS</td>\n",
              "      <td>7.415</td>\n",
              "      <td>7.471</td>\n",
              "      <td>7.359</td>\n",
              "      <td>2.137</td>\n",
              "      <td>1.945</td>\n",
              "      <td>1.206</td>\n",
              "      <td>0.787</td>\n",
              "      <td>0.651</td>\n",
              "      <td>0.271</td>\n",
              "      <td>0.419</td>\n",
              "    </tr>\n",
              "  </tbody>\n",
              "</table>\n",
              "</div>\n",
              "      <button class=\"colab-df-convert\" onclick=\"convertToInteractive('df-3798363c-719e-4069-ba71-13fcb01ddaad')\"\n",
              "              title=\"Convert this dataframe to an interactive table.\"\n",
              "              style=\"display:none;\">\n",
              "        \n",
              "  <svg xmlns=\"http://www.w3.org/2000/svg\" height=\"24px\"viewBox=\"0 0 24 24\"\n",
              "       width=\"24px\">\n",
              "    <path d=\"M0 0h24v24H0V0z\" fill=\"none\"/>\n",
              "    <path d=\"M18.56 5.44l.94 2.06.94-2.06 2.06-.94-2.06-.94-.94-2.06-.94 2.06-2.06.94zm-11 1L8.5 8.5l.94-2.06 2.06-.94-2.06-.94L8.5 2.5l-.94 2.06-2.06.94zm10 10l.94 2.06.94-2.06 2.06-.94-2.06-.94-.94-2.06-.94 2.06-2.06.94z\"/><path d=\"M17.41 7.96l-1.37-1.37c-.4-.4-.92-.59-1.43-.59-.52 0-1.04.2-1.43.59L10.3 9.45l-7.72 7.72c-.78.78-.78 2.05 0 2.83L4 21.41c.39.39.9.59 1.41.59.51 0 1.02-.2 1.41-.59l7.78-7.78 2.81-2.81c.8-.78.8-2.07 0-2.86zM5.41 20L4 18.59l7.72-7.72 1.47 1.35L5.41 20z\"/>\n",
              "  </svg>\n",
              "      </button>\n",
              "      \n",
              "  <style>\n",
              "    .colab-df-container {\n",
              "      display:flex;\n",
              "      flex-wrap:wrap;\n",
              "      gap: 12px;\n",
              "    }\n",
              "\n",
              "    .colab-df-convert {\n",
              "      background-color: #E8F0FE;\n",
              "      border: none;\n",
              "      border-radius: 50%;\n",
              "      cursor: pointer;\n",
              "      display: none;\n",
              "      fill: #1967D2;\n",
              "      height: 32px;\n",
              "      padding: 0 0 0 0;\n",
              "      width: 32px;\n",
              "    }\n",
              "\n",
              "    .colab-df-convert:hover {\n",
              "      background-color: #E2EBFA;\n",
              "      box-shadow: 0px 1px 2px rgba(60, 64, 67, 0.3), 0px 1px 3px 1px rgba(60, 64, 67, 0.15);\n",
              "      fill: #174EA6;\n",
              "    }\n",
              "\n",
              "    [theme=dark] .colab-df-convert {\n",
              "      background-color: #3B4455;\n",
              "      fill: #D2E3FC;\n",
              "    }\n",
              "\n",
              "    [theme=dark] .colab-df-convert:hover {\n",
              "      background-color: #434B5C;\n",
              "      box-shadow: 0px 1px 3px 1px rgba(0, 0, 0, 0.15);\n",
              "      filter: drop-shadow(0px 1px 2px rgba(0, 0, 0, 0.3));\n",
              "      fill: #FFFFFF;\n",
              "    }\n",
              "  </style>\n",
              "\n",
              "      <script>\n",
              "        const buttonEl =\n",
              "          document.querySelector('#df-3798363c-719e-4069-ba71-13fcb01ddaad button.colab-df-convert');\n",
              "        buttonEl.style.display =\n",
              "          google.colab.kernel.accessAllowed ? 'block' : 'none';\n",
              "\n",
              "        async function convertToInteractive(key) {\n",
              "          const element = document.querySelector('#df-3798363c-719e-4069-ba71-13fcb01ddaad');\n",
              "          const dataTable =\n",
              "            await google.colab.kernel.invokeFunction('convertToInteractive',\n",
              "                                                     [key], {});\n",
              "          if (!dataTable) return;\n",
              "\n",
              "          const docLinkHtml = 'Like what you see? Visit the ' +\n",
              "            '<a target=\"_blank\" href=https://colab.research.google.com/notebooks/data_table.ipynb>data table notebook</a>'\n",
              "            + ' to learn more about interactive tables.';\n",
              "          element.innerHTML = '';\n",
              "          dataTable['output_type'] = 'display_data';\n",
              "          await google.colab.output.renderOutput(dataTable, element);\n",
              "          const docLink = document.createElement('div');\n",
              "          docLink.innerHTML = docLinkHtml;\n",
              "          element.appendChild(docLink);\n",
              "        }\n",
              "      </script>\n",
              "    </div>\n",
              "  </div>\n",
              "  "
            ]
          },
          "metadata": {},
          "execution_count": 10
        }
      ]
    },
    {
      "cell_type": "markdown",
      "source": [
        "## **ANALYSIS**"
      ],
      "metadata": {
        "id": "O5z-fu0Aa3_3"
      }
    },
    {
      "cell_type": "markdown",
      "source": [
        "## Happiness Variable"
      ],
      "metadata": {
        "id": "eB_JQoU5a_m6"
      }
    },
    {
      "cell_type": "markdown",
      "source": [
        "There are six variables that are the key to measuring the happiness of a country.\n",
        "\n",
        "They are:\n",
        "\n",
        "1. **GDP per Capita:** Represent the GDP per capita level of a country. Can also mean the country’s level of wealth.\n",
        "2. **Social Support:** Represent the satisfaction level of having relatives or friends that can be counted on when needed.\n",
        "3. **Healthy Life Expectancy:** Represent the average number of “healthy” years a child at birth is estimated to live.\n",
        "4. **Freedom to Make Life Choices:** Represent the satisfaction level of the population's freedom to choose what to do with their life\n",
        "5. **Generosity:** Represent the willingness level of people on helping each other.\n",
        "6. **Perceptions of Corruption:** The measure of how people think about how corruption in the country is. Can also mean the level of trust in business and government."
      ],
      "metadata": {
        "id": "FkK559GbbDqp"
      }
    },
    {
      "cell_type": "markdown",
      "source": [
        "**Happiness Varibale Box Plot**"
      ],
      "metadata": {
        "id": "An_-DdwBbc2q"
      }
    },
    {
      "cell_type": "markdown",
      "source": [
        "Box plot could show if there are certain variables that possibly represent the overall condition of world happiness."
      ],
      "metadata": {
        "id": "TTtIa44KbqQ8"
      }
    },
    {
      "cell_type": "code",
      "source": [
        "cols = ['GDP per capita',\n",
        "       'Social support', 'Healthy life expectancy',\n",
        "       'Freedom to make life choices', 'Generosity',\n",
        "       'Perceptions of corruption',]\n",
        "\n",
        "# Unpivot or melt the dataframe\n",
        "df_melt = pd.melt(happiness, id_vars=['Country'], \n",
        "                  value_vars=cols, \n",
        "                  var_name='variable', \n",
        "                  value_name='point')"
      ],
      "metadata": {
        "id": "UdQWbvI7UvuL"
      },
      "execution_count": null,
      "outputs": []
    },
    {
      "cell_type": "code",
      "source": [
        "# Set the figure width and height\n",
        "plt.figure(figsize = (10,6))\n",
        "\n",
        "# Plot the heatmap of correlation between variables in the dataframe\n",
        "ax = sns.boxplot(x='point', y='variable', data=df_melt, linewidth=2, fliersize=6, palette='Set2')\n",
        "\n",
        "# Set the chart style\n",
        "sns.set_style(\"ticks\")\n",
        "sns.despine()\n",
        "\n",
        "# Set the title, the labels, and custom ticks\n",
        "plt.title('The Box Plot of Happiness Variables', fontsize = 18, pad=15)\n",
        "ax.tick_params(labelsize=14)\n",
        "ax.set_xlabel(\"Points\", fontsize=16, labelpad=5)\n",
        "ax.set_ylabel(\"\")\n",
        "ax.tick_params(labelsize=14)\n",
        "\n",
        "# Show the plot\n",
        "plt.show()"
      ],
      "metadata": {
        "colab": {
          "base_uri": "https://localhost:8080/",
          "height": 427
        },
        "id": "99piFON0U5Pj",
        "outputId": "a9c27dcb-86b5-4e47-81c0-e2db376a407f"
      },
      "execution_count": null,
      "outputs": [
        {
          "output_type": "display_data",
          "data": {
            "text/plain": [
              "<Figure size 720x432 with 1 Axes>"
            ],
            "image/png": "[encoded data removed]"
          },
          "metadata": {
            "needs_background": "light"
          }
        }
      ]
    },
    {
      "cell_type": "markdown",
      "source": [
        "The graph shows that even though some variables have outliers, those outliers are representing a condition of a country. But, the Perceptions of corruption variable has the most outliers among all variables. Those outliers represent the countries with **high trust** in the goverment/business or simply has lower corruption level. This means, that corruption is still a major problem in most of the world."
      ],
      "metadata": {
        "id": "7Nhv6jrBbxS-"
      }
    },
    {
      "cell_type": "markdown",
      "source": [
        "**How Score Variable Measured?**"
      ],
      "metadata": {
        "id": "EH1SEA-hb0VM"
      }
    },
    {
      "cell_type": "markdown",
      "source": [
        "The score variable is not measured by just adding each of the factors that made a country happy or not."
      ],
      "metadata": {
        "id": "_mRIY--Db4oU"
      }
    },
    {
      "cell_type": "code",
      "source": [
        "happiness[\"Check\"] = happiness[['GDP per capita',\n",
        "       'Social support', 'Healthy life expectancy',\n",
        "       'Freedom to make life choices', 'Generosity',\n",
        "       'Perceptions of corruption']].sum(axis = 1)\n",
        "\n",
        "happiness[happiness['Check'] != happiness['Happiness score']].any()"
      ],
      "metadata": {
        "colab": {
          "base_uri": "https://localhost:8080/"
        },
        "id": "oDoW-6PzVADb",
        "outputId": "55a69b95-4297-46ba-d305-bbd6457df796"
      },
      "execution_count": null,
      "outputs": [
        {
          "output_type": "execute_result",
          "data": {
            "text/plain": [
              "RANK                            True\n",
              "Country                         True\n",
              "Happiness score                 True\n",
              "Whisker-high                    True\n",
              "Whisker-low                     True\n",
              "Dystopia (1.83) + residual      True\n",
              "GDP per capita                  True\n",
              "Social support                  True\n",
              "Healthy life expectancy         True\n",
              "Freedom to make life choices    True\n",
              "Generosity                      True\n",
              "Perceptions of corruption       True\n",
              "Check                           True\n",
              "dtype: bool"
            ]
          },
          "metadata": {},
          "execution_count": 13
        }
      ]
    },
    {
      "cell_type": "code",
      "source": [
        "happiness[['Check', 'Happiness score']].sample(5)"
      ],
      "metadata": {
        "colab": {
          "base_uri": "https://localhost:8080/",
          "height": 206
        },
        "id": "CQvo8sV6VVhb",
        "outputId": "26855ddf-152e-4a15-ec47-f62e09cc759e"
      },
      "execution_count": null,
      "outputs": [
        {
          "output_type": "execute_result",
          "data": {
            "text/plain": [
              "     Check  Happiness score\n",
              "119  2.976            4.516\n",
              "53   4.552            6.039\n",
              "10   5.015            7.163\n",
              "115  2.304            4.609\n",
              "46   4.241            6.125"
            ],
            "text/html": [
              "\n",
              "  <div id=\"df-cb03e076-d150-4e1c-9632-2457bd9ef04e\">\n",
              "    <div class=\"colab-df-container\">\n",
              "      <div>\n",
              "<style scoped>\n",
              "    .dataframe tbody tr th:only-of-type {\n",
              "        vertical-align: middle;\n",
              "    }\n",
              "\n",
              "    .dataframe tbody tr th {\n",
              "        vertical-align: top;\n",
              "    }\n",
              "\n",
              "    .dataframe thead th {\n",
              "        text-align: right;\n",
              "    }\n",
              "</style>\n",
              "<table border=\"1\" class=\"dataframe\">\n",
              "  <thead>\n",
              "    <tr style=\"text-align: right;\">\n",
              "      <th></th>\n",
              "      <th>Check</th>\n",
              "      <th>Happiness score</th>\n",
              "    </tr>\n",
              "  </thead>\n",
              "  <tbody>\n",
              "    <tr>\n",
              "      <th>119</th>\n",
              "      <td>2.976</td>\n",
              "      <td>4.516</td>\n",
              "    </tr>\n",
              "    <tr>\n",
              "      <th>53</th>\n",
              "      <td>4.552</td>\n",
              "      <td>6.039</td>\n",
              "    </tr>\n",
              "    <tr>\n",
              "      <th>10</th>\n",
              "      <td>5.015</td>\n",
              "      <td>7.163</td>\n",
              "    </tr>\n",
              "    <tr>\n",
              "      <th>115</th>\n",
              "      <td>2.304</td>\n",
              "      <td>4.609</td>\n",
              "    </tr>\n",
              "    <tr>\n",
              "      <th>46</th>\n",
              "      <td>4.241</td>\n",
              "      <td>6.125</td>\n",
              "    </tr>\n",
              "  </tbody>\n",
              "</table>\n",
              "</div>\n",
              "      <button class=\"colab-df-convert\" onclick=\"convertToInteractive('df-cb03e076-d150-4e1c-9632-2457bd9ef04e')\"\n",
              "              title=\"Convert this dataframe to an interactive table.\"\n",
              "              style=\"display:none;\">\n",
              "        \n",
              "  <svg xmlns=\"http://www.w3.org/2000/svg\" height=\"24px\"viewBox=\"0 0 24 24\"\n",
              "       width=\"24px\">\n",
              "    <path d=\"M0 0h24v24H0V0z\" fill=\"none\"/>\n",
              "    <path d=\"M18.56 5.44l.94 2.06.94-2.06 2.06-.94-2.06-.94-.94-2.06-.94 2.06-2.06.94zm-11 1L8.5 8.5l.94-2.06 2.06-.94-2.06-.94L8.5 2.5l-.94 2.06-2.06.94zm10 10l.94 2.06.94-2.06 2.06-.94-2.06-.94-.94-2.06-.94 2.06-2.06.94z\"/><path d=\"M17.41 7.96l-1.37-1.37c-.4-.4-.92-.59-1.43-.59-.52 0-1.04.2-1.43.59L10.3 9.45l-7.72 7.72c-.78.78-.78 2.05 0 2.83L4 21.41c.39.39.9.59 1.41.59.51 0 1.02-.2 1.41-.59l7.78-7.78 2.81-2.81c.8-.78.8-2.07 0-2.86zM5.41 20L4 18.59l7.72-7.72 1.47 1.35L5.41 20z\"/>\n",
              "  </svg>\n",
              "      </button>\n",
              "      \n",
              "  <style>\n",
              "    .colab-df-container {\n",
              "      display:flex;\n",
              "      flex-wrap:wrap;\n",
              "      gap: 12px;\n",
              "    }\n",
              "\n",
              "    .colab-df-convert {\n",
              "      background-color: #E8F0FE;\n",
              "      border: none;\n",
              "      border-radius: 50%;\n",
              "      cursor: pointer;\n",
              "      display: none;\n",
              "      fill: #1967D2;\n",
              "      height: 32px;\n",
              "      padding: 0 0 0 0;\n",
              "      width: 32px;\n",
              "    }\n",
              "\n",
              "    .colab-df-convert:hover {\n",
              "      background-color: #E2EBFA;\n",
              "      box-shadow: 0px 1px 2px rgba(60, 64, 67, 0.3), 0px 1px 3px 1px rgba(60, 64, 67, 0.15);\n",
              "      fill: #174EA6;\n",
              "    }\n",
              "\n",
              "    [theme=dark] .colab-df-convert {\n",
              "      background-color: #3B4455;\n",
              "      fill: #D2E3FC;\n",
              "    }\n",
              "\n",
              "    [theme=dark] .colab-df-convert:hover {\n",
              "      background-color: #434B5C;\n",
              "      box-shadow: 0px 1px 3px 1px rgba(0, 0, 0, 0.15);\n",
              "      filter: drop-shadow(0px 1px 2px rgba(0, 0, 0, 0.3));\n",
              "      fill: #FFFFFF;\n",
              "    }\n",
              "  </style>\n",
              "\n",
              "      <script>\n",
              "        const buttonEl =\n",
              "          document.querySelector('#df-cb03e076-d150-4e1c-9632-2457bd9ef04e button.colab-df-convert');\n",
              "        buttonEl.style.display =\n",
              "          google.colab.kernel.accessAllowed ? 'block' : 'none';\n",
              "\n",
              "        async function convertToInteractive(key) {\n",
              "          const element = document.querySelector('#df-cb03e076-d150-4e1c-9632-2457bd9ef04e');\n",
              "          const dataTable =\n",
              "            await google.colab.kernel.invokeFunction('convertToInteractive',\n",
              "                                                     [key], {});\n",
              "          if (!dataTable) return;\n",
              "\n",
              "          const docLinkHtml = 'Like what you see? Visit the ' +\n",
              "            '<a target=\"_blank\" href=https://colab.research.google.com/notebooks/data_table.ipynb>data table notebook</a>'\n",
              "            + ' to learn more about interactive tables.';\n",
              "          element.innerHTML = '';\n",
              "          dataTable['output_type'] = 'display_data';\n",
              "          await google.colab.output.renderOutput(dataTable, element);\n",
              "          const docLink = document.createElement('div');\n",
              "          docLink.innerHTML = docLinkHtml;\n",
              "          element.appendChild(docLink);\n",
              "        }\n",
              "      </script>\n",
              "    </div>\n",
              "  </div>\n",
              "  "
            ]
          },
          "metadata": {},
          "execution_count": 14
        }
      ]
    },
    {
      "cell_type": "code",
      "source": [
        "happiness.drop(\"Check\", axis=1, inplace=True)"
      ],
      "metadata": {
        "id": "JfHX-RAmVlMj"
      },
      "execution_count": null,
      "outputs": []
    },
    {
      "cell_type": "markdown",
      "source": [
        "**Score Variable Distribution**"
      ],
      "metadata": {
        "id": "zthRHqWXcADi"
      }
    },
    {
      "cell_type": "markdown",
      "source": [
        "As the most crucial part to determine the level of happiness in a country, the score measurements should get more attention here. First, let's look at how the values are distributed."
      ],
      "metadata": {
        "id": "1af7TeetcCeH"
      }
    },
    {
      "cell_type": "code",
      "source": [
        "plt.figure(figsize = (8, 6)) # Set the figure width and height\n",
        "\n",
        "# Plot the distribution of the score measurement\n",
        "ax = sns.histplot(happiness['Happiness score'], kde=True)\n",
        "\n",
        "# Set the title, the labels, and custom ticks\n",
        "plt.title('The Distribution of Score Variable', fontsize = 16, pad=10)\n",
        "ax.set_xlabel(\"Happiness Score\", fontsize=14, labelpad=5)\n",
        "ax.set_ylabel(\"Count\", fontsize=14, labelpad=5)\n",
        "ax.tick_params(labelsize=12)\n",
        "\n",
        "# Show the plot\n",
        "plt.show()"
      ],
      "metadata": {
        "colab": {
          "base_uri": "https://localhost:8080/",
          "height": 418
        },
        "id": "o7lB2JrLVpxL",
        "outputId": "22aa3069-e1dd-493e-f95e-772fe8904472"
      },
      "execution_count": null,
      "outputs": [
        {
          "output_type": "display_data",
          "data": {
            "text/plain": [
              "<Figure size 576x432 with 1 Axes>"
            ],
            "image/png": "[encoded data removed]"
          },
          "metadata": {}
        }
      ]
    },
    {
      "cell_type": "markdown",
      "source": [
        "From the visual above, the score variable has quite bell-shaped graph and the values are mostly laid near the mean value, which is **5.55**"
      ],
      "metadata": {
        "id": "zNsj-hAkcKPX"
      }
    },
    {
      "cell_type": "code",
      "source": [
        "# Check the mean, median, mode of the Score variable\n",
        "score_mean = round(happiness['Happiness score'].mean(), 2)\n",
        "score_median = round(happiness['Happiness score'].median(), 2)\n",
        "score_mode = round(happiness['Happiness score'].mode()[0] , 2)\n",
        "\n",
        "# Print the result\n",
        "print('Score variable central tendency calculation\"')\n",
        "print('Mean    : {}\\nMedian  : {}\\nMode    : {}'. format(score_mean, score_median, score_mode))"
      ],
      "metadata": {
        "colab": {
          "base_uri": "https://localhost:8080/"
        },
        "id": "uUrVIqumVs7z",
        "outputId": "29bb72e4-f278-4427-e6ba-0dbda7a5b948"
      },
      "execution_count": null,
      "outputs": [
        {
          "output_type": "stream",
          "name": "stdout",
          "text": [
            "Score variable central tendency calculation\"\n",
            "Mean    : 5.55\n",
            "Median  : 5.57\n",
            "Mode    : 4.52\n"
          ]
        }
      ]
    },
    {
      "cell_type": "markdown",
      "source": [
        "The central tendency calculation from the Score variables also shows that the graph would have a bell-shaped curve, and the mean can be used as the central tendency from the variable."
      ],
      "metadata": {
        "id": "jxOnU5VpcbBr"
      }
    },
    {
      "cell_type": "markdown",
      "source": [
        "**Correlation Between Happiness Variables**"
      ],
      "metadata": {
        "id": "QGYFeQg2cbmX"
      }
    },
    {
      "cell_type": "markdown",
      "source": [
        "Is it possible from the six variables that determine the happiness level of a country, that there is a certain variable that highly affects it? Let's find out about it."
      ],
      "metadata": {
        "id": "9mtvYMOKcggQ"
      }
    },
    {
      "cell_type": "code",
      "source": [
        "# Get the correlation between variables in the dataframe\n",
        "corr = happiness.corr()\n",
        "\n",
        "# Set the figure width and height\n",
        "plt.figure(figsize = (8,4))\n",
        "\n",
        "# Set the color to use for the heatmap\n",
        "cmap = sns.color_palette(\"OrRd\", as_cmap=True)\n",
        "\n",
        "# Plot the heatmap of correlation between variables in the dataframe\n",
        "ax = sns.heatmap(corr, cbar=True, annot=True, annot_kws={\"size\":12}, cmap=cmap, linewidths=1, linecolor='white')\n",
        "\n",
        "# Set the title, the labels, and custom ticks\n",
        "plt.title('Heatmap of Variables Correlation', fontsize = 16, pad=10)\n",
        "ax.tick_params(labelsize=12)\n",
        "\n",
        "# Show the plot\n",
        "plt.show()"
      ],
      "metadata": {
        "colab": {
          "base_uri": "https://localhost:8080/",
          "height": 453
        },
        "id": "it9WPW1EV-2a",
        "outputId": "e6d67ec7-317f-4bba-c812-640803b19d71"
      },
      "execution_count": null,
      "outputs": [
        {
          "output_type": "display_data",
          "data": {
            "text/plain": [
              "<Figure size 576x288 with 2 Axes>"
            ],
            "image/png": "[encoded data removed]"
          },
          "metadata": {}
        }
      ]
    },
    {
      "cell_type": "markdown",
      "source": [
        "It looks like **GDP per Capita**, **Social Support** have the greatest correlation with the happiness score each country made, which are above 0.75.\n",
        "\n"
      ],
      "metadata": {
        "id": "Brp_CY_oeXYh"
      }
    },
    {
      "cell_type": "markdown",
      "source": [
        "**World Happiest Countries in 2022**"
      ],
      "metadata": {
        "id": "zMIRhWQ6ej2J"
      }
    },
    {
      "cell_type": "markdown",
      "source": [
        "Which countries are belong to the happiest countries based on this data? Let's see the top 10 of them."
      ],
      "metadata": {
        "id": "59BM_syvep-l"
      }
    },
    {
      "cell_type": "code",
      "source": [
        "# Top 10 happiest countries\n",
        "happy_10 = happiness[['Country', 'Happiness score']].head(10)"
      ],
      "metadata": {
        "id": "ZgkaxRyVWDki"
      },
      "execution_count": null,
      "outputs": []
    },
    {
      "cell_type": "code",
      "source": [
        "plt.figure(figsize = (8,6)) # Set the figure width and height\n",
        "\n",
        "# Bar chart showing top 20 countries with highest contribution of GDP per capita on Hapiness level\n",
        "ax = sns.barplot(x='Happiness score', y='Country', data=happy_10, palette='rainbow_r')\n",
        "\n",
        "# Set the chart style\n",
        "sns.set_style(\"ticks\")\n",
        "sns.despine()\n",
        "\n",
        "# Set the title, the labels, and custom ticks\n",
        "plt.title(\"Top 10 Happiest Countries in The World - 2022\", fontsize = 16, pad=10)\n",
        "ax.set_xlabel(\"Happiness Points\", fontsize=14, labelpad=5)\n",
        "ax.set_ylabel(\"\")\n",
        "ax.tick_params(labelsize=12)\n",
        "\n",
        "# Show the plot\n",
        "plt.show()"
      ],
      "metadata": {
        "colab": {
          "base_uri": "https://localhost:8080/",
          "height": 418
        },
        "id": "ICoJCUVFWMJi",
        "outputId": "c096109a-c5d9-4173-ed3b-6254b69989ce"
      },
      "execution_count": null,
      "outputs": [
        {
          "output_type": "display_data",
          "data": {
            "text/plain": [
              "<Figure size 576x432 with 1 Axes>"
            ],
            "image/png": "[encoded data removed]"
          },
          "metadata": {}
        }
      ]
    },
    {
      "cell_type": "markdown",
      "source": [
        "In 2022, Finland, Denmark, Norway, Iceland, and Sweden that also known as the Nordic countries, dominated the list. Let's analyze how Nordic countries were able to secure the top 10 spots. Let's start with finding variables that highly affected their happiness score."
      ],
      "metadata": {
        "id": "UP98bZNpQ4wS"
      }
    },
    {
      "cell_type": "code",
      "source": [
        "# Create a new dataframe for Nordic countries\n",
        "country = ['finland', 'denmark', 'norway', 'iceland', 'sweden']\n",
        "nordic = happiness[happiness['Country'].str.lower().isin(country)]\n",
        "nordic"
      ],
      "metadata": {
        "colab": {
          "base_uri": "https://localhost:8080/",
          "height": 285
        },
        "id": "yb0UOA1uRLCu",
        "outputId": "2115ca6e-3208-4c2e-a759-849299759d02"
      },
      "execution_count": null,
      "outputs": [
        {
          "output_type": "execute_result",
          "data": {
            "text/plain": [
              "  RANK  Country  Happiness score  Whisker-high  Whisker-low  \\\n",
              "0    1  FINLAND            7.821         7.886        7.756   \n",
              "1    2  DENMARK            7.636         7.710        7.563   \n",
              "2    3  ICELAND            7.557         7.651        7.464   \n",
              "6    7   SWEDEN            7.384         7.454        7.315   \n",
              "7    8   NORWAY            7.365         7.440        7.290   \n",
              "\n",
              "   Dystopia (1.83) + residual  GDP per capita  Social support  \\\n",
              "0                       2.518           1.892           1.258   \n",
              "1                       2.226           1.953           1.243   \n",
              "2                       2.320           1.936           1.320   \n",
              "6                       2.003           1.920           1.204   \n",
              "7                       1.925           1.997           1.239   \n",
              "\n",
              "   Healthy life expectancy  Freedom to make life choices  Generosity  \\\n",
              "0                    0.775                         0.736       0.109   \n",
              "1                    0.777                         0.719       0.188   \n",
              "2                    0.803                         0.718       0.270   \n",
              "6                    0.803                         0.724       0.218   \n",
              "7                    0.786                         0.728       0.217   \n",
              "\n",
              "   Perceptions of corruption  \n",
              "0                      0.534  \n",
              "1                      0.532  \n",
              "2                      0.191  \n",
              "6                      0.512  \n",
              "7                      0.474  "
            ],
            "text/html": [
              "\n",
              "  <div id=\"df-a8e498fa-5667-48b3-994c-1cab9597b2f8\">\n",
              "    <div class=\"colab-df-container\">\n",
              "      <div>\n",
              "<style scoped>\n",
              "    .dataframe tbody tr th:only-of-type {\n",
              "        vertical-align: middle;\n",
              "    }\n",
              "\n",
              "    .dataframe tbody tr th {\n",
              "        vertical-align: top;\n",
              "    }\n",
              "\n",
              "    .dataframe thead th {\n",
              "        text-align: right;\n",
              "    }\n",
              "</style>\n",
              "<table border=\"1\" class=\"dataframe\">\n",
              "  <thead>\n",
              "    <tr style=\"text-align: right;\">\n",
              "      <th></th>\n",
              "      <th>RANK</th>\n",
              "      <th>Country</th>\n",
              "      <th>Happiness score</th>\n",
              "      <th>Whisker-high</th>\n",
              "      <th>Whisker-low</th>\n",
              "      <th>Dystopia (1.83) + residual</th>\n",
              "      <th>GDP per capita</th>\n",
              "      <th>Social support</th>\n",
              "      <th>Healthy life expectancy</th>\n",
              "      <th>Freedom to make life choices</th>\n",
              "      <th>Generosity</th>\n",
              "      <th>Perceptions of corruption</th>\n",
              "    </tr>\n",
              "  </thead>\n",
              "  <tbody>\n",
              "    <tr>\n",
              "      <th>0</th>\n",
              "      <td>1</td>\n",
              "      <td>FINLAND</td>\n",
              "      <td>7.821</td>\n",
              "      <td>7.886</td>\n",
              "      <td>7.756</td>\n",
              "      <td>2.518</td>\n",
              "      <td>1.892</td>\n",
              "      <td>1.258</td>\n",
              "      <td>0.775</td>\n",
              "      <td>0.736</td>\n",
              "      <td>0.109</td>\n",
              "      <td>0.534</td>\n",
              "    </tr>\n",
              "    <tr>\n",
              "      <th>1</th>\n",
              "      <td>2</td>\n",
              "      <td>DENMARK</td>\n",
              "      <td>7.636</td>\n",
              "      <td>7.710</td>\n",
              "      <td>7.563</td>\n",
              "      <td>2.226</td>\n",
              "      <td>1.953</td>\n",
              "      <td>1.243</td>\n",
              "      <td>0.777</td>\n",
              "      <td>0.719</td>\n",
              "      <td>0.188</td>\n",
              "      <td>0.532</td>\n",
              "    </tr>\n",
              "    <tr>\n",
              "      <th>2</th>\n",
              "      <td>3</td>\n",
              "      <td>ICELAND</td>\n",
              "      <td>7.557</td>\n",
              "      <td>7.651</td>\n",
              "      <td>7.464</td>\n",
              "      <td>2.320</td>\n",
              "      <td>1.936</td>\n",
              "      <td>1.320</td>\n",
              "      <td>0.803</td>\n",
              "      <td>0.718</td>\n",
              "      <td>0.270</td>\n",
              "      <td>0.191</td>\n",
              "    </tr>\n",
              "    <tr>\n",
              "      <th>6</th>\n",
              "      <td>7</td>\n",
              "      <td>SWEDEN</td>\n",
              "      <td>7.384</td>\n",
              "      <td>7.454</td>\n",
              "      <td>7.315</td>\n",
              "      <td>2.003</td>\n",
              "      <td>1.920</td>\n",
              "      <td>1.204</td>\n",
              "      <td>0.803</td>\n",
              "      <td>0.724</td>\n",
              "      <td>0.218</td>\n",
              "      <td>0.512</td>\n",
              "    </tr>\n",
              "    <tr>\n",
              "      <th>7</th>\n",
              "      <td>8</td>\n",
              "      <td>NORWAY</td>\n",
              "      <td>7.365</td>\n",
              "      <td>7.440</td>\n",
              "      <td>7.290</td>\n",
              "      <td>1.925</td>\n",
              "      <td>1.997</td>\n",
              "      <td>1.239</td>\n",
              "      <td>0.786</td>\n",
              "      <td>0.728</td>\n",
              "      <td>0.217</td>\n",
              "      <td>0.474</td>\n",
              "    </tr>\n",
              "  </tbody>\n",
              "</table>\n",
              "</div>\n",
              "      <button class=\"colab-df-convert\" onclick=\"convertToInteractive('df-a8e498fa-5667-48b3-994c-1cab9597b2f8')\"\n",
              "              title=\"Convert this dataframe to an interactive table.\"\n",
              "              style=\"display:none;\">\n",
              "        \n",
              "  <svg xmlns=\"http://www.w3.org/2000/svg\" height=\"24px\"viewBox=\"0 0 24 24\"\n",
              "       width=\"24px\">\n",
              "    <path d=\"M0 0h24v24H0V0z\" fill=\"none\"/>\n",
              "    <path d=\"M18.56 5.44l.94 2.06.94-2.06 2.06-.94-2.06-.94-.94-2.06-.94 2.06-2.06.94zm-11 1L8.5 8.5l.94-2.06 2.06-.94-2.06-.94L8.5 2.5l-.94 2.06-2.06.94zm10 10l.94 2.06.94-2.06 2.06-.94-2.06-.94-.94-2.06-.94 2.06-2.06.94z\"/><path d=\"M17.41 7.96l-1.37-1.37c-.4-.4-.92-.59-1.43-.59-.52 0-1.04.2-1.43.59L10.3 9.45l-7.72 7.72c-.78.78-.78 2.05 0 2.83L4 21.41c.39.39.9.59 1.41.59.51 0 1.02-.2 1.41-.59l7.78-7.78 2.81-2.81c.8-.78.8-2.07 0-2.86zM5.41 20L4 18.59l7.72-7.72 1.47 1.35L5.41 20z\"/>\n",
              "  </svg>\n",
              "      </button>\n",
              "      \n",
              "  <style>\n",
              "    .colab-df-container {\n",
              "      display:flex;\n",
              "      flex-wrap:wrap;\n",
              "      gap: 12px;\n",
              "    }\n",
              "\n",
              "    .colab-df-convert {\n",
              "      background-color: #E8F0FE;\n",
              "      border: none;\n",
              "      border-radius: 50%;\n",
              "      cursor: pointer;\n",
              "      display: none;\n",
              "      fill: #1967D2;\n",
              "      height: 32px;\n",
              "      padding: 0 0 0 0;\n",
              "      width: 32px;\n",
              "    }\n",
              "\n",
              "    .colab-df-convert:hover {\n",
              "      background-color: #E2EBFA;\n",
              "      box-shadow: 0px 1px 2px rgba(60, 64, 67, 0.3), 0px 1px 3px 1px rgba(60, 64, 67, 0.15);\n",
              "      fill: #174EA6;\n",
              "    }\n",
              "\n",
              "    [theme=dark] .colab-df-convert {\n",
              "      background-color: #3B4455;\n",
              "      fill: #D2E3FC;\n",
              "    }\n",
              "\n",
              "    [theme=dark] .colab-df-convert:hover {\n",
              "      background-color: #434B5C;\n",
              "      box-shadow: 0px 1px 3px 1px rgba(0, 0, 0, 0.15);\n",
              "      filter: drop-shadow(0px 1px 2px rgba(0, 0, 0, 0.3));\n",
              "      fill: #FFFFFF;\n",
              "    }\n",
              "  </style>\n",
              "\n",
              "      <script>\n",
              "        const buttonEl =\n",
              "          document.querySelector('#df-a8e498fa-5667-48b3-994c-1cab9597b2f8 button.colab-df-convert');\n",
              "        buttonEl.style.display =\n",
              "          google.colab.kernel.accessAllowed ? 'block' : 'none';\n",
              "\n",
              "        async function convertToInteractive(key) {\n",
              "          const element = document.querySelector('#df-a8e498fa-5667-48b3-994c-1cab9597b2f8');\n",
              "          const dataTable =\n",
              "            await google.colab.kernel.invokeFunction('convertToInteractive',\n",
              "                                                     [key], {});\n",
              "          if (!dataTable) return;\n",
              "\n",
              "          const docLinkHtml = 'Like what you see? Visit the ' +\n",
              "            '<a target=\"_blank\" href=https://colab.research.google.com/notebooks/data_table.ipynb>data table notebook</a>'\n",
              "            + ' to learn more about interactive tables.';\n",
              "          element.innerHTML = '';\n",
              "          dataTable['output_type'] = 'display_data';\n",
              "          await google.colab.output.renderOutput(dataTable, element);\n",
              "          const docLink = document.createElement('div');\n",
              "          docLink.innerHTML = docLinkHtml;\n",
              "          element.appendChild(docLink);\n",
              "        }\n",
              "      </script>\n",
              "    </div>\n",
              "  </div>\n",
              "  "
            ]
          },
          "metadata": {},
          "execution_count": 38
        }
      ]
    },
    {
      "cell_type": "markdown",
      "source": [
        "**GDP per Capita and Happiness**"
      ],
      "metadata": {
        "id": "caiJE9KVezx4"
      }
    },
    {
      "cell_type": "markdown",
      "source": [
        "First, let's find the countries with the highest GDP per capita points in 2022."
      ],
      "metadata": {
        "id": "rsuX2pdBe3QH"
      }
    },
    {
      "cell_type": "code",
      "source": [
        "# List the top 10 countries with highest GDP per capita points\n",
        "gdp_10 = happiness.sort_values(by='GDP per capita', ascending=False)[['Country', 'GDP per capita', 'RANK']].head(10)"
      ],
      "metadata": {
        "id": "ReSTl2b4WS1a"
      },
      "execution_count": null,
      "outputs": []
    },
    {
      "cell_type": "code",
      "source": [
        "plt.figure(figsize = (8, 6)) # Set the figure width and height\n",
        "\n",
        "# Bar chart showing top 10 countries with highest contribution of GDP per capita on happiness level\n",
        "ax = sns.barplot(x='GDP per capita', y='Country', data=gdp_10, palette='summer')\n",
        "\n",
        "# Set the chart style\n",
        "sns.set_style(\"ticks\")\n",
        "sns.despine()\n",
        "\n",
        "# Set the title, the labels, and custom ticks\n",
        "plt.title(\"Top 10 Countries with Highest Contribution of GDP per Capita on Happiness Level\", fontsize = 16, pad=10)\n",
        "ax.set_xlabel(\"GDP per Capita Points\", fontsize=14, labelpad=5)\n",
        "ax.set_ylabel(\"\")\n",
        "ax.tick_params(labelsize=12)\n",
        "\n",
        "# Show the plot\n",
        "plt.show()\n"
      ],
      "metadata": {
        "colab": {
          "base_uri": "https://localhost:8080/",
          "height": 418
        },
        "id": "fSOACtRZWfZK",
        "outputId": "5a11af2c-379d-4e78-a5cd-e1469fb1e83d"
      },
      "execution_count": null,
      "outputs": [
        {
          "output_type": "display_data",
          "data": {
            "text/plain": [
              "<Figure size 576x432 with 1 Axes>"
            ],
            "image/png": "[encoded data removed]"
          },
          "metadata": {}
        }
      ]
    },
    {
      "cell_type": "markdown",
      "source": [
        "From the GDP per capita variable, it doesn't look like this is a bigger deal in determining the Nordic countries' happiness level. From this list, only Norway is included in this list."
      ],
      "metadata": {
        "id": "HORZrKmgRfG-"
      }
    },
    {
      "cell_type": "code",
      "source": [
        "# Check the country that also Nordic countries\n",
        "gdp_10[gdp_10['Country'].isin(nordic['Country'])].reset_index(drop=True)"
      ],
      "metadata": {
        "colab": {
          "base_uri": "https://localhost:8080/",
          "height": 112
        },
        "id": "glRd3eZGRhVs",
        "outputId": "2febd03f-e71a-47b7-8bfa-1ec25e49c76c"
      },
      "execution_count": null,
      "outputs": [
        {
          "output_type": "execute_result",
          "data": {
            "text/plain": [
              "   Country  GDP per capita RANK\n",
              "0   NORWAY           1.997    8\n",
              "1  DENMARK           1.953    2"
            ],
            "text/html": [
              "\n",
              "  <div id=\"df-ce5fd2c1-e38f-4e13-988e-60c889fa14f0\">\n",
              "    <div class=\"colab-df-container\">\n",
              "      <div>\n",
              "<style scoped>\n",
              "    .dataframe tbody tr th:only-of-type {\n",
              "        vertical-align: middle;\n",
              "    }\n",
              "\n",
              "    .dataframe tbody tr th {\n",
              "        vertical-align: top;\n",
              "    }\n",
              "\n",
              "    .dataframe thead th {\n",
              "        text-align: right;\n",
              "    }\n",
              "</style>\n",
              "<table border=\"1\" class=\"dataframe\">\n",
              "  <thead>\n",
              "    <tr style=\"text-align: right;\">\n",
              "      <th></th>\n",
              "      <th>Country</th>\n",
              "      <th>GDP per capita</th>\n",
              "      <th>RANK</th>\n",
              "    </tr>\n",
              "  </thead>\n",
              "  <tbody>\n",
              "    <tr>\n",
              "      <th>0</th>\n",
              "      <td>NORWAY</td>\n",
              "      <td>1.997</td>\n",
              "      <td>8</td>\n",
              "    </tr>\n",
              "    <tr>\n",
              "      <th>1</th>\n",
              "      <td>DENMARK</td>\n",
              "      <td>1.953</td>\n",
              "      <td>2</td>\n",
              "    </tr>\n",
              "  </tbody>\n",
              "</table>\n",
              "</div>\n",
              "      <button class=\"colab-df-convert\" onclick=\"convertToInteractive('df-ce5fd2c1-e38f-4e13-988e-60c889fa14f0')\"\n",
              "              title=\"Convert this dataframe to an interactive table.\"\n",
              "              style=\"display:none;\">\n",
              "        \n",
              "  <svg xmlns=\"http://www.w3.org/2000/svg\" height=\"24px\"viewBox=\"0 0 24 24\"\n",
              "       width=\"24px\">\n",
              "    <path d=\"M0 0h24v24H0V0z\" fill=\"none\"/>\n",
              "    <path d=\"M18.56 5.44l.94 2.06.94-2.06 2.06-.94-2.06-.94-.94-2.06-.94 2.06-2.06.94zm-11 1L8.5 8.5l.94-2.06 2.06-.94-2.06-.94L8.5 2.5l-.94 2.06-2.06.94zm10 10l.94 2.06.94-2.06 2.06-.94-2.06-.94-.94-2.06-.94 2.06-2.06.94z\"/><path d=\"M17.41 7.96l-1.37-1.37c-.4-.4-.92-.59-1.43-.59-.52 0-1.04.2-1.43.59L10.3 9.45l-7.72 7.72c-.78.78-.78 2.05 0 2.83L4 21.41c.39.39.9.59 1.41.59.51 0 1.02-.2 1.41-.59l7.78-7.78 2.81-2.81c.8-.78.8-2.07 0-2.86zM5.41 20L4 18.59l7.72-7.72 1.47 1.35L5.41 20z\"/>\n",
              "  </svg>\n",
              "      </button>\n",
              "      \n",
              "  <style>\n",
              "    .colab-df-container {\n",
              "      display:flex;\n",
              "      flex-wrap:wrap;\n",
              "      gap: 12px;\n",
              "    }\n",
              "\n",
              "    .colab-df-convert {\n",
              "      background-color: #E8F0FE;\n",
              "      border: none;\n",
              "      border-radius: 50%;\n",
              "      cursor: pointer;\n",
              "      display: none;\n",
              "      fill: #1967D2;\n",
              "      height: 32px;\n",
              "      padding: 0 0 0 0;\n",
              "      width: 32px;\n",
              "    }\n",
              "\n",
              "    .colab-df-convert:hover {\n",
              "      background-color: #E2EBFA;\n",
              "      box-shadow: 0px 1px 2px rgba(60, 64, 67, 0.3), 0px 1px 3px 1px rgba(60, 64, 67, 0.15);\n",
              "      fill: #174EA6;\n",
              "    }\n",
              "\n",
              "    [theme=dark] .colab-df-convert {\n",
              "      background-color: #3B4455;\n",
              "      fill: #D2E3FC;\n",
              "    }\n",
              "\n",
              "    [theme=dark] .colab-df-convert:hover {\n",
              "      background-color: #434B5C;\n",
              "      box-shadow: 0px 1px 3px 1px rgba(0, 0, 0, 0.15);\n",
              "      filter: drop-shadow(0px 1px 2px rgba(0, 0, 0, 0.3));\n",
              "      fill: #FFFFFF;\n",
              "    }\n",
              "  </style>\n",
              "\n",
              "      <script>\n",
              "        const buttonEl =\n",
              "          document.querySelector('#df-ce5fd2c1-e38f-4e13-988e-60c889fa14f0 button.colab-df-convert');\n",
              "        buttonEl.style.display =\n",
              "          google.colab.kernel.accessAllowed ? 'block' : 'none';\n",
              "\n",
              "        async function convertToInteractive(key) {\n",
              "          const element = document.querySelector('#df-ce5fd2c1-e38f-4e13-988e-60c889fa14f0');\n",
              "          const dataTable =\n",
              "            await google.colab.kernel.invokeFunction('convertToInteractive',\n",
              "                                                     [key], {});\n",
              "          if (!dataTable) return;\n",
              "\n",
              "          const docLinkHtml = 'Like what you see? Visit the ' +\n",
              "            '<a target=\"_blank\" href=https://colab.research.google.com/notebooks/data_table.ipynb>data table notebook</a>'\n",
              "            + ' to learn more about interactive tables.';\n",
              "          element.innerHTML = '';\n",
              "          dataTable['output_type'] = 'display_data';\n",
              "          await google.colab.output.renderOutput(dataTable, element);\n",
              "          const docLink = document.createElement('div');\n",
              "          docLink.innerHTML = docLinkHtml;\n",
              "          element.appendChild(docLink);\n",
              "        }\n",
              "      </script>\n",
              "    </div>\n",
              "  </div>\n",
              "  "
            ]
          },
          "metadata": {},
          "execution_count": 39
        }
      ]
    },
    {
      "cell_type": "markdown",
      "source": [
        "Making the list larger reveals other Nordic countries, which are Sweden, Denmark and Iceland. So, it's clear that GDP per capita is not the main variable of Nordic countries' happiness. But, this does not simply deny the fact that they already have slightly higher GDP per capita than other countries."
      ],
      "metadata": {
        "id": "ZT_SlKL6Ro55"
      }
    },
    {
      "cell_type": "code",
      "source": [
        "# List the top 20 countries with highest GDP per capita points\n",
        "gdp_20 = happiness.sort_values(by='GDP per capita', ascending=False).reset_index(drop=True)[['Country', 'GDP per capita', 'RANK']].head(20)\n",
        "gdp_20\n",
        "\n",
        "# Find the position of Nordic countries in the list\n",
        "gdp_20['Nordic'] = np.where(gdp_20['Country'].isin(nordic['Country']), True, False)\n",
        "gdp_20"
      ],
      "metadata": {
        "colab": {
          "base_uri": "https://localhost:8080/",
          "height": 676
        },
        "id": "XsqjHnSCWlMS",
        "outputId": "562fffe3-447a-47dc-f149-96f9cbf297a3"
      },
      "execution_count": null,
      "outputs": [
        {
          "output_type": "execute_result",
          "data": {
            "text/plain": [
              "                      Country  GDP per capita RANK  Nordic\n",
              "0                 LUXEMBOURG*           2.209    6   False\n",
              "1                   SINGAPORE           2.149   27   False\n",
              "2                     IRELAND           2.129   13   False\n",
              "3                 SWITZERLAND           2.026    4   False\n",
              "4        UNITED ARAB EMIRATES           1.998   24   False\n",
              "5                      NORWAY           1.997    8    True\n",
              "6               UNITED STATES           1.982   16   False\n",
              "7   HONG KONG S.A.R. OF CHINA           1.957   81   False\n",
              "8                     DENMARK           1.953    2    True\n",
              "9                 NETHERLANDS           1.945    5   False\n",
              "10                    ICELAND           1.936    3    True\n",
              "11                    AUSTRIA           1.931   11   False\n",
              "12                    GERMANY           1.924   14   False\n",
              "13                     SWEDEN           1.920    7    True\n",
              "14                    BELGIUM           1.907   19   False\n",
              "15                    KUWAIT*           1.904   50   False\n",
              "16                  AUSTRALIA           1.900   12   False\n",
              "17   TAIWAN PROVINCE OF CHINA           1.897   26   False\n",
              "18                    FINLAND           1.892    1    True\n",
              "19                     CANADA           1.886   15   False"
            ],
            "text/html": [
              "\n",
              "  <div id=\"df-6af92c3c-5d6e-4d87-a683-6fa940c13585\">\n",
              "    <div class=\"colab-df-container\">\n",
              "      <div>\n",
              "<style scoped>\n",
              "    .dataframe tbody tr th:only-of-type {\n",
              "        vertical-align: middle;\n",
              "    }\n",
              "\n",
              "    .dataframe tbody tr th {\n",
              "        vertical-align: top;\n",
              "    }\n",
              "\n",
              "    .dataframe thead th {\n",
              "        text-align: right;\n",
              "    }\n",
              "</style>\n",
              "<table border=\"1\" class=\"dataframe\">\n",
              "  <thead>\n",
              "    <tr style=\"text-align: right;\">\n",
              "      <th></th>\n",
              "      <th>Country</th>\n",
              "      <th>GDP per capita</th>\n",
              "      <th>RANK</th>\n",
              "      <th>Nordic</th>\n",
              "    </tr>\n",
              "  </thead>\n",
              "  <tbody>\n",
              "    <tr>\n",
              "      <th>0</th>\n",
              "      <td>LUXEMBOURG*</td>\n",
              "      <td>2.209</td>\n",
              "      <td>6</td>\n",
              "      <td>False</td>\n",
              "    </tr>\n",
              "    <tr>\n",
              "      <th>1</th>\n",
              "      <td>SINGAPORE</td>\n",
              "      <td>2.149</td>\n",
              "      <td>27</td>\n",
              "      <td>False</td>\n",
              "    </tr>\n",
              "    <tr>\n",
              "      <th>2</th>\n",
              "      <td>IRELAND</td>\n",
              "      <td>2.129</td>\n",
              "      <td>13</td>\n",
              "      <td>False</td>\n",
              "    </tr>\n",
              "    <tr>\n",
              "      <th>3</th>\n",
              "      <td>SWITZERLAND</td>\n",
              "      <td>2.026</td>\n",
              "      <td>4</td>\n",
              "      <td>False</td>\n",
              "    </tr>\n",
              "    <tr>\n",
              "      <th>4</th>\n",
              "      <td>UNITED ARAB EMIRATES</td>\n",
              "      <td>1.998</td>\n",
              "      <td>24</td>\n",
              "      <td>False</td>\n",
              "    </tr>\n",
              "    <tr>\n",
              "      <th>5</th>\n",
              "      <td>NORWAY</td>\n",
              "      <td>1.997</td>\n",
              "      <td>8</td>\n",
              "      <td>True</td>\n",
              "    </tr>\n",
              "    <tr>\n",
              "      <th>6</th>\n",
              "      <td>UNITED STATES</td>\n",
              "      <td>1.982</td>\n",
              "      <td>16</td>\n",
              "      <td>False</td>\n",
              "    </tr>\n",
              "    <tr>\n",
              "      <th>7</th>\n",
              "      <td>HONG KONG S.A.R. OF CHINA</td>\n",
              "      <td>1.957</td>\n",
              "      <td>81</td>\n",
              "      <td>False</td>\n",
              "    </tr>\n",
              "    <tr>\n",
              "      <th>8</th>\n",
              "      <td>DENMARK</td>\n",
              "      <td>1.953</td>\n",
              "      <td>2</td>\n",
              "      <td>True</td>\n",
              "    </tr>\n",
              "    <tr>\n",
              "      <th>9</th>\n",
              "      <td>NETHERLANDS</td>\n",
              "      <td>1.945</td>\n",
              "      <td>5</td>\n",
              "      <td>False</td>\n",
              "    </tr>\n",
              "    <tr>\n",
              "      <th>10</th>\n",
              "      <td>ICELAND</td>\n",
              "      <td>1.936</td>\n",
              "      <td>3</td>\n",
              "      <td>True</td>\n",
              "    </tr>\n",
              "    <tr>\n",
              "      <th>11</th>\n",
              "      <td>AUSTRIA</td>\n",
              "      <td>1.931</td>\n",
              "      <td>11</td>\n",
              "      <td>False</td>\n",
              "    </tr>\n",
              "    <tr>\n",
              "      <th>12</th>\n",
              "      <td>GERMANY</td>\n",
              "      <td>1.924</td>\n",
              "      <td>14</td>\n",
              "      <td>False</td>\n",
              "    </tr>\n",
              "    <tr>\n",
              "      <th>13</th>\n",
              "      <td>SWEDEN</td>\n",
              "      <td>1.920</td>\n",
              "      <td>7</td>\n",
              "      <td>True</td>\n",
              "    </tr>\n",
              "    <tr>\n",
              "      <th>14</th>\n",
              "      <td>BELGIUM</td>\n",
              "      <td>1.907</td>\n",
              "      <td>19</td>\n",
              "      <td>False</td>\n",
              "    </tr>\n",
              "    <tr>\n",
              "      <th>15</th>\n",
              "      <td>KUWAIT*</td>\n",
              "      <td>1.904</td>\n",
              "      <td>50</td>\n",
              "      <td>False</td>\n",
              "    </tr>\n",
              "    <tr>\n",
              "      <th>16</th>\n",
              "      <td>AUSTRALIA</td>\n",
              "      <td>1.900</td>\n",
              "      <td>12</td>\n",
              "      <td>False</td>\n",
              "    </tr>\n",
              "    <tr>\n",
              "      <th>17</th>\n",
              "      <td>TAIWAN PROVINCE OF CHINA</td>\n",
              "      <td>1.897</td>\n",
              "      <td>26</td>\n",
              "      <td>False</td>\n",
              "    </tr>\n",
              "    <tr>\n",
              "      <th>18</th>\n",
              "      <td>FINLAND</td>\n",
              "      <td>1.892</td>\n",
              "      <td>1</td>\n",
              "      <td>True</td>\n",
              "    </tr>\n",
              "    <tr>\n",
              "      <th>19</th>\n",
              "      <td>CANADA</td>\n",
              "      <td>1.886</td>\n",
              "      <td>15</td>\n",
              "      <td>False</td>\n",
              "    </tr>\n",
              "  </tbody>\n",
              "</table>\n",
              "</div>\n",
              "      <button class=\"colab-df-convert\" onclick=\"convertToInteractive('df-6af92c3c-5d6e-4d87-a683-6fa940c13585')\"\n",
              "              title=\"Convert this dataframe to an interactive table.\"\n",
              "              style=\"display:none;\">\n",
              "        \n",
              "  <svg xmlns=\"http://www.w3.org/2000/svg\" height=\"24px\"viewBox=\"0 0 24 24\"\n",
              "       width=\"24px\">\n",
              "    <path d=\"M0 0h24v24H0V0z\" fill=\"none\"/>\n",
              "    <path d=\"M18.56 5.44l.94 2.06.94-2.06 2.06-.94-2.06-.94-.94-2.06-.94 2.06-2.06.94zm-11 1L8.5 8.5l.94-2.06 2.06-.94-2.06-.94L8.5 2.5l-.94 2.06-2.06.94zm10 10l.94 2.06.94-2.06 2.06-.94-2.06-.94-.94-2.06-.94 2.06-2.06.94z\"/><path d=\"M17.41 7.96l-1.37-1.37c-.4-.4-.92-.59-1.43-.59-.52 0-1.04.2-1.43.59L10.3 9.45l-7.72 7.72c-.78.78-.78 2.05 0 2.83L4 21.41c.39.39.9.59 1.41.59.51 0 1.02-.2 1.41-.59l7.78-7.78 2.81-2.81c.8-.78.8-2.07 0-2.86zM5.41 20L4 18.59l7.72-7.72 1.47 1.35L5.41 20z\"/>\n",
              "  </svg>\n",
              "      </button>\n",
              "      \n",
              "  <style>\n",
              "    .colab-df-container {\n",
              "      display:flex;\n",
              "      flex-wrap:wrap;\n",
              "      gap: 12px;\n",
              "    }\n",
              "\n",
              "    .colab-df-convert {\n",
              "      background-color: #E8F0FE;\n",
              "      border: none;\n",
              "      border-radius: 50%;\n",
              "      cursor: pointer;\n",
              "      display: none;\n",
              "      fill: #1967D2;\n",
              "      height: 32px;\n",
              "      padding: 0 0 0 0;\n",
              "      width: 32px;\n",
              "    }\n",
              "\n",
              "    .colab-df-convert:hover {\n",
              "      background-color: #E2EBFA;\n",
              "      box-shadow: 0px 1px 2px rgba(60, 64, 67, 0.3), 0px 1px 3px 1px rgba(60, 64, 67, 0.15);\n",
              "      fill: #174EA6;\n",
              "    }\n",
              "\n",
              "    [theme=dark] .colab-df-convert {\n",
              "      background-color: #3B4455;\n",
              "      fill: #D2E3FC;\n",
              "    }\n",
              "\n",
              "    [theme=dark] .colab-df-convert:hover {\n",
              "      background-color: #434B5C;\n",
              "      box-shadow: 0px 1px 3px 1px rgba(0, 0, 0, 0.15);\n",
              "      filter: drop-shadow(0px 1px 2px rgba(0, 0, 0, 0.3));\n",
              "      fill: #FFFFFF;\n",
              "    }\n",
              "  </style>\n",
              "\n",
              "      <script>\n",
              "        const buttonEl =\n",
              "          document.querySelector('#df-6af92c3c-5d6e-4d87-a683-6fa940c13585 button.colab-df-convert');\n",
              "        buttonEl.style.display =\n",
              "          google.colab.kernel.accessAllowed ? 'block' : 'none';\n",
              "\n",
              "        async function convertToInteractive(key) {\n",
              "          const element = document.querySelector('#df-6af92c3c-5d6e-4d87-a683-6fa940c13585');\n",
              "          const dataTable =\n",
              "            await google.colab.kernel.invokeFunction('convertToInteractive',\n",
              "                                                     [key], {});\n",
              "          if (!dataTable) return;\n",
              "\n",
              "          const docLinkHtml = 'Like what you see? Visit the ' +\n",
              "            '<a target=\"_blank\" href=https://colab.research.google.com/notebooks/data_table.ipynb>data table notebook</a>'\n",
              "            + ' to learn more about interactive tables.';\n",
              "          element.innerHTML = '';\n",
              "          dataTable['output_type'] = 'display_data';\n",
              "          await google.colab.output.renderOutput(dataTable, element);\n",
              "          const docLink = document.createElement('div');\n",
              "          docLink.innerHTML = docLinkHtml;\n",
              "          element.appendChild(docLink);\n",
              "        }\n",
              "      </script>\n",
              "    </div>\n",
              "  </div>\n",
              "  "
            ]
          },
          "metadata": {},
          "execution_count": 40
        }
      ]
    },
    {
      "cell_type": "markdown",
      "source": [
        "**Social Support and Happiness**"
      ],
      "metadata": {
        "id": "Je0EZdplfDTd"
      }
    },
    {
      "cell_type": "code",
      "source": [
        "# List the top 10 countries with highest social support points\n",
        "social_10 = happiness.sort_values(by='Social support', ascending=False)[['Country', 'Social support', 'RANK']].head(10)"
      ],
      "metadata": {
        "id": "TTPpp94JWyZ6"
      },
      "execution_count": null,
      "outputs": []
    },
    {
      "cell_type": "code",
      "source": [
        "plt.figure(figsize = (8, 6)) # Set the figure width and height\n",
        "\n",
        "# Bar chart showing top 10 countries with highest contribution of social support on happiness level\n",
        "ax = sns.barplot(x='Social support', y='Country', data=social_10, palette='spring')\n",
        "\n",
        "# Set the chart style\n",
        "sns.set_style(\"ticks\")\n",
        "sns.despine()\n",
        "\n",
        "# Set the title, the labels, and custom ticks\n",
        "plt.title(\"Top 10 Countries with Highest Contribution of Social Support on Happiness Level\", fontsize = 16, pad=10)\n",
        "ax.set_xlabel(\"Social Support Points\", fontsize=14, labelpad=5)\n",
        "ax.set_ylabel(\"\")\n",
        "ax.tick_params(labelsize=12)\n",
        "\n",
        "# Show the plot\n",
        "plt.show()"
      ],
      "metadata": {
        "colab": {
          "base_uri": "https://localhost:8080/",
          "height": 418
        },
        "id": "_PTkLkehW7Cy",
        "outputId": "437b450f-f72e-4dec-f95b-06ed3b4da8a1"
      },
      "execution_count": null,
      "outputs": [
        {
          "output_type": "display_data",
          "data": {
            "text/plain": [
              "<Figure size 576x432 with 1 Axes>"
            ],
            "image/png": "[encoded data removed]"
          },
          "metadata": {}
        }
      ]
    },
    {
      "cell_type": "code",
      "source": [
        "# Check the country that also Nordic countries\n",
        "social_10[social_10['Country'].isin(nordic['Country'])].reset_index(drop=True)"
      ],
      "metadata": {
        "colab": {
          "base_uri": "https://localhost:8080/",
          "height": 175
        },
        "id": "QRH6JqGsR528",
        "outputId": "63131e84-1fff-451f-fad0-b1e6ad41d73f"
      },
      "execution_count": null,
      "outputs": [
        {
          "output_type": "execute_result",
          "data": {
            "text/plain": [
              "   Country  Social support RANK\n",
              "0  ICELAND           1.320    3\n",
              "1  FINLAND           1.258    1\n",
              "2  DENMARK           1.243    2\n",
              "3   NORWAY           1.239    8"
            ],
            "text/html": [
              "\n",
              "  <div id=\"df-8a19d0d3-eb6f-4ee4-b1a3-ba4b31b13201\">\n",
              "    <div class=\"colab-df-container\">\n",
              "      <div>\n",
              "<style scoped>\n",
              "    .dataframe tbody tr th:only-of-type {\n",
              "        vertical-align: middle;\n",
              "    }\n",
              "\n",
              "    .dataframe tbody tr th {\n",
              "        vertical-align: top;\n",
              "    }\n",
              "\n",
              "    .dataframe thead th {\n",
              "        text-align: right;\n",
              "    }\n",
              "</style>\n",
              "<table border=\"1\" class=\"dataframe\">\n",
              "  <thead>\n",
              "    <tr style=\"text-align: right;\">\n",
              "      <th></th>\n",
              "      <th>Country</th>\n",
              "      <th>Social support</th>\n",
              "      <th>RANK</th>\n",
              "    </tr>\n",
              "  </thead>\n",
              "  <tbody>\n",
              "    <tr>\n",
              "      <th>0</th>\n",
              "      <td>ICELAND</td>\n",
              "      <td>1.320</td>\n",
              "      <td>3</td>\n",
              "    </tr>\n",
              "    <tr>\n",
              "      <th>1</th>\n",
              "      <td>FINLAND</td>\n",
              "      <td>1.258</td>\n",
              "      <td>1</td>\n",
              "    </tr>\n",
              "    <tr>\n",
              "      <th>2</th>\n",
              "      <td>DENMARK</td>\n",
              "      <td>1.243</td>\n",
              "      <td>2</td>\n",
              "    </tr>\n",
              "    <tr>\n",
              "      <th>3</th>\n",
              "      <td>NORWAY</td>\n",
              "      <td>1.239</td>\n",
              "      <td>8</td>\n",
              "    </tr>\n",
              "  </tbody>\n",
              "</table>\n",
              "</div>\n",
              "      <button class=\"colab-df-convert\" onclick=\"convertToInteractive('df-8a19d0d3-eb6f-4ee4-b1a3-ba4b31b13201')\"\n",
              "              title=\"Convert this dataframe to an interactive table.\"\n",
              "              style=\"display:none;\">\n",
              "        \n",
              "  <svg xmlns=\"http://www.w3.org/2000/svg\" height=\"24px\"viewBox=\"0 0 24 24\"\n",
              "       width=\"24px\">\n",
              "    <path d=\"M0 0h24v24H0V0z\" fill=\"none\"/>\n",
              "    <path d=\"M18.56 5.44l.94 2.06.94-2.06 2.06-.94-2.06-.94-.94-2.06-.94 2.06-2.06.94zm-11 1L8.5 8.5l.94-2.06 2.06-.94-2.06-.94L8.5 2.5l-.94 2.06-2.06.94zm10 10l.94 2.06.94-2.06 2.06-.94-2.06-.94-.94-2.06-.94 2.06-2.06.94z\"/><path d=\"M17.41 7.96l-1.37-1.37c-.4-.4-.92-.59-1.43-.59-.52 0-1.04.2-1.43.59L10.3 9.45l-7.72 7.72c-.78.78-.78 2.05 0 2.83L4 21.41c.39.39.9.59 1.41.59.51 0 1.02-.2 1.41-.59l7.78-7.78 2.81-2.81c.8-.78.8-2.07 0-2.86zM5.41 20L4 18.59l7.72-7.72 1.47 1.35L5.41 20z\"/>\n",
              "  </svg>\n",
              "      </button>\n",
              "      \n",
              "  <style>\n",
              "    .colab-df-container {\n",
              "      display:flex;\n",
              "      flex-wrap:wrap;\n",
              "      gap: 12px;\n",
              "    }\n",
              "\n",
              "    .colab-df-convert {\n",
              "      background-color: #E8F0FE;\n",
              "      border: none;\n",
              "      border-radius: 50%;\n",
              "      cursor: pointer;\n",
              "      display: none;\n",
              "      fill: #1967D2;\n",
              "      height: 32px;\n",
              "      padding: 0 0 0 0;\n",
              "      width: 32px;\n",
              "    }\n",
              "\n",
              "    .colab-df-convert:hover {\n",
              "      background-color: #E2EBFA;\n",
              "      box-shadow: 0px 1px 2px rgba(60, 64, 67, 0.3), 0px 1px 3px 1px rgba(60, 64, 67, 0.15);\n",
              "      fill: #174EA6;\n",
              "    }\n",
              "\n",
              "    [theme=dark] .colab-df-convert {\n",
              "      background-color: #3B4455;\n",
              "      fill: #D2E3FC;\n",
              "    }\n",
              "\n",
              "    [theme=dark] .colab-df-convert:hover {\n",
              "      background-color: #434B5C;\n",
              "      box-shadow: 0px 1px 3px 1px rgba(0, 0, 0, 0.15);\n",
              "      filter: drop-shadow(0px 1px 2px rgba(0, 0, 0, 0.3));\n",
              "      fill: #FFFFFF;\n",
              "    }\n",
              "  </style>\n",
              "\n",
              "      <script>\n",
              "        const buttonEl =\n",
              "          document.querySelector('#df-8a19d0d3-eb6f-4ee4-b1a3-ba4b31b13201 button.colab-df-convert');\n",
              "        buttonEl.style.display =\n",
              "          google.colab.kernel.accessAllowed ? 'block' : 'none';\n",
              "\n",
              "        async function convertToInteractive(key) {\n",
              "          const element = document.querySelector('#df-8a19d0d3-eb6f-4ee4-b1a3-ba4b31b13201');\n",
              "          const dataTable =\n",
              "            await google.colab.kernel.invokeFunction('convertToInteractive',\n",
              "                                                     [key], {});\n",
              "          if (!dataTable) return;\n",
              "\n",
              "          const docLinkHtml = 'Like what you see? Visit the ' +\n",
              "            '<a target=\"_blank\" href=https://colab.research.google.com/notebooks/data_table.ipynb>data table notebook</a>'\n",
              "            + ' to learn more about interactive tables.';\n",
              "          element.innerHTML = '';\n",
              "          dataTable['output_type'] = 'display_data';\n",
              "          await google.colab.output.renderOutput(dataTable, element);\n",
              "          const docLink = document.createElement('div');\n",
              "          docLink.innerHTML = docLinkHtml;\n",
              "          element.appendChild(docLink);\n",
              "        }\n",
              "      </script>\n",
              "    </div>\n",
              "  </div>\n",
              "  "
            ]
          },
          "metadata": {},
          "execution_count": 42
        }
      ]
    },
    {
      "cell_type": "markdown",
      "source": [
        "It looks like social support is the highest contributor to the Nordic countries' overall happiness level. 4/5 Nordic countries have higher social support points than every country in the world."
      ],
      "metadata": {
        "id": "tTtrsOsfSCNZ"
      }
    },
    {
      "cell_type": "markdown",
      "source": [
        "**Healthy Life Expectancy and Happiness**"
      ],
      "metadata": {
        "id": "gZLRkKqMfKIX"
      }
    },
    {
      "cell_type": "code",
      "source": [
        "# Is high life expectancy make a happy country?\n",
        "life_10 = happiness.sort_values(by='Healthy life expectancy', ascending=False)[['Country', 'Healthy life expectancy', 'RANK']].head(10)"
      ],
      "metadata": {
        "id": "hYdZk4vvXAKS"
      },
      "execution_count": null,
      "outputs": []
    },
    {
      "cell_type": "code",
      "source": [
        "plt.figure(figsize = (8, 6)) # Set the figure width and height\n",
        "\n",
        "# Bar chart showing top 10 countries with highest contribution of healthy life expectancy on happiness level\n",
        "ax = sns.barplot(x='Healthy life expectancy', y='Country', data=life_10, palette='coolwarm')\n",
        "\n",
        "# Set the chart style\n",
        "sns.set_style(\"ticks\")\n",
        "sns.despine()\n",
        "\n",
        "# Set the title, the labels, and custom ticks\n",
        "plt.title(\"Top 10 Countries with Highest Contribution of Life Expectancy on Happiness Level\", fontsize = 16, pad=10)\n",
        "ax.set_xlabel(\"Life Expectancy Points\", fontsize=14, labelpad=5)\n",
        "ax.set_ylabel(\"\")\n",
        "ax.tick_params(labelsize=12)\n",
        "\n",
        "# Show the plot\n",
        "plt.show()"
      ],
      "metadata": {
        "colab": {
          "base_uri": "https://localhost:8080/",
          "height": 418
        },
        "id": "dLgK58xEXIUS",
        "outputId": "01f42f60-f008-434c-bf47-851434a62b02"
      },
      "execution_count": null,
      "outputs": [
        {
          "output_type": "display_data",
          "data": {
            "text/plain": [
              "<Figure size 576x432 with 1 Axes>"
            ],
            "image/png": "[encoded data removed]"
          },
          "metadata": {}
        }
      ]
    },
    {
      "cell_type": "code",
      "source": [
        "# Check the country that also Nordic countries\n",
        "life_10[life_10['Country'].isin(nordic['Country'])].reset_index(drop=True)"
      ],
      "metadata": {
        "colab": {
          "base_uri": "https://localhost:8080/",
          "height": 49
        },
        "id": "Vz9iEYL2SFyz",
        "outputId": "f6955ebc-ab79-4962-cf84-907e7049e62d"
      },
      "execution_count": null,
      "outputs": [
        {
          "output_type": "execute_result",
          "data": {
            "text/plain": [
              "Empty DataFrame\n",
              "Columns: [Country, Healthy life expectancy, RANK]\n",
              "Index: []"
            ],
            "text/html": [
              "\n",
              "  <div id=\"df-4de538b9-b5c5-455e-baf0-414b89ee16a3\">\n",
              "    <div class=\"colab-df-container\">\n",
              "      <div>\n",
              "<style scoped>\n",
              "    .dataframe tbody tr th:only-of-type {\n",
              "        vertical-align: middle;\n",
              "    }\n",
              "\n",
              "    .dataframe tbody tr th {\n",
              "        vertical-align: top;\n",
              "    }\n",
              "\n",
              "    .dataframe thead th {\n",
              "        text-align: right;\n",
              "    }\n",
              "</style>\n",
              "<table border=\"1\" class=\"dataframe\">\n",
              "  <thead>\n",
              "    <tr style=\"text-align: right;\">\n",
              "      <th></th>\n",
              "      <th>Country</th>\n",
              "      <th>Healthy life expectancy</th>\n",
              "      <th>RANK</th>\n",
              "    </tr>\n",
              "  </thead>\n",
              "  <tbody>\n",
              "  </tbody>\n",
              "</table>\n",
              "</div>\n",
              "      <button class=\"colab-df-convert\" onclick=\"convertToInteractive('df-4de538b9-b5c5-455e-baf0-414b89ee16a3')\"\n",
              "              title=\"Convert this dataframe to an interactive table.\"\n",
              "              style=\"display:none;\">\n",
              "        \n",
              "  <svg xmlns=\"http://www.w3.org/2000/svg\" height=\"24px\"viewBox=\"0 0 24 24\"\n",
              "       width=\"24px\">\n",
              "    <path d=\"M0 0h24v24H0V0z\" fill=\"none\"/>\n",
              "    <path d=\"M18.56 5.44l.94 2.06.94-2.06 2.06-.94-2.06-.94-.94-2.06-.94 2.06-2.06.94zm-11 1L8.5 8.5l.94-2.06 2.06-.94-2.06-.94L8.5 2.5l-.94 2.06-2.06.94zm10 10l.94 2.06.94-2.06 2.06-.94-2.06-.94-.94-2.06-.94 2.06-2.06.94z\"/><path d=\"M17.41 7.96l-1.37-1.37c-.4-.4-.92-.59-1.43-.59-.52 0-1.04.2-1.43.59L10.3 9.45l-7.72 7.72c-.78.78-.78 2.05 0 2.83L4 21.41c.39.39.9.59 1.41.59.51 0 1.02-.2 1.41-.59l7.78-7.78 2.81-2.81c.8-.78.8-2.07 0-2.86zM5.41 20L4 18.59l7.72-7.72 1.47 1.35L5.41 20z\"/>\n",
              "  </svg>\n",
              "      </button>\n",
              "      \n",
              "  <style>\n",
              "    .colab-df-container {\n",
              "      display:flex;\n",
              "      flex-wrap:wrap;\n",
              "      gap: 12px;\n",
              "    }\n",
              "\n",
              "    .colab-df-convert {\n",
              "      background-color: #E8F0FE;\n",
              "      border: none;\n",
              "      border-radius: 50%;\n",
              "      cursor: pointer;\n",
              "      display: none;\n",
              "      fill: #1967D2;\n",
              "      height: 32px;\n",
              "      padding: 0 0 0 0;\n",
              "      width: 32px;\n",
              "    }\n",
              "\n",
              "    .colab-df-convert:hover {\n",
              "      background-color: #E2EBFA;\n",
              "      box-shadow: 0px 1px 2px rgba(60, 64, 67, 0.3), 0px 1px 3px 1px rgba(60, 64, 67, 0.15);\n",
              "      fill: #174EA6;\n",
              "    }\n",
              "\n",
              "    [theme=dark] .colab-df-convert {\n",
              "      background-color: #3B4455;\n",
              "      fill: #D2E3FC;\n",
              "    }\n",
              "\n",
              "    [theme=dark] .colab-df-convert:hover {\n",
              "      background-color: #434B5C;\n",
              "      box-shadow: 0px 1px 3px 1px rgba(0, 0, 0, 0.15);\n",
              "      filter: drop-shadow(0px 1px 2px rgba(0, 0, 0, 0.3));\n",
              "      fill: #FFFFFF;\n",
              "    }\n",
              "  </style>\n",
              "\n",
              "      <script>\n",
              "        const buttonEl =\n",
              "          document.querySelector('#df-4de538b9-b5c5-455e-baf0-414b89ee16a3 button.colab-df-convert');\n",
              "        buttonEl.style.display =\n",
              "          google.colab.kernel.accessAllowed ? 'block' : 'none';\n",
              "\n",
              "        async function convertToInteractive(key) {\n",
              "          const element = document.querySelector('#df-4de538b9-b5c5-455e-baf0-414b89ee16a3');\n",
              "          const dataTable =\n",
              "            await google.colab.kernel.invokeFunction('convertToInteractive',\n",
              "                                                     [key], {});\n",
              "          if (!dataTable) return;\n",
              "\n",
              "          const docLinkHtml = 'Like what you see? Visit the ' +\n",
              "            '<a target=\"_blank\" href=https://colab.research.google.com/notebooks/data_table.ipynb>data table notebook</a>'\n",
              "            + ' to learn more about interactive tables.';\n",
              "          element.innerHTML = '';\n",
              "          dataTable['output_type'] = 'display_data';\n",
              "          await google.colab.output.renderOutput(dataTable, element);\n",
              "          const docLink = document.createElement('div');\n",
              "          docLink.innerHTML = docLinkHtml;\n",
              "          element.appendChild(docLink);\n",
              "        }\n",
              "      </script>\n",
              "    </div>\n",
              "  </div>\n",
              "  "
            ]
          },
          "metadata": {},
          "execution_count": 44
        }
      ]
    },
    {
      "cell_type": "code",
      "source": [
        "# List the top 20 countries with highest Healthy life expectancy points\n",
        "life_20 = happiness.sort_values(by='Healthy life expectancy', ascending=False).reset_index(drop=True)[['Country', 'Healthy life expectancy', 'RANK']].head(20)\n",
        "\n",
        "life_20\n",
        "\n",
        "# Find the position of Nordic countries in the list\n",
        "life_20['Nordic'] = np.where(life_20['Country'].isin(nordic['Country']), True, False)\n",
        "life_20"
      ],
      "metadata": {
        "colab": {
          "base_uri": "https://localhost:8080/",
          "height": 676
        },
        "id": "LntKVk70XM26",
        "outputId": "1334b7a4-ddac-4da2-c032-3749d935d2ab"
      },
      "execution_count": null,
      "outputs": [
        {
          "output_type": "execute_result",
          "data": {
            "text/plain": [
              "                      Country  Healthy life expectancy RANK  Nordic\n",
              "0   HONG KONG S.A.R. OF CHINA                    0.942   81   False\n",
              "1                       JAPAN                    0.866   54   False\n",
              "2                   SINGAPORE                    0.851   27   False\n",
              "3                 SOUTH KOREA                    0.841   59   False\n",
              "4                 SWITZERLAND                    0.822    4   False\n",
              "5               NORTH CYPRUS*                    0.819   79   False\n",
              "6                      CYPRUS                    0.819   41   False\n",
              "7                      ISRAEL                    0.818    9   False\n",
              "8                      FRANCE                    0.808   20   False\n",
              "9                       SPAIN                    0.808   29   False\n",
              "10                    ICELAND                    0.803    3    True\n",
              "11                     SWEDEN                    0.803    7    True\n",
              "12                      ITALY                    0.801   31   False\n",
              "13                LUXEMBOURG*                    0.790    6   False\n",
              "14                      MALTA                    0.789   33   False\n",
              "15                NETHERLANDS                    0.787    5   False\n",
              "16                     NORWAY                    0.786    8    True\n",
              "17                     CANADA                    0.783   15   False\n",
              "18                    IRELAND                    0.779   13   False\n",
              "19                    DENMARK                    0.777    2    True"
            ],
            "text/html": [
              "\n",
              "  <div id=\"df-50dd163b-80f5-44df-8833-10c83e31ccca\">\n",
              "    <div class=\"colab-df-container\">\n",
              "      <div>\n",
              "<style scoped>\n",
              "    .dataframe tbody tr th:only-of-type {\n",
              "        vertical-align: middle;\n",
              "    }\n",
              "\n",
              "    .dataframe tbody tr th {\n",
              "        vertical-align: top;\n",
              "    }\n",
              "\n",
              "    .dataframe thead th {\n",
              "        text-align: right;\n",
              "    }\n",
              "</style>\n",
              "<table border=\"1\" class=\"dataframe\">\n",
              "  <thead>\n",
              "    <tr style=\"text-align: right;\">\n",
              "      <th></th>\n",
              "      <th>Country</th>\n",
              "      <th>Healthy life expectancy</th>\n",
              "      <th>RANK</th>\n",
              "      <th>Nordic</th>\n",
              "    </tr>\n",
              "  </thead>\n",
              "  <tbody>\n",
              "    <tr>\n",
              "      <th>0</th>\n",
              "      <td>HONG KONG S.A.R. OF CHINA</td>\n",
              "      <td>0.942</td>\n",
              "      <td>81</td>\n",
              "      <td>False</td>\n",
              "    </tr>\n",
              "    <tr>\n",
              "      <th>1</th>\n",
              "      <td>JAPAN</td>\n",
              "      <td>0.866</td>\n",
              "      <td>54</td>\n",
              "      <td>False</td>\n",
              "    </tr>\n",
              "    <tr>\n",
              "      <th>2</th>\n",
              "      <td>SINGAPORE</td>\n",
              "      <td>0.851</td>\n",
              "      <td>27</td>\n",
              "      <td>False</td>\n",
              "    </tr>\n",
              "    <tr>\n",
              "      <th>3</th>\n",
              "      <td>SOUTH KOREA</td>\n",
              "      <td>0.841</td>\n",
              "      <td>59</td>\n",
              "      <td>False</td>\n",
              "    </tr>\n",
              "    <tr>\n",
              "      <th>4</th>\n",
              "      <td>SWITZERLAND</td>\n",
              "      <td>0.822</td>\n",
              "      <td>4</td>\n",
              "      <td>False</td>\n",
              "    </tr>\n",
              "    <tr>\n",
              "      <th>5</th>\n",
              "      <td>NORTH CYPRUS*</td>\n",
              "      <td>0.819</td>\n",
              "      <td>79</td>\n",
              "      <td>False</td>\n",
              "    </tr>\n",
              "    <tr>\n",
              "      <th>6</th>\n",
              "      <td>CYPRUS</td>\n",
              "      <td>0.819</td>\n",
              "      <td>41</td>\n",
              "      <td>False</td>\n",
              "    </tr>\n",
              "    <tr>\n",
              "      <th>7</th>\n",
              "      <td>ISRAEL</td>\n",
              "      <td>0.818</td>\n",
              "      <td>9</td>\n",
              "      <td>False</td>\n",
              "    </tr>\n",
              "    <tr>\n",
              "      <th>8</th>\n",
              "      <td>FRANCE</td>\n",
              "      <td>0.808</td>\n",
              "      <td>20</td>\n",
              "      <td>False</td>\n",
              "    </tr>\n",
              "    <tr>\n",
              "      <th>9</th>\n",
              "      <td>SPAIN</td>\n",
              "      <td>0.808</td>\n",
              "      <td>29</td>\n",
              "      <td>False</td>\n",
              "    </tr>\n",
              "    <tr>\n",
              "      <th>10</th>\n",
              "      <td>ICELAND</td>\n",
              "      <td>0.803</td>\n",
              "      <td>3</td>\n",
              "      <td>True</td>\n",
              "    </tr>\n",
              "    <tr>\n",
              "      <th>11</th>\n",
              "      <td>SWEDEN</td>\n",
              "      <td>0.803</td>\n",
              "      <td>7</td>\n",
              "      <td>True</td>\n",
              "    </tr>\n",
              "    <tr>\n",
              "      <th>12</th>\n",
              "      <td>ITALY</td>\n",
              "      <td>0.801</td>\n",
              "      <td>31</td>\n",
              "      <td>False</td>\n",
              "    </tr>\n",
              "    <tr>\n",
              "      <th>13</th>\n",
              "      <td>LUXEMBOURG*</td>\n",
              "      <td>0.790</td>\n",
              "      <td>6</td>\n",
              "      <td>False</td>\n",
              "    </tr>\n",
              "    <tr>\n",
              "      <th>14</th>\n",
              "      <td>MALTA</td>\n",
              "      <td>0.789</td>\n",
              "      <td>33</td>\n",
              "      <td>False</td>\n",
              "    </tr>\n",
              "    <tr>\n",
              "      <th>15</th>\n",
              "      <td>NETHERLANDS</td>\n",
              "      <td>0.787</td>\n",
              "      <td>5</td>\n",
              "      <td>False</td>\n",
              "    </tr>\n",
              "    <tr>\n",
              "      <th>16</th>\n",
              "      <td>NORWAY</td>\n",
              "      <td>0.786</td>\n",
              "      <td>8</td>\n",
              "      <td>True</td>\n",
              "    </tr>\n",
              "    <tr>\n",
              "      <th>17</th>\n",
              "      <td>CANADA</td>\n",
              "      <td>0.783</td>\n",
              "      <td>15</td>\n",
              "      <td>False</td>\n",
              "    </tr>\n",
              "    <tr>\n",
              "      <th>18</th>\n",
              "      <td>IRELAND</td>\n",
              "      <td>0.779</td>\n",
              "      <td>13</td>\n",
              "      <td>False</td>\n",
              "    </tr>\n",
              "    <tr>\n",
              "      <th>19</th>\n",
              "      <td>DENMARK</td>\n",
              "      <td>0.777</td>\n",
              "      <td>2</td>\n",
              "      <td>True</td>\n",
              "    </tr>\n",
              "  </tbody>\n",
              "</table>\n",
              "</div>\n",
              "      <button class=\"colab-df-convert\" onclick=\"convertToInteractive('df-50dd163b-80f5-44df-8833-10c83e31ccca')\"\n",
              "              title=\"Convert this dataframe to an interactive table.\"\n",
              "              style=\"display:none;\">\n",
              "        \n",
              "  <svg xmlns=\"http://www.w3.org/2000/svg\" height=\"24px\"viewBox=\"0 0 24 24\"\n",
              "       width=\"24px\">\n",
              "    <path d=\"M0 0h24v24H0V0z\" fill=\"none\"/>\n",
              "    <path d=\"M18.56 5.44l.94 2.06.94-2.06 2.06-.94-2.06-.94-.94-2.06-.94 2.06-2.06.94zm-11 1L8.5 8.5l.94-2.06 2.06-.94-2.06-.94L8.5 2.5l-.94 2.06-2.06.94zm10 10l.94 2.06.94-2.06 2.06-.94-2.06-.94-.94-2.06-.94 2.06-2.06.94z\"/><path d=\"M17.41 7.96l-1.37-1.37c-.4-.4-.92-.59-1.43-.59-.52 0-1.04.2-1.43.59L10.3 9.45l-7.72 7.72c-.78.78-.78 2.05 0 2.83L4 21.41c.39.39.9.59 1.41.59.51 0 1.02-.2 1.41-.59l7.78-7.78 2.81-2.81c.8-.78.8-2.07 0-2.86zM5.41 20L4 18.59l7.72-7.72 1.47 1.35L5.41 20z\"/>\n",
              "  </svg>\n",
              "      </button>\n",
              "      \n",
              "  <style>\n",
              "    .colab-df-container {\n",
              "      display:flex;\n",
              "      flex-wrap:wrap;\n",
              "      gap: 12px;\n",
              "    }\n",
              "\n",
              "    .colab-df-convert {\n",
              "      background-color: #E8F0FE;\n",
              "      border: none;\n",
              "      border-radius: 50%;\n",
              "      cursor: pointer;\n",
              "      display: none;\n",
              "      fill: #1967D2;\n",
              "      height: 32px;\n",
              "      padding: 0 0 0 0;\n",
              "      width: 32px;\n",
              "    }\n",
              "\n",
              "    .colab-df-convert:hover {\n",
              "      background-color: #E2EBFA;\n",
              "      box-shadow: 0px 1px 2px rgba(60, 64, 67, 0.3), 0px 1px 3px 1px rgba(60, 64, 67, 0.15);\n",
              "      fill: #174EA6;\n",
              "    }\n",
              "\n",
              "    [theme=dark] .colab-df-convert {\n",
              "      background-color: #3B4455;\n",
              "      fill: #D2E3FC;\n",
              "    }\n",
              "\n",
              "    [theme=dark] .colab-df-convert:hover {\n",
              "      background-color: #434B5C;\n",
              "      box-shadow: 0px 1px 3px 1px rgba(0, 0, 0, 0.15);\n",
              "      filter: drop-shadow(0px 1px 2px rgba(0, 0, 0, 0.3));\n",
              "      fill: #FFFFFF;\n",
              "    }\n",
              "  </style>\n",
              "\n",
              "      <script>\n",
              "        const buttonEl =\n",
              "          document.querySelector('#df-50dd163b-80f5-44df-8833-10c83e31ccca button.colab-df-convert');\n",
              "        buttonEl.style.display =\n",
              "          google.colab.kernel.accessAllowed ? 'block' : 'none';\n",
              "\n",
              "        async function convertToInteractive(key) {\n",
              "          const element = document.querySelector('#df-50dd163b-80f5-44df-8833-10c83e31ccca');\n",
              "          const dataTable =\n",
              "            await google.colab.kernel.invokeFunction('convertToInteractive',\n",
              "                                                     [key], {});\n",
              "          if (!dataTable) return;\n",
              "\n",
              "          const docLinkHtml = 'Like what you see? Visit the ' +\n",
              "            '<a target=\"_blank\" href=https://colab.research.google.com/notebooks/data_table.ipynb>data table notebook</a>'\n",
              "            + ' to learn more about interactive tables.';\n",
              "          element.innerHTML = '';\n",
              "          dataTable['output_type'] = 'display_data';\n",
              "          await google.colab.output.renderOutput(dataTable, element);\n",
              "          const docLink = document.createElement('div');\n",
              "          docLink.innerHTML = docLinkHtml;\n",
              "          element.appendChild(docLink);\n",
              "        }\n",
              "      </script>\n",
              "    </div>\n",
              "  </div>\n",
              "  "
            ]
          },
          "metadata": {},
          "execution_count": 45
        }
      ]
    },
    {
      "cell_type": "markdown",
      "source": [
        "**Freedom to Make Life Choices and Happiness**"
      ],
      "metadata": {
        "id": "R8w0QhRlfQ_y"
      }
    },
    {
      "cell_type": "code",
      "source": [
        "# List the top 10 countries with highest freedom to make life choices points\n",
        "freedom_10 = happiness.sort_values(by='Freedom to make life choices', ascending=False)[['Country', 'Freedom to make life choices', 'RANK']].head(10)"
      ],
      "metadata": {
        "id": "e8ydum6AXWxy"
      },
      "execution_count": null,
      "outputs": []
    },
    {
      "cell_type": "code",
      "source": [
        "plt.figure(figsize = (8, 6)) # Set the figure width and height\n",
        "\n",
        "# Bar chart showing top 10 countries with highest contribution of freedom to make life choices on happiness level\n",
        "ax = sns.barplot(x='Freedom to make life choices', y='Country', data=freedom_10, palette='autumn')\n",
        "\n",
        "# Set the chart style\n",
        "sns.set_style(\"ticks\")\n",
        "sns.despine()\n",
        "\n",
        "# Set the title, the labels, and custom ticks\n",
        "plt.title(\"Top 10 Countries with Highest Contribution of Freedom to Make Life Choices on Happiness Level\", fontsize = 16, pad=10)\n",
        "ax.set_xlabel(\"Freedom to Make Life Choices Points\", fontsize=14, labelpad=5)\n",
        "ax.set_ylabel(\"\")\n",
        "ax.tick_params(labelsize=12)\n",
        "\n",
        "# Show the plot\n",
        "plt.show()"
      ],
      "metadata": {
        "colab": {
          "base_uri": "https://localhost:8080/",
          "height": 418
        },
        "id": "jPXaV5ZuXe8i",
        "outputId": "2f6275ab-096d-482a-99b5-7d9d3772556b"
      },
      "execution_count": null,
      "outputs": [
        {
          "output_type": "display_data",
          "data": {
            "text/plain": [
              "<Figure size 576x432 with 1 Axes>"
            ],
            "image/png": "[encoded data removed]"
          },
          "metadata": {}
        }
      ]
    },
    {
      "cell_type": "code",
      "source": [
        "# Check the country that also Nordic countries\n",
        "freedom_10[freedom_10['Country'].isin(nordic['Country'])].reset_index(drop=True)"
      ],
      "metadata": {
        "colab": {
          "base_uri": "https://localhost:8080/",
          "height": 206
        },
        "id": "W0kuNiyqSYKr",
        "outputId": "c0cf6775-ada5-4186-f2ab-4afe96f5d4b7"
      },
      "execution_count": null,
      "outputs": [
        {
          "output_type": "execute_result",
          "data": {
            "text/plain": [
              "   Country  Freedom to make life choices RANK\n",
              "0  FINLAND                         0.736    1\n",
              "1   NORWAY                         0.728    8\n",
              "2   SWEDEN                         0.724    7\n",
              "3  DENMARK                         0.719    2\n",
              "4  ICELAND                         0.718    3"
            ],
            "text/html": [
              "\n",
              "  <div id=\"df-958e1278-71b0-49ad-8e5b-6099a957dfcf\">\n",
              "    <div class=\"colab-df-container\">\n",
              "      <div>\n",
              "<style scoped>\n",
              "    .dataframe tbody tr th:only-of-type {\n",
              "        vertical-align: middle;\n",
              "    }\n",
              "\n",
              "    .dataframe tbody tr th {\n",
              "        vertical-align: top;\n",
              "    }\n",
              "\n",
              "    .dataframe thead th {\n",
              "        text-align: right;\n",
              "    }\n",
              "</style>\n",
              "<table border=\"1\" class=\"dataframe\">\n",
              "  <thead>\n",
              "    <tr style=\"text-align: right;\">\n",
              "      <th></th>\n",
              "      <th>Country</th>\n",
              "      <th>Freedom to make life choices</th>\n",
              "      <th>RANK</th>\n",
              "    </tr>\n",
              "  </thead>\n",
              "  <tbody>\n",
              "    <tr>\n",
              "      <th>0</th>\n",
              "      <td>FINLAND</td>\n",
              "      <td>0.736</td>\n",
              "      <td>1</td>\n",
              "    </tr>\n",
              "    <tr>\n",
              "      <th>1</th>\n",
              "      <td>NORWAY</td>\n",
              "      <td>0.728</td>\n",
              "      <td>8</td>\n",
              "    </tr>\n",
              "    <tr>\n",
              "      <th>2</th>\n",
              "      <td>SWEDEN</td>\n",
              "      <td>0.724</td>\n",
              "      <td>7</td>\n",
              "    </tr>\n",
              "    <tr>\n",
              "      <th>3</th>\n",
              "      <td>DENMARK</td>\n",
              "      <td>0.719</td>\n",
              "      <td>2</td>\n",
              "    </tr>\n",
              "    <tr>\n",
              "      <th>4</th>\n",
              "      <td>ICELAND</td>\n",
              "      <td>0.718</td>\n",
              "      <td>3</td>\n",
              "    </tr>\n",
              "  </tbody>\n",
              "</table>\n",
              "</div>\n",
              "      <button class=\"colab-df-convert\" onclick=\"convertToInteractive('df-958e1278-71b0-49ad-8e5b-6099a957dfcf')\"\n",
              "              title=\"Convert this dataframe to an interactive table.\"\n",
              "              style=\"display:none;\">\n",
              "        \n",
              "  <svg xmlns=\"http://www.w3.org/2000/svg\" height=\"24px\"viewBox=\"0 0 24 24\"\n",
              "       width=\"24px\">\n",
              "    <path d=\"M0 0h24v24H0V0z\" fill=\"none\"/>\n",
              "    <path d=\"M18.56 5.44l.94 2.06.94-2.06 2.06-.94-2.06-.94-.94-2.06-.94 2.06-2.06.94zm-11 1L8.5 8.5l.94-2.06 2.06-.94-2.06-.94L8.5 2.5l-.94 2.06-2.06.94zm10 10l.94 2.06.94-2.06 2.06-.94-2.06-.94-.94-2.06-.94 2.06-2.06.94z\"/><path d=\"M17.41 7.96l-1.37-1.37c-.4-.4-.92-.59-1.43-.59-.52 0-1.04.2-1.43.59L10.3 9.45l-7.72 7.72c-.78.78-.78 2.05 0 2.83L4 21.41c.39.39.9.59 1.41.59.51 0 1.02-.2 1.41-.59l7.78-7.78 2.81-2.81c.8-.78.8-2.07 0-2.86zM5.41 20L4 18.59l7.72-7.72 1.47 1.35L5.41 20z\"/>\n",
              "  </svg>\n",
              "      </button>\n",
              "      \n",
              "  <style>\n",
              "    .colab-df-container {\n",
              "      display:flex;\n",
              "      flex-wrap:wrap;\n",
              "      gap: 12px;\n",
              "    }\n",
              "\n",
              "    .colab-df-convert {\n",
              "      background-color: #E8F0FE;\n",
              "      border: none;\n",
              "      border-radius: 50%;\n",
              "      cursor: pointer;\n",
              "      display: none;\n",
              "      fill: #1967D2;\n",
              "      height: 32px;\n",
              "      padding: 0 0 0 0;\n",
              "      width: 32px;\n",
              "    }\n",
              "\n",
              "    .colab-df-convert:hover {\n",
              "      background-color: #E2EBFA;\n",
              "      box-shadow: 0px 1px 2px rgba(60, 64, 67, 0.3), 0px 1px 3px 1px rgba(60, 64, 67, 0.15);\n",
              "      fill: #174EA6;\n",
              "    }\n",
              "\n",
              "    [theme=dark] .colab-df-convert {\n",
              "      background-color: #3B4455;\n",
              "      fill: #D2E3FC;\n",
              "    }\n",
              "\n",
              "    [theme=dark] .colab-df-convert:hover {\n",
              "      background-color: #434B5C;\n",
              "      box-shadow: 0px 1px 3px 1px rgba(0, 0, 0, 0.15);\n",
              "      filter: drop-shadow(0px 1px 2px rgba(0, 0, 0, 0.3));\n",
              "      fill: #FFFFFF;\n",
              "    }\n",
              "  </style>\n",
              "\n",
              "      <script>\n",
              "        const buttonEl =\n",
              "          document.querySelector('#df-958e1278-71b0-49ad-8e5b-6099a957dfcf button.colab-df-convert');\n",
              "        buttonEl.style.display =\n",
              "          google.colab.kernel.accessAllowed ? 'block' : 'none';\n",
              "\n",
              "        async function convertToInteractive(key) {\n",
              "          const element = document.querySelector('#df-958e1278-71b0-49ad-8e5b-6099a957dfcf');\n",
              "          const dataTable =\n",
              "            await google.colab.kernel.invokeFunction('convertToInteractive',\n",
              "                                                     [key], {});\n",
              "          if (!dataTable) return;\n",
              "\n",
              "          const docLinkHtml = 'Like what you see? Visit the ' +\n",
              "            '<a target=\"_blank\" href=https://colab.research.google.com/notebooks/data_table.ipynb>data table notebook</a>'\n",
              "            + ' to learn more about interactive tables.';\n",
              "          element.innerHTML = '';\n",
              "          dataTable['output_type'] = 'display_data';\n",
              "          await google.colab.output.renderOutput(dataTable, element);\n",
              "          const docLink = document.createElement('div');\n",
              "          docLink.innerHTML = docLinkHtml;\n",
              "          element.appendChild(docLink);\n",
              "        }\n",
              "      </script>\n",
              "    </div>\n",
              "  </div>\n",
              "  "
            ]
          },
          "metadata": {},
          "execution_count": 46
        }
      ]
    },
    {
      "cell_type": "markdown",
      "source": [
        "**Generosity and Happiness**"
      ],
      "metadata": {
        "id": "WS03_VrjfUWY"
      }
    },
    {
      "cell_type": "code",
      "source": [
        "# List the top 10 countries with highest generosity points\n",
        "generosity_10 = happiness.sort_values(by='Generosity', ascending=False)[['Country', 'Generosity', 'RANK']].head(10)"
      ],
      "metadata": {
        "id": "h5VR0VuXXio6"
      },
      "execution_count": null,
      "outputs": []
    },
    {
      "cell_type": "code",
      "source": [
        "plt.figure(figsize = (8, 6)) # Set the figure width and height\n",
        "\n",
        "# Bar chart showing top 10 countries with highest contribution of generosity on happiness level\n",
        "ax = sns.barplot(x='Generosity', y='Country', data=generosity_10, palette='cool')\n",
        "\n",
        "# Set the chart style\n",
        "sns.set_style(\"ticks\")\n",
        "sns.despine()\n",
        "\n",
        "# Set the title, the labels, and custom ticks\n",
        "plt.title(\"Top 10 Countries with Highest Contribution of Generosity on Happiness Level\", fontsize = 16, pad=10)\n",
        "ax.set_xlabel(\"Generosity Points\", fontsize=14, labelpad=5)\n",
        "ax.set_ylabel(\"\")\n",
        "ax.tick_params(labelsize=12)\n",
        "\n",
        "# Show the plot\n",
        "plt.show()"
      ],
      "metadata": {
        "colab": {
          "base_uri": "https://localhost:8080/",
          "height": 418
        },
        "id": "2gtwL7R-X1A6",
        "outputId": "4b56ee3e-45da-4617-d2b5-da3bad309f0b"
      },
      "execution_count": null,
      "outputs": [
        {
          "output_type": "display_data",
          "data": {
            "text/plain": [
              "<Figure size 576x432 with 1 Axes>"
            ],
            "image/png": "[encoded data removed]"
          },
          "metadata": {}
        }
      ]
    },
    {
      "cell_type": "code",
      "source": [
        "# Check the country that also Nordic countries\n",
        "generosity_10[generosity_10['Country'].isin(nordic['Country'])].reset_index(drop=True)"
      ],
      "metadata": {
        "colab": {
          "base_uri": "https://localhost:8080/",
          "height": 49
        },
        "id": "9Dek58IgSeVz",
        "outputId": "3e081bd6-24dc-4d78-a83a-93338ef10fc4"
      },
      "execution_count": null,
      "outputs": [
        {
          "output_type": "execute_result",
          "data": {
            "text/plain": [
              "Empty DataFrame\n",
              "Columns: [Country, Generosity, RANK]\n",
              "Index: []"
            ],
            "text/html": [
              "\n",
              "  <div id=\"df-035ce809-019e-47a7-9b91-c5813bc4e7f9\">\n",
              "    <div class=\"colab-df-container\">\n",
              "      <div>\n",
              "<style scoped>\n",
              "    .dataframe tbody tr th:only-of-type {\n",
              "        vertical-align: middle;\n",
              "    }\n",
              "\n",
              "    .dataframe tbody tr th {\n",
              "        vertical-align: top;\n",
              "    }\n",
              "\n",
              "    .dataframe thead th {\n",
              "        text-align: right;\n",
              "    }\n",
              "</style>\n",
              "<table border=\"1\" class=\"dataframe\">\n",
              "  <thead>\n",
              "    <tr style=\"text-align: right;\">\n",
              "      <th></th>\n",
              "      <th>Country</th>\n",
              "      <th>Generosity</th>\n",
              "      <th>RANK</th>\n",
              "    </tr>\n",
              "  </thead>\n",
              "  <tbody>\n",
              "  </tbody>\n",
              "</table>\n",
              "</div>\n",
              "      <button class=\"colab-df-convert\" onclick=\"convertToInteractive('df-035ce809-019e-47a7-9b91-c5813bc4e7f9')\"\n",
              "              title=\"Convert this dataframe to an interactive table.\"\n",
              "              style=\"display:none;\">\n",
              "        \n",
              "  <svg xmlns=\"http://www.w3.org/2000/svg\" height=\"24px\"viewBox=\"0 0 24 24\"\n",
              "       width=\"24px\">\n",
              "    <path d=\"M0 0h24v24H0V0z\" fill=\"none\"/>\n",
              "    <path d=\"M18.56 5.44l.94 2.06.94-2.06 2.06-.94-2.06-.94-.94-2.06-.94 2.06-2.06.94zm-11 1L8.5 8.5l.94-2.06 2.06-.94-2.06-.94L8.5 2.5l-.94 2.06-2.06.94zm10 10l.94 2.06.94-2.06 2.06-.94-2.06-.94-.94-2.06-.94 2.06-2.06.94z\"/><path d=\"M17.41 7.96l-1.37-1.37c-.4-.4-.92-.59-1.43-.59-.52 0-1.04.2-1.43.59L10.3 9.45l-7.72 7.72c-.78.78-.78 2.05 0 2.83L4 21.41c.39.39.9.59 1.41.59.51 0 1.02-.2 1.41-.59l7.78-7.78 2.81-2.81c.8-.78.8-2.07 0-2.86zM5.41 20L4 18.59l7.72-7.72 1.47 1.35L5.41 20z\"/>\n",
              "  </svg>\n",
              "      </button>\n",
              "      \n",
              "  <style>\n",
              "    .colab-df-container {\n",
              "      display:flex;\n",
              "      flex-wrap:wrap;\n",
              "      gap: 12px;\n",
              "    }\n",
              "\n",
              "    .colab-df-convert {\n",
              "      background-color: #E8F0FE;\n",
              "      border: none;\n",
              "      border-radius: 50%;\n",
              "      cursor: pointer;\n",
              "      display: none;\n",
              "      fill: #1967D2;\n",
              "      height: 32px;\n",
              "      padding: 0 0 0 0;\n",
              "      width: 32px;\n",
              "    }\n",
              "\n",
              "    .colab-df-convert:hover {\n",
              "      background-color: #E2EBFA;\n",
              "      box-shadow: 0px 1px 2px rgba(60, 64, 67, 0.3), 0px 1px 3px 1px rgba(60, 64, 67, 0.15);\n",
              "      fill: #174EA6;\n",
              "    }\n",
              "\n",
              "    [theme=dark] .colab-df-convert {\n",
              "      background-color: #3B4455;\n",
              "      fill: #D2E3FC;\n",
              "    }\n",
              "\n",
              "    [theme=dark] .colab-df-convert:hover {\n",
              "      background-color: #434B5C;\n",
              "      box-shadow: 0px 1px 3px 1px rgba(0, 0, 0, 0.15);\n",
              "      filter: drop-shadow(0px 1px 2px rgba(0, 0, 0, 0.3));\n",
              "      fill: #FFFFFF;\n",
              "    }\n",
              "  </style>\n",
              "\n",
              "      <script>\n",
              "        const buttonEl =\n",
              "          document.querySelector('#df-035ce809-019e-47a7-9b91-c5813bc4e7f9 button.colab-df-convert');\n",
              "        buttonEl.style.display =\n",
              "          google.colab.kernel.accessAllowed ? 'block' : 'none';\n",
              "\n",
              "        async function convertToInteractive(key) {\n",
              "          const element = document.querySelector('#df-035ce809-019e-47a7-9b91-c5813bc4e7f9');\n",
              "          const dataTable =\n",
              "            await google.colab.kernel.invokeFunction('convertToInteractive',\n",
              "                                                     [key], {});\n",
              "          if (!dataTable) return;\n",
              "\n",
              "          const docLinkHtml = 'Like what you see? Visit the ' +\n",
              "            '<a target=\"_blank\" href=https://colab.research.google.com/notebooks/data_table.ipynb>data table notebook</a>'\n",
              "            + ' to learn more about interactive tables.';\n",
              "          element.innerHTML = '';\n",
              "          dataTable['output_type'] = 'display_data';\n",
              "          await google.colab.output.renderOutput(dataTable, element);\n",
              "          const docLink = document.createElement('div');\n",
              "          docLink.innerHTML = docLinkHtml;\n",
              "          element.appendChild(docLink);\n",
              "        }\n",
              "      </script>\n",
              "    </div>\n",
              "  </div>\n",
              "  "
            ]
          },
          "metadata": {},
          "execution_count": 47
        }
      ]
    },
    {
      "cell_type": "code",
      "source": [
        "# List the top 20 countries with highest generosity points\n",
        "generosity_20 = happiness.sort_values(by='Generosity', ascending=False).reset_index(drop=True)[['Country', 'Generosity', 'RANK']].head(20)\n",
        "generosity_20\n",
        "\n",
        "# Find the position of Nordic countries in the list\n",
        "generosity_20['Nordic'] = np.where(generosity_20['Country'].isin(nordic['Country']), True, False)\n",
        "generosity_20"
      ],
      "metadata": {
        "colab": {
          "base_uri": "https://localhost:8080/",
          "height": 676
        },
        "id": "mysqyurIX4w6",
        "outputId": "d345006d-0873-481a-b21e-dffdd8241e7e"
      },
      "execution_count": null,
      "outputs": [
        {
          "output_type": "execute_result",
          "data": {
            "text/plain": [
              "                   Country  Generosity RANK  Nordic\n",
              "0                INDONESIA       0.468   87   False\n",
              "1                  MYANMAR       0.452  126   False\n",
              "2                  GAMBIA*       0.388   93   False\n",
              "3                    KENYA       0.322  119   False\n",
              "4                 THAILAND       0.321   61   False\n",
              "5            TURKMENISTAN*       0.314   78   False\n",
              "6                   KOSOVO       0.309   32   False\n",
              "7           UNITED KINGDOM       0.289   17   False\n",
              "8               UZBEKISTAN       0.283   53   False\n",
              "9              NETHERLANDS       0.271    5   False\n",
              "10                 ICELAND       0.270    3    True\n",
              "11               AUSTRALIA       0.258   12   False\n",
              "12                TANZANIA       0.248  139   False\n",
              "13                MONGOLIA       0.247   68   False\n",
              "14             NEW ZEALAND       0.245   10   False\n",
              "15  BOSNIA AND HERZEGOVINA       0.244   67   False\n",
              "16                    IRAN       0.241  110   False\n",
              "17                   NEPAL       0.237   84   False\n",
              "18                   GHANA       0.230  111   False\n",
              "19               VENEZUELA       0.225  108   False"
            ],
            "text/html": [
              "\n",
              "  <div id=\"df-ccbb6d57-09a7-428f-881d-3a27f082c85e\">\n",
              "    <div class=\"colab-df-container\">\n",
              "      <div>\n",
              "<style scoped>\n",
              "    .dataframe tbody tr th:only-of-type {\n",
              "        vertical-align: middle;\n",
              "    }\n",
              "\n",
              "    .dataframe tbody tr th {\n",
              "        vertical-align: top;\n",
              "    }\n",
              "\n",
              "    .dataframe thead th {\n",
              "        text-align: right;\n",
              "    }\n",
              "</style>\n",
              "<table border=\"1\" class=\"dataframe\">\n",
              "  <thead>\n",
              "    <tr style=\"text-align: right;\">\n",
              "      <th></th>\n",
              "      <th>Country</th>\n",
              "      <th>Generosity</th>\n",
              "      <th>RANK</th>\n",
              "      <th>Nordic</th>\n",
              "    </tr>\n",
              "  </thead>\n",
              "  <tbody>\n",
              "    <tr>\n",
              "      <th>0</th>\n",
              "      <td>INDONESIA</td>\n",
              "      <td>0.468</td>\n",
              "      <td>87</td>\n",
              "      <td>False</td>\n",
              "    </tr>\n",
              "    <tr>\n",
              "      <th>1</th>\n",
              "      <td>MYANMAR</td>\n",
              "      <td>0.452</td>\n",
              "      <td>126</td>\n",
              "      <td>False</td>\n",
              "    </tr>\n",
              "    <tr>\n",
              "      <th>2</th>\n",
              "      <td>GAMBIA*</td>\n",
              "      <td>0.388</td>\n",
              "      <td>93</td>\n",
              "      <td>False</td>\n",
              "    </tr>\n",
              "    <tr>\n",
              "      <th>3</th>\n",
              "      <td>KENYA</td>\n",
              "      <td>0.322</td>\n",
              "      <td>119</td>\n",
              "      <td>False</td>\n",
              "    </tr>\n",
              "    <tr>\n",
              "      <th>4</th>\n",
              "      <td>THAILAND</td>\n",
              "      <td>0.321</td>\n",
              "      <td>61</td>\n",
              "      <td>False</td>\n",
              "    </tr>\n",
              "    <tr>\n",
              "      <th>5</th>\n",
              "      <td>TURKMENISTAN*</td>\n",
              "      <td>0.314</td>\n",
              "      <td>78</td>\n",
              "      <td>False</td>\n",
              "    </tr>\n",
              "    <tr>\n",
              "      <th>6</th>\n",
              "      <td>KOSOVO</td>\n",
              "      <td>0.309</td>\n",
              "      <td>32</td>\n",
              "      <td>False</td>\n",
              "    </tr>\n",
              "    <tr>\n",
              "      <th>7</th>\n",
              "      <td>UNITED KINGDOM</td>\n",
              "      <td>0.289</td>\n",
              "      <td>17</td>\n",
              "      <td>False</td>\n",
              "    </tr>\n",
              "    <tr>\n",
              "      <th>8</th>\n",
              "      <td>UZBEKISTAN</td>\n",
              "      <td>0.283</td>\n",
              "      <td>53</td>\n",
              "      <td>False</td>\n",
              "    </tr>\n",
              "    <tr>\n",
              "      <th>9</th>\n",
              "      <td>NETHERLANDS</td>\n",
              "      <td>0.271</td>\n",
              "      <td>5</td>\n",
              "      <td>False</td>\n",
              "    </tr>\n",
              "    <tr>\n",
              "      <th>10</th>\n",
              "      <td>ICELAND</td>\n",
              "      <td>0.270</td>\n",
              "      <td>3</td>\n",
              "      <td>True</td>\n",
              "    </tr>\n",
              "    <tr>\n",
              "      <th>11</th>\n",
              "      <td>AUSTRALIA</td>\n",
              "      <td>0.258</td>\n",
              "      <td>12</td>\n",
              "      <td>False</td>\n",
              "    </tr>\n",
              "    <tr>\n",
              "      <th>12</th>\n",
              "      <td>TANZANIA</td>\n",
              "      <td>0.248</td>\n",
              "      <td>139</td>\n",
              "      <td>False</td>\n",
              "    </tr>\n",
              "    <tr>\n",
              "      <th>13</th>\n",
              "      <td>MONGOLIA</td>\n",
              "      <td>0.247</td>\n",
              "      <td>68</td>\n",
              "      <td>False</td>\n",
              "    </tr>\n",
              "    <tr>\n",
              "      <th>14</th>\n",
              "      <td>NEW ZEALAND</td>\n",
              "      <td>0.245</td>\n",
              "      <td>10</td>\n",
              "      <td>False</td>\n",
              "    </tr>\n",
              "    <tr>\n",
              "      <th>15</th>\n",
              "      <td>BOSNIA AND HERZEGOVINA</td>\n",
              "      <td>0.244</td>\n",
              "      <td>67</td>\n",
              "      <td>False</td>\n",
              "    </tr>\n",
              "    <tr>\n",
              "      <th>16</th>\n",
              "      <td>IRAN</td>\n",
              "      <td>0.241</td>\n",
              "      <td>110</td>\n",
              "      <td>False</td>\n",
              "    </tr>\n",
              "    <tr>\n",
              "      <th>17</th>\n",
              "      <td>NEPAL</td>\n",
              "      <td>0.237</td>\n",
              "      <td>84</td>\n",
              "      <td>False</td>\n",
              "    </tr>\n",
              "    <tr>\n",
              "      <th>18</th>\n",
              "      <td>GHANA</td>\n",
              "      <td>0.230</td>\n",
              "      <td>111</td>\n",
              "      <td>False</td>\n",
              "    </tr>\n",
              "    <tr>\n",
              "      <th>19</th>\n",
              "      <td>VENEZUELA</td>\n",
              "      <td>0.225</td>\n",
              "      <td>108</td>\n",
              "      <td>False</td>\n",
              "    </tr>\n",
              "  </tbody>\n",
              "</table>\n",
              "</div>\n",
              "      <button class=\"colab-df-convert\" onclick=\"convertToInteractive('df-ccbb6d57-09a7-428f-881d-3a27f082c85e')\"\n",
              "              title=\"Convert this dataframe to an interactive table.\"\n",
              "              style=\"display:none;\">\n",
              "        \n",
              "  <svg xmlns=\"http://www.w3.org/2000/svg\" height=\"24px\"viewBox=\"0 0 24 24\"\n",
              "       width=\"24px\">\n",
              "    <path d=\"M0 0h24v24H0V0z\" fill=\"none\"/>\n",
              "    <path d=\"M18.56 5.44l.94 2.06.94-2.06 2.06-.94-2.06-.94-.94-2.06-.94 2.06-2.06.94zm-11 1L8.5 8.5l.94-2.06 2.06-.94-2.06-.94L8.5 2.5l-.94 2.06-2.06.94zm10 10l.94 2.06.94-2.06 2.06-.94-2.06-.94-.94-2.06-.94 2.06-2.06.94z\"/><path d=\"M17.41 7.96l-1.37-1.37c-.4-.4-.92-.59-1.43-.59-.52 0-1.04.2-1.43.59L10.3 9.45l-7.72 7.72c-.78.78-.78 2.05 0 2.83L4 21.41c.39.39.9.59 1.41.59.51 0 1.02-.2 1.41-.59l7.78-7.78 2.81-2.81c.8-.78.8-2.07 0-2.86zM5.41 20L4 18.59l7.72-7.72 1.47 1.35L5.41 20z\"/>\n",
              "  </svg>\n",
              "      </button>\n",
              "      \n",
              "  <style>\n",
              "    .colab-df-container {\n",
              "      display:flex;\n",
              "      flex-wrap:wrap;\n",
              "      gap: 12px;\n",
              "    }\n",
              "\n",
              "    .colab-df-convert {\n",
              "      background-color: #E8F0FE;\n",
              "      border: none;\n",
              "      border-radius: 50%;\n",
              "      cursor: pointer;\n",
              "      display: none;\n",
              "      fill: #1967D2;\n",
              "      height: 32px;\n",
              "      padding: 0 0 0 0;\n",
              "      width: 32px;\n",
              "    }\n",
              "\n",
              "    .colab-df-convert:hover {\n",
              "      background-color: #E2EBFA;\n",
              "      box-shadow: 0px 1px 2px rgba(60, 64, 67, 0.3), 0px 1px 3px 1px rgba(60, 64, 67, 0.15);\n",
              "      fill: #174EA6;\n",
              "    }\n",
              "\n",
              "    [theme=dark] .colab-df-convert {\n",
              "      background-color: #3B4455;\n",
              "      fill: #D2E3FC;\n",
              "    }\n",
              "\n",
              "    [theme=dark] .colab-df-convert:hover {\n",
              "      background-color: #434B5C;\n",
              "      box-shadow: 0px 1px 3px 1px rgba(0, 0, 0, 0.15);\n",
              "      filter: drop-shadow(0px 1px 2px rgba(0, 0, 0, 0.3));\n",
              "      fill: #FFFFFF;\n",
              "    }\n",
              "  </style>\n",
              "\n",
              "      <script>\n",
              "        const buttonEl =\n",
              "          document.querySelector('#df-ccbb6d57-09a7-428f-881d-3a27f082c85e button.colab-df-convert');\n",
              "        buttonEl.style.display =\n",
              "          google.colab.kernel.accessAllowed ? 'block' : 'none';\n",
              "\n",
              "        async function convertToInteractive(key) {\n",
              "          const element = document.querySelector('#df-ccbb6d57-09a7-428f-881d-3a27f082c85e');\n",
              "          const dataTable =\n",
              "            await google.colab.kernel.invokeFunction('convertToInteractive',\n",
              "                                                     [key], {});\n",
              "          if (!dataTable) return;\n",
              "\n",
              "          const docLinkHtml = 'Like what you see? Visit the ' +\n",
              "            '<a target=\"_blank\" href=https://colab.research.google.com/notebooks/data_table.ipynb>data table notebook</a>'\n",
              "            + ' to learn more about interactive tables.';\n",
              "          element.innerHTML = '';\n",
              "          dataTable['output_type'] = 'display_data';\n",
              "          await google.colab.output.renderOutput(dataTable, element);\n",
              "          const docLink = document.createElement('div');\n",
              "          docLink.innerHTML = docLinkHtml;\n",
              "          element.appendChild(docLink);\n",
              "        }\n",
              "      </script>\n",
              "    </div>\n",
              "  </div>\n",
              "  "
            ]
          },
          "metadata": {},
          "execution_count": 48
        }
      ]
    },
    {
      "cell_type": "markdown",
      "source": [
        "**Perceptions of Corruption and Happiness**"
      ],
      "metadata": {
        "id": "dcnARgeNfY6m"
      }
    },
    {
      "cell_type": "code",
      "source": [
        "# List the top 10 countries with highest perceptions of corruption points\n",
        "corrupt_10 = happiness.sort_values(by='Perceptions of corruption', ascending=False)[['Country', 'Perceptions of corruption', 'RANK']].head(10)"
      ],
      "metadata": {
        "id": "lmkPOgMNYB4K"
      },
      "execution_count": null,
      "outputs": []
    },
    {
      "cell_type": "code",
      "source": [
        "plt.figure(figsize = (8, 6)) # Set the figure width and height\n",
        "\n",
        "# Bar chart showing top 10 countries with highest contribution of perceptions of corruption on happiness level\n",
        "ax = sns.barplot(x='Perceptions of corruption', y='Country', data=corrupt_10, palette='YlOrBr')\n",
        "\n",
        "# Set the chart style\n",
        "sns.set_style(\"ticks\")\n",
        "sns.despine()\n",
        "\n",
        "# Set the title, the labels, and custom ticks\n",
        "plt.title(\"Top 10 Countries with Highest Contribution of Perceptions of corruption on Happiness Level\", fontsize = 16, pad=10)\n",
        "ax.set_xlabel(\"Perceptions on corruption Points\", fontsize=14, labelpad=5)\n",
        "ax.set_ylabel(\"\")\n",
        "ax.tick_params(labelsize=12)\n",
        "\n",
        "# Show the plot\n",
        "plt.show()"
      ],
      "metadata": {
        "colab": {
          "base_uri": "https://localhost:8080/",
          "height": 418
        },
        "id": "g4lOZIdaYHth",
        "outputId": "2c8d0256-b93d-4799-b941-deae9d3100ac"
      },
      "execution_count": null,
      "outputs": [
        {
          "output_type": "display_data",
          "data": {
            "text/plain": [
              "<Figure size 576x432 with 1 Axes>"
            ],
            "image/png": "[encoded data removed]"
          },
          "metadata": {}
        }
      ]
    },
    {
      "cell_type": "code",
      "source": [
        "# Check the country that also Nordic countries\n",
        "corrupt_10[corrupt_10['Country'].isin(nordic['Country'])].reset_index(drop=True)"
      ],
      "metadata": {
        "colab": {
          "base_uri": "https://localhost:8080/",
          "height": 175
        },
        "id": "_mzxUteBSpsa",
        "outputId": "30df8878-99ea-464a-fb62-bd63d0c3885d"
      },
      "execution_count": null,
      "outputs": [
        {
          "output_type": "execute_result",
          "data": {
            "text/plain": [
              "   Country  Perceptions of corruption RANK\n",
              "0  FINLAND                      0.534    1\n",
              "1  DENMARK                      0.532    2\n",
              "2   SWEDEN                      0.512    7\n",
              "3   NORWAY                      0.474    8"
            ],
            "text/html": [
              "\n",
              "  <div id=\"df-778b38c9-a908-4514-b5b0-1270c4f5a513\">\n",
              "    <div class=\"colab-df-container\">\n",
              "      <div>\n",
              "<style scoped>\n",
              "    .dataframe tbody tr th:only-of-type {\n",
              "        vertical-align: middle;\n",
              "    }\n",
              "\n",
              "    .dataframe tbody tr th {\n",
              "        vertical-align: top;\n",
              "    }\n",
              "\n",
              "    .dataframe thead th {\n",
              "        text-align: right;\n",
              "    }\n",
              "</style>\n",
              "<table border=\"1\" class=\"dataframe\">\n",
              "  <thead>\n",
              "    <tr style=\"text-align: right;\">\n",
              "      <th></th>\n",
              "      <th>Country</th>\n",
              "      <th>Perceptions of corruption</th>\n",
              "      <th>RANK</th>\n",
              "    </tr>\n",
              "  </thead>\n",
              "  <tbody>\n",
              "    <tr>\n",
              "      <th>0</th>\n",
              "      <td>FINLAND</td>\n",
              "      <td>0.534</td>\n",
              "      <td>1</td>\n",
              "    </tr>\n",
              "    <tr>\n",
              "      <th>1</th>\n",
              "      <td>DENMARK</td>\n",
              "      <td>0.532</td>\n",
              "      <td>2</td>\n",
              "    </tr>\n",
              "    <tr>\n",
              "      <th>2</th>\n",
              "      <td>SWEDEN</td>\n",
              "      <td>0.512</td>\n",
              "      <td>7</td>\n",
              "    </tr>\n",
              "    <tr>\n",
              "      <th>3</th>\n",
              "      <td>NORWAY</td>\n",
              "      <td>0.474</td>\n",
              "      <td>8</td>\n",
              "    </tr>\n",
              "  </tbody>\n",
              "</table>\n",
              "</div>\n",
              "      <button class=\"colab-df-convert\" onclick=\"convertToInteractive('df-778b38c9-a908-4514-b5b0-1270c4f5a513')\"\n",
              "              title=\"Convert this dataframe to an interactive table.\"\n",
              "              style=\"display:none;\">\n",
              "        \n",
              "  <svg xmlns=\"http://www.w3.org/2000/svg\" height=\"24px\"viewBox=\"0 0 24 24\"\n",
              "       width=\"24px\">\n",
              "    <path d=\"M0 0h24v24H0V0z\" fill=\"none\"/>\n",
              "    <path d=\"M18.56 5.44l.94 2.06.94-2.06 2.06-.94-2.06-.94-.94-2.06-.94 2.06-2.06.94zm-11 1L8.5 8.5l.94-2.06 2.06-.94-2.06-.94L8.5 2.5l-.94 2.06-2.06.94zm10 10l.94 2.06.94-2.06 2.06-.94-2.06-.94-.94-2.06-.94 2.06-2.06.94z\"/><path d=\"M17.41 7.96l-1.37-1.37c-.4-.4-.92-.59-1.43-.59-.52 0-1.04.2-1.43.59L10.3 9.45l-7.72 7.72c-.78.78-.78 2.05 0 2.83L4 21.41c.39.39.9.59 1.41.59.51 0 1.02-.2 1.41-.59l7.78-7.78 2.81-2.81c.8-.78.8-2.07 0-2.86zM5.41 20L4 18.59l7.72-7.72 1.47 1.35L5.41 20z\"/>\n",
              "  </svg>\n",
              "      </button>\n",
              "      \n",
              "  <style>\n",
              "    .colab-df-container {\n",
              "      display:flex;\n",
              "      flex-wrap:wrap;\n",
              "      gap: 12px;\n",
              "    }\n",
              "\n",
              "    .colab-df-convert {\n",
              "      background-color: #E8F0FE;\n",
              "      border: none;\n",
              "      border-radius: 50%;\n",
              "      cursor: pointer;\n",
              "      display: none;\n",
              "      fill: #1967D2;\n",
              "      height: 32px;\n",
              "      padding: 0 0 0 0;\n",
              "      width: 32px;\n",
              "    }\n",
              "\n",
              "    .colab-df-convert:hover {\n",
              "      background-color: #E2EBFA;\n",
              "      box-shadow: 0px 1px 2px rgba(60, 64, 67, 0.3), 0px 1px 3px 1px rgba(60, 64, 67, 0.15);\n",
              "      fill: #174EA6;\n",
              "    }\n",
              "\n",
              "    [theme=dark] .colab-df-convert {\n",
              "      background-color: #3B4455;\n",
              "      fill: #D2E3FC;\n",
              "    }\n",
              "\n",
              "    [theme=dark] .colab-df-convert:hover {\n",
              "      background-color: #434B5C;\n",
              "      box-shadow: 0px 1px 3px 1px rgba(0, 0, 0, 0.15);\n",
              "      filter: drop-shadow(0px 1px 2px rgba(0, 0, 0, 0.3));\n",
              "      fill: #FFFFFF;\n",
              "    }\n",
              "  </style>\n",
              "\n",
              "      <script>\n",
              "        const buttonEl =\n",
              "          document.querySelector('#df-778b38c9-a908-4514-b5b0-1270c4f5a513 button.colab-df-convert');\n",
              "        buttonEl.style.display =\n",
              "          google.colab.kernel.accessAllowed ? 'block' : 'none';\n",
              "\n",
              "        async function convertToInteractive(key) {\n",
              "          const element = document.querySelector('#df-778b38c9-a908-4514-b5b0-1270c4f5a513');\n",
              "          const dataTable =\n",
              "            await google.colab.kernel.invokeFunction('convertToInteractive',\n",
              "                                                     [key], {});\n",
              "          if (!dataTable) return;\n",
              "\n",
              "          const docLinkHtml = 'Like what you see? Visit the ' +\n",
              "            '<a target=\"_blank\" href=https://colab.research.google.com/notebooks/data_table.ipynb>data table notebook</a>'\n",
              "            + ' to learn more about interactive tables.';\n",
              "          element.innerHTML = '';\n",
              "          dataTable['output_type'] = 'display_data';\n",
              "          await google.colab.output.renderOutput(dataTable, element);\n",
              "          const docLink = document.createElement('div');\n",
              "          docLink.innerHTML = docLinkHtml;\n",
              "          element.appendChild(docLink);\n",
              "        }\n",
              "      </script>\n",
              "    </div>\n",
              "  </div>\n",
              "  "
            ]
          },
          "metadata": {},
          "execution_count": 49
        }
      ]
    },
    {
      "cell_type": "code",
      "source": [
        "# List the top 20 countries with highest Perceptions of corruption points\n",
        "corrupt_20 = happiness.sort_values(by='Perceptions of corruption', ascending=False).reset_index(drop=True)[['Country', 'Perceptions of corruption', 'RANK']].head(20)\n",
        "corrupt_20\n",
        "\n",
        "# Find the position of Nordic countries in the list\n",
        "corrupt_20['Nordic'] = np.where(corrupt_20['Country'].isin(nordic['Country']), True, False)"
      ],
      "metadata": {
        "id": "j5IMVlVyYLpp"
      },
      "execution_count": null,
      "outputs": []
    },
    {
      "cell_type": "markdown",
      "source": [
        "Nordic Countries vs The World"
      ],
      "metadata": {
        "id": "FP_OhcSdS77w"
      }
    },
    {
      "cell_type": "code",
      "source": [
        "# The Nordic countries average\n",
        "col = ['GDP per capita',\n",
        "       'Social support', \n",
        "       'Healthy life expectancy',\n",
        "       'Freedom to make life choices', \n",
        "       'Generosity',\n",
        "       'Perceptions of corruption',]\n",
        "nordic_df = pd.DataFrame(nordic[col].mean(axis=0))\n",
        "nordic_df = nordic_df.T    # Transpose the dataframe\n",
        "nordic_df.insert(0, 'Country', 'Nordic Countries (avg)')"
      ],
      "metadata": {
        "id": "nQcuCOVcS9vY"
      },
      "execution_count": null,
      "outputs": []
    },
    {
      "cell_type": "code",
      "source": [
        "# The world average\n",
        "world_df = pd.DataFrame(happiness[col].mean(axis=0))\n",
        "world_df = world_df.T    # Transpose the dataframe\n",
        "world_df.insert(0, 'Country', 'World (avg)')"
      ],
      "metadata": {
        "id": "lYoPBIK9TGEA"
      },
      "execution_count": null,
      "outputs": []
    },
    {
      "cell_type": "code",
      "source": [
        "# The world happiness variables average excluding Nordic countries\n",
        "exclude_nordic = happiness[~happiness['Country'].isin(nordic['Country'])].reset_index(drop=True)\n",
        "exclude_nordic = pd.DataFrame(exclude_nordic[col].mean(axis=0))\n",
        "exclude_nordic = exclude_nordic.T    # Transpose the dataframe\n",
        "exclude_nordic.insert(0, 'Country', 'World (Exclude Nordic Countries) (avg)')"
      ],
      "metadata": {
        "id": "sUFLXJbQTKHY"
      },
      "execution_count": null,
      "outputs": []
    },
    {
      "cell_type": "code",
      "source": [
        "# Concate the three dataframe\n",
        "df_avg = pd.concat([nordic_df, world_df, exclude_nordic], ignore_index=True)\n",
        "df_avg = pd.melt(df_avg, id_vars=['Country'], value_vars=col)"
      ],
      "metadata": {
        "id": "9clSdrFkTQXx"
      },
      "execution_count": null,
      "outputs": []
    },
    {
      "cell_type": "code",
      "source": [
        "plt.figure(figsize = (28, 6)) # Set the figure width and height\n",
        "\n",
        "# Bar chart showing overall average Nordic countries and the world\n",
        "ax = sns.barplot(x=\"variable\", y=\"value\", hue=\"Country\", data=df_avg, \n",
        "                 palette='Set1_r',  edgecolor=\"white\", linewidth=2)\n",
        "# Set the chart style\n",
        "sns.set_style(\"ticks\")\n",
        "sns.despine()\n",
        "\n",
        "# Set the title, the labels, the legend, and custom ticks\n",
        "plt.title(\"Nordic Countries vs World Average Points per Variable\", fontsize = 26, pad=15)\n",
        "ax.set_xlabel(\"\")\n",
        "ax.set_ylabel(\"Average Points\", fontsize=20, labelpad=10)\n",
        "ax.tick_params(labelsize=18)\n",
        "ax.legend(fontsize=18)\n",
        "# Show the plot\n",
        "plt.show()"
      ],
      "metadata": {
        "colab": {
          "base_uri": "https://localhost:8080/",
          "height": 287
        },
        "id": "M9M24o_7TUar",
        "outputId": "eb50d2e5-6a33-4e6b-d6ec-5e229dca47a3"
      },
      "execution_count": null,
      "outputs": [
        {
          "output_type": "display_data",
          "data": {
            "text/plain": [
              "<Figure size 2016x432 with 1 Axes>"
            ],
            "image/png": "[encoded data removed]"
          },
          "metadata": {}
        }
      ]
    },
    {
      "cell_type": "markdown",
      "source": [
        "## **HAPPINESS LEVEL BY COUNTRY MAP**"
      ],
      "metadata": {
        "id": "igdZJfoNfiQZ"
      }
    },
    {
      "cell_type": "code",
      "source": [
        "import plotly.offline as py\n",
        "py.init_notebook_mode(connected=True)\n",
        "import plotly.express as px\n",
        "\n",
        "fig = px.choropleth(happiness, locations='Country',\n",
        "                    locationmode = \"country names\",\n",
        "                    color=\"Happiness score\",\n",
        "                    hover_name = 'Country',\n",
        "                    hover_data={'Country':False,\n",
        "                                'RANK': True\n",
        "                               }\n",
        "                   )\n",
        "fig.update_layout(width=900, height=400, margin={\"r\":0,\"t\":0,\"l\":0,\"b\":0})\n",
        "fig.show()"
      ],
      "metadata": {
        "colab": {
          "base_uri": "https://localhost:8080/",
          "height": 417
        },
        "id": "eZJZmMcJYT95",
        "outputId": "b7297058-dc4b-47eb-d98f-bf3b41285a46"
      },
      "execution_count": null,
      "outputs": [
        {
          "output_type": "display_data",
          "data": {
            "text/html": [
              "        <script type=\"text/javascript\">\n",
              "        window.PlotlyConfig = {MathJaxConfig: 'local'};\n",
              "        if (window.MathJax) {MathJax.Hub.Config({SVG: {font: \"STIX-Web\"}});}\n",
              "        if (typeof require !== 'undefined') {\n",
              "        require.undef(\"plotly\");\n",
              "        requirejs.config({\n",
              "            paths: {\n",
              "                'plotly': ['https://cdn.plot.ly/plotly-2.8.3.min']\n",
              "            }\n",
              "        });\n",
              "        require(['plotly'], function(Plotly) {\n",
              "            window._Plotly = Plotly;\n",
              "        });\n",
              "        }\n",
              "        </script>\n",
              "        "
            ]
          },
          "metadata": {}
        },
        {
          "output_type": "display_data",
          "data": {
            "application/vnd.plotly.v1+json": {
              "data": [
                {
                  "coloraxis": "coloraxis",
                  "customdata": [
                    [
                      "FINLAND",
                      "1"
                    ],
                    [
                      "DENMARK",
                      "2"
                    ],
                    [
                      "ICELAND",
                      "3"
                    ],
                    [
                      "SWITZERLAND",
                      "4"
                    ],
                    [
                      "NETHERLANDS",
                      "5"
                    ],
                    [
                      "LUXEMBOURG*",
                      "6"
                    ],
                    [
                      "SWEDEN",
                      "7"
                    ],
                    [
                      "NORWAY",
                      "8"
                    ],
                    [
                      "ISRAEL",
                      "9"
                    ],
                    [
                      "NEW ZEALAND",
                      "10"
                    ],
                    [
                      "AUSTRIA",
                      "11"
                    ],
                    [
                      "AUSTRALIA",
                      "12"
                    ],
                    [
                      "IRELAND",
                      "13"
                    ],
                    [
                      "GERMANY",
                      "14"
                    ],
                    [
                      "CANADA",
                      "15"
                    ],
                    [
                      "UNITED STATES",
                      "16"
                    ],
                    [
                      "UNITED KINGDOM",
                      "17"
                    ],
                    [
                      "CZECHIA",
                      "18"
                    ],
                    [
                      "BELGIUM",
                      "19"
                    ],
                    [
                      "FRANCE",
                      "20"
                    ],
                    [
                      "BAHRAIN",
                      "21"
                    ],
                    [
                      "SLOVENIA",
                      "22"
                    ],
                    [
                      "COSTA RICA",
                      "23"
                    ],
                    [
                      "UNITED ARAB EMIRATES",
                      "24"
                    ],
                    [
                      "SAUDI ARABIA",
                      "25"
                    ],
                    [
                      "TAIWAN PROVINCE OF CHINA",
                      "26"
                    ],
                    [
                      "SINGAPORE",
                      "27"
                    ],
                    [
                      "ROMANIA",
                      "28"
                    ],
                    [
                      "SPAIN",
                      "29"
                    ],
                    [
                      "URUGUAY",
                      "30"
                    ],
                    [
                      "ITALY",
                      "31"
                    ],
                    [
                      "KOSOVO",
                      "32"
                    ],
                    [
                      "MALTA",
                      "33"
                    ],
                    [
                      "LITHUANIA",
                      "34"
                    ],
                    [
                      "SLOVAKIA",
                      "35"
                    ],
                    [
                      "ESTONIA",
                      "36"
                    ],
                    [
                      "PANAMA",
                      "37"
                    ],
                    [
                      "BRAZIL",
                      "38"
                    ],
                    [
                      "GUATEMALA*",
                      "39"
                    ],
                    [
                      "KAZAKHSTAN",
                      "40"
                    ],
                    [
                      "CYPRUS",
                      "41"
                    ],
                    [
                      "LATVIA",
                      "42"
                    ],
                    [
                      "SERBIA",
                      "43"
                    ],
                    [
                      "CHILE",
                      "44"
                    ],
                    [
                      "NICARAGUA",
                      "45"
                    ],
                    [
                      "MEXICO",
                      "46"
                    ],
                    [
                      "CROATIA",
                      "47"
                    ],
                    [
                      "POLAND",
                      "48"
                    ],
                    [
                      "EL SALVADOR",
                      "49"
                    ],
                    [
                      "KUWAIT*",
                      "50"
                    ],
                    [
                      "HUNGARY",
                      "51"
                    ],
                    [
                      "MAURITIUS",
                      "52"
                    ],
                    [
                      "UZBEKISTAN",
                      "53"
                    ],
                    [
                      "JAPAN",
                      "54"
                    ],
                    [
                      "HONDURAS",
                      "55"
                    ],
                    [
                      "PORTUGAL",
                      "56"
                    ],
                    [
                      "ARGENTINA",
                      "57"
                    ],
                    [
                      "GREECE",
                      "58"
                    ],
                    [
                      "SOUTH KOREA",
                      "59"
                    ],
                    [
                      "PHILIPPINES",
                      "60"
                    ],
                    [
                      "THAILAND",
                      "61"
                    ],
                    [
                      "MOLDOVA",
                      "62"
                    ],
                    [
                      "JAMAICA",
                      "63"
                    ],
                    [
                      "KYRGYZSTAN",
                      "64"
                    ],
                    [
                      "BELARUS*",
                      "65"
                    ],
                    [
                      "COLOMBIA",
                      "66"
                    ],
                    [
                      "BOSNIA AND HERZEGOVINA",
                      "67"
                    ],
                    [
                      "MONGOLIA",
                      "68"
                    ],
                    [
                      "DOMINICAN REPUBLIC",
                      "69"
                    ],
                    [
                      "MALAYSIA",
                      "70"
                    ],
                    [
                      "BOLIVIA",
                      "71"
                    ],
                    [
                      "CHINA",
                      "72"
                    ],
                    [
                      "PARAGUAY",
                      "73"
                    ],
                    [
                      "PERU",
                      "74"
                    ],
                    [
                      "MONTENEGRO",
                      "75"
                    ],
                    [
                      "ECUADOR",
                      "76"
                    ],
                    [
                      "VIETNAM",
                      "77"
                    ],
                    [
                      "TURKMENISTAN*",
                      "78"
                    ],
                    [
                      "NORTH CYPRUS*",
                      "79"
                    ],
                    [
                      "RUSSIA",
                      "80"
                    ],
                    [
                      "HONG KONG S.A.R. OF CHINA",
                      "81"
                    ],
                    [
                      "ARMENIA",
                      "82"
                    ],
                    [
                      "TAJIKISTAN",
                      "83"
                    ],
                    [
                      "NEPAL",
                      "84"
                    ],
                    [
                      "BULGARIA",
                      "85"
                    ],
                    [
                      "LIBYA*",
                      "86"
                    ],
                    [
                      "INDONESIA",
                      "87"
                    ],
                    [
                      "IVORY COAST",
                      "88"
                    ],
                    [
                      "NORTH MACEDONIA",
                      "89"
                    ],
                    [
                      "ALBANIA",
                      "90"
                    ],
                    [
                      "SOUTH AFRICA",
                      "91"
                    ],
                    [
                      "AZERBAIJAN*",
                      "92"
                    ],
                    [
                      "GAMBIA*",
                      "93"
                    ],
                    [
                      "BANGLADESH",
                      "94"
                    ],
                    [
                      "LAOS",
                      "95"
                    ],
                    [
                      "ALGERIA",
                      "96"
                    ],
                    [
                      "LIBERIA*",
                      "97"
                    ],
                    [
                      "UKRAINE",
                      "98"
                    ],
                    [
                      "CONGO",
                      "99"
                    ],
                    [
                      "MOROCCO",
                      "100"
                    ],
                    [
                      "MOZAMBIQUE",
                      "101"
                    ],
                    [
                      "CAMEROON",
                      "102"
                    ],
                    [
                      "SENEGAL",
                      "103"
                    ],
                    [
                      "NIGER*",
                      "104"
                    ],
                    [
                      "GEORGIA",
                      "105"
                    ],
                    [
                      "GABON",
                      "106"
                    ],
                    [
                      "IRAQ",
                      "107"
                    ],
                    [
                      "VENEZUELA",
                      "108"
                    ],
                    [
                      "GUINEA",
                      "109"
                    ],
                    [
                      "IRAN",
                      "110"
                    ],
                    [
                      "GHANA",
                      "111"
                    ],
                    [
                      "TURKEY",
                      "112"
                    ],
                    [
                      "BURKINA FASO",
                      "113"
                    ],
                    [
                      "CAMBODIA",
                      "114"
                    ],
                    [
                      "BENIN",
                      "115"
                    ],
                    [
                      "COMOROS*",
                      "116"
                    ],
                    [
                      "UGANDA",
                      "117"
                    ],
                    [
                      "NIGERIA",
                      "118"
                    ],
                    [
                      "KENYA",
                      "119"
                    ],
                    [
                      "TUNISIA",
                      "120"
                    ],
                    [
                      "PAKISTAN",
                      "121"
                    ],
                    [
                      "PALESTINIAN TERRITORIES*",
                      "122"
                    ],
                    [
                      "MALI",
                      "123"
                    ],
                    [
                      "NAMIBIA",
                      "124"
                    ],
                    [
                      "ESWATINI, KINGDOM OF*",
                      "125"
                    ],
                    [
                      "MYANMAR",
                      "126"
                    ],
                    [
                      "SRI LANKA",
                      "127"
                    ],
                    [
                      "MADAGASCAR*",
                      "128"
                    ],
                    [
                      "EGYPT",
                      "129"
                    ],
                    [
                      "CHAD*",
                      "130"
                    ],
                    [
                      "ETHIOPIA",
                      "131"
                    ],
                    [
                      "YEMEN*",
                      "132"
                    ],
                    [
                      "MAURITANIA*",
                      "133"
                    ],
                    [
                      "JORDAN",
                      "134"
                    ],
                    [
                      "TOGO",
                      "135"
                    ],
                    [
                      "INDIA",
                      "136"
                    ],
                    [
                      "ZAMBIA",
                      "137"
                    ],
                    [
                      "MALAWI",
                      "138"
                    ],
                    [
                      "TANZANIA",
                      "139"
                    ],
                    [
                      "SIERRA LEONE",
                      "140"
                    ],
                    [
                      "LESOTHO*",
                      "141"
                    ],
                    [
                      "BOTSWANA*",
                      "142"
                    ],
                    [
                      "RWANDA*",
                      "143"
                    ],
                    [
                      "ZIMBABWE",
                      "144"
                    ],
                    [
                      "LEBANON",
                      "145"
                    ],
                    [
                      "AFGHANISTAN",
                      "146"
                    ]
                  ],
                  "geo": "geo",
                  "hovertemplate": "<b>%{hovertext}</b><br><br>RANK=%{customdata[1]}<br>Happiness score=%{z}<extra></extra>",
                  "hovertext": [
                    "FINLAND",
                    "DENMARK",
                    "ICELAND",
                    "SWITZERLAND",
                    "NETHERLANDS",
                    "LUXEMBOURG*",
                    "SWEDEN",
                    "NORWAY",
                    "ISRAEL",
                    "NEW ZEALAND",
                    "AUSTRIA",
                    "AUSTRALIA",
                    "IRELAND",
                    "GERMANY",
                    "CANADA",
                    "UNITED STATES",
                    "UNITED KINGDOM",
                    "CZECHIA",
                    "BELGIUM",
                    "FRANCE",
                    "BAHRAIN",
                    "SLOVENIA",
                    "COSTA RICA",
                    "UNITED ARAB EMIRATES",
                    "SAUDI ARABIA",
                    "TAIWAN PROVINCE OF CHINA",
                    "SINGAPORE",
                    "ROMANIA",
                    "SPAIN",
                    "URUGUAY",
                    "ITALY",
                    "KOSOVO",
                    "MALTA",
                    "LITHUANIA",
                    "SLOVAKIA",
                    "ESTONIA",
                    "PANAMA",
                    "BRAZIL",
                    "GUATEMALA*",
                    "KAZAKHSTAN",
                    "CYPRUS",
                    "LATVIA",
                    "SERBIA",
                    "CHILE",
                    "NICARAGUA",
                    "MEXICO",
                    "CROATIA",
                    "POLAND",
                    "EL SALVADOR",
                    "KUWAIT*",
                    "HUNGARY",
                    "MAURITIUS",
                    "UZBEKISTAN",
                    "JAPAN",
                    "HONDURAS",
                    "PORTUGAL",
                    "ARGENTINA",
                    "GREECE",
                    "SOUTH KOREA",
                    "PHILIPPINES",
                    "THAILAND",
                    "MOLDOVA",
                    "JAMAICA",
                    "KYRGYZSTAN",
                    "BELARUS*",
                    "COLOMBIA",
                    "BOSNIA AND HERZEGOVINA",
                    "MONGOLIA",
                    "DOMINICAN REPUBLIC",
                    "MALAYSIA",
                    "BOLIVIA",
                    "CHINA",
                    "PARAGUAY",
                    "PERU",
                    "MONTENEGRO",
                    "ECUADOR",
                    "VIETNAM",
                    "TURKMENISTAN*",
                    "NORTH CYPRUS*",
                    "RUSSIA",
                    "HONG KONG S.A.R. OF CHINA",
                    "ARMENIA",
                    "TAJIKISTAN",
                    "NEPAL",
                    "BULGARIA",
                    "LIBYA*",
                    "INDONESIA",
                    "IVORY COAST",
                    "NORTH MACEDONIA",
                    "ALBANIA",
                    "SOUTH AFRICA",
                    "AZERBAIJAN*",
                    "GAMBIA*",
                    "BANGLADESH",
                    "LAOS",
                    "ALGERIA",
                    "LIBERIA*",
                    "UKRAINE",
                    "CONGO",
                    "MOROCCO",
                    "MOZAMBIQUE",
                    "CAMEROON",
                    "SENEGAL",
                    "NIGER*",
                    "GEORGIA",
                    "GABON",
                    "IRAQ",
                    "VENEZUELA",
                    "GUINEA",
                    "IRAN",
                    "GHANA",
                    "TURKEY",
                    "BURKINA FASO",
                    "CAMBODIA",
                    "BENIN",
                    "COMOROS*",
                    "UGANDA",
                    "NIGERIA",
                    "KENYA",
                    "TUNISIA",
                    "PAKISTAN",
                    "PALESTINIAN TERRITORIES*",
                    "MALI",
                    "NAMIBIA",
                    "ESWATINI, KINGDOM OF*",
                    "MYANMAR",
                    "SRI LANKA",
                    "MADAGASCAR*",
                    "EGYPT",
                    "CHAD*",
                    "ETHIOPIA",
                    "YEMEN*",
                    "MAURITANIA*",
                    "JORDAN",
                    "TOGO",
                    "INDIA",
                    "ZAMBIA",
                    "MALAWI",
                    "TANZANIA",
                    "SIERRA LEONE",
                    "LESOTHO*",
                    "BOTSWANA*",
                    "RWANDA*",
                    "ZIMBABWE",
                    "LEBANON",
                    "AFGHANISTAN"
                  ],
                  "locationmode": "country names",
                  "locations": [
                    "FINLAND",
                    "DENMARK",
                    "ICELAND",
                    "SWITZERLAND",
                    "NETHERLANDS",
                    "LUXEMBOURG*",
                    "SWEDEN",
                    "NORWAY",
                    "ISRAEL",
                    "NEW ZEALAND",
                    "AUSTRIA",
                    "AUSTRALIA",
                    "IRELAND",
                    "GERMANY",
                    "CANADA",
                    "UNITED STATES",
                    "UNITED KINGDOM",
                    "CZECHIA",
                    "BELGIUM",
                    "FRANCE",
                    "BAHRAIN",
                    "SLOVENIA",
                    "COSTA RICA",
                    "UNITED ARAB EMIRATES",
                    "SAUDI ARABIA",
                    "TAIWAN PROVINCE OF CHINA",
                    "SINGAPORE",
                    "ROMANIA",
                    "SPAIN",
                    "URUGUAY",
                    "ITALY",
                    "KOSOVO",
                    "MALTA",
                    "LITHUANIA",
                    "SLOVAKIA",
                    "ESTONIA",
                    "PANAMA",
                    "BRAZIL",
                    "GUATEMALA*",
                    "KAZAKHSTAN",
                    "CYPRUS",
                    "LATVIA",
                    "SERBIA",
                    "CHILE",
                    "NICARAGUA",
                    "MEXICO",
                    "CROATIA",
                    "POLAND",
                    "EL SALVADOR",
                    "KUWAIT*",
                    "HUNGARY",
                    "MAURITIUS",
                    "UZBEKISTAN",
                    "JAPAN",
                    "HONDURAS",
                    "PORTUGAL",
                    "ARGENTINA",
                    "GREECE",
                    "SOUTH KOREA",
                    "PHILIPPINES",
                    "THAILAND",
                    "MOLDOVA",
                    "JAMAICA",
                    "KYRGYZSTAN",
                    "BELARUS*",
                    "COLOMBIA",
                    "BOSNIA AND HERZEGOVINA",
                    "MONGOLIA",
                    "DOMINICAN REPUBLIC",
                    "MALAYSIA",
                    "BOLIVIA",
                    "CHINA",
                    "PARAGUAY",
                    "PERU",
                    "MONTENEGRO",
                    "ECUADOR",
                    "VIETNAM",
                    "TURKMENISTAN*",
                    "NORTH CYPRUS*",
                    "RUSSIA",
                    "HONG KONG S.A.R. OF CHINA",
                    "ARMENIA",
                    "TAJIKISTAN",
                    "NEPAL",
                    "BULGARIA",
                    "LIBYA*",
                    "INDONESIA",
                    "IVORY COAST",
                    "NORTH MACEDONIA",
                    "ALBANIA",
                    "SOUTH AFRICA",
                    "AZERBAIJAN*",
                    "GAMBIA*",
                    "BANGLADESH",
                    "LAOS",
                    "ALGERIA",
                    "LIBERIA*",
                    "UKRAINE",
                    "CONGO",
                    "MOROCCO",
                    "MOZAMBIQUE",
                    "CAMEROON",
                    "SENEGAL",
                    "NIGER*",
                    "GEORGIA",
                    "GABON",
                    "IRAQ",
                    "VENEZUELA",
                    "GUINEA",
                    "IRAN",
                    "GHANA",
                    "TURKEY",
                    "BURKINA FASO",
                    "CAMBODIA",
                    "BENIN",
                    "COMOROS*",
                    "UGANDA",
                    "NIGERIA",
                    "KENYA",
                    "TUNISIA",
                    "PAKISTAN",
                    "PALESTINIAN TERRITORIES*",
                    "MALI",
                    "NAMIBIA",
                    "ESWATINI, KINGDOM OF*",
                    "MYANMAR",
                    "SRI LANKA",
                    "MADAGASCAR*",
                    "EGYPT",
                    "CHAD*",
                    "ETHIOPIA",
                    "YEMEN*",
                    "MAURITANIA*",
                    "JORDAN",
                    "TOGO",
                    "INDIA",
                    "ZAMBIA",
                    "MALAWI",
                    "TANZANIA",
                    "SIERRA LEONE",
                    "LESOTHO*",
                    "BOTSWANA*",
                    "RWANDA*",
                    "ZIMBABWE",
                    "LEBANON",
                    "AFGHANISTAN"
                  ],
                  "name": "",
                  "z": [
                    7.821,
                    7.636,
                    7.557,
                    7.512,
                    7.415,
                    7.404,
                    7.384,
                    7.365,
                    7.364,
                    7.2,
                    7.163,
                    7.162,
                    7.041,
                    7.034,
                    7.025,
                    6.977,
                    6.943,
                    6.92,
                    6.805,
                    6.687,
                    6.647,
                    6.63,
                    6.582,
                    6.576,
                    6.523,
                    6.512,
                    6.48,
                    6.477,
                    6.476,
                    6.474,
                    6.467,
                    6.455,
                    6.447,
                    6.446,
                    6.391,
                    6.341,
                    6.309,
                    6.293,
                    6.262,
                    6.234,
                    6.221,
                    6.18,
                    6.178,
                    6.172,
                    6.165,
                    6.128,
                    6.125,
                    6.123,
                    6.12,
                    6.106,
                    6.086,
                    6.071,
                    6.063,
                    6.039,
                    6.022,
                    6.016,
                    5.967,
                    5.948,
                    5.935,
                    5.904,
                    5.891,
                    5.857,
                    5.85,
                    5.828,
                    5.821,
                    5.781,
                    5.768,
                    5.761,
                    5.737,
                    5.711,
                    5.6,
                    5.585,
                    5.578,
                    5.559,
                    5.547,
                    5.533,
                    5.485,
                    5.474,
                    5.467,
                    5.459,
                    5.425,
                    5.399,
                    5.377,
                    5.377,
                    5.371,
                    5.33,
                    5.24,
                    5.235,
                    5.199,
                    5.199,
                    5.194,
                    5.173,
                    5.164,
                    5.155,
                    5.14,
                    5.122,
                    5.122,
                    5.084,
                    5.075,
                    5.06,
                    5.048,
                    5.048,
                    5.046,
                    5.003,
                    4.973,
                    4.958,
                    4.941,
                    4.925,
                    4.891,
                    4.888,
                    4.872,
                    4.744,
                    4.67,
                    4.64,
                    4.623,
                    4.609,
                    4.603,
                    4.552,
                    4.543,
                    4.516,
                    4.516,
                    4.483,
                    4.479,
                    4.459,
                    4.396,
                    4.394,
                    4.362,
                    4.339,
                    4.288,
                    4.251,
                    4.241,
                    4.197,
                    4.153,
                    4.152,
                    4.112,
                    3.777,
                    3.76,
                    3.75,
                    3.702,
                    3.574,
                    3.512,
                    3.471,
                    3.268,
                    2.995,
                    2.955,
                    2.404
                  ],
                  "type": "choropleth"
                }
              ],
              "layout": {
                "template": {
                  "data": {
                    "bar": [
                      {
                        "error_x": {
                          "color": "#2a3f5f"
                        },
                        "error_y": {
                          "color": "#2a3f5f"
                        },
                        "marker": {
                          "line": {
                            "color": "#E5ECF6",
                            "width": 0.5
                          },
                          "pattern": {
                            "fillmode": "overlay",
                            "size": 10,
                            "solidity": 0.2
                          }
                        },
                        "type": "bar"
                      }
                    ],
                    "barpolar": [
                      {
                        "marker": {
                          "line": {
                            "color": "#E5ECF6",
                            "width": 0.5
                          },
                          "pattern": {
                            "fillmode": "overlay",
                            "size": 10,
                            "solidity": 0.2
                          }
                        },
                        "type": "barpolar"
                      }
                    ],
                    "carpet": [
                      {
                        "aaxis": {
                          "endlinecolor": "#2a3f5f",
                          "gridcolor": "white",
                          "linecolor": "white",
                          "minorgridcolor": "white",
                          "startlinecolor": "#2a3f5f"
                        },
                        "baxis": {
                          "endlinecolor": "#2a3f5f",
                          "gridcolor": "white",
                          "linecolor": "white",
                          "minorgridcolor": "white",
                          "startlinecolor": "#2a3f5f"
                        },
                        "type": "carpet"
                      }
                    ],
                    "choropleth": [
                      {
                        "colorbar": {
                          "outlinewidth": 0,
                          "ticks": ""
                        },
                        "type": "choropleth"
                      }
                    ],
                    "contour": [
                      {
                        "colorbar": {
                          "outlinewidth": 0,
                          "ticks": ""
                        },
                        "colorscale": [
                          [
                            0,
                            "#0d0887"
                          ],
                          [
                            0.1111111111111111,
                            "#46039f"
                          ],
                          [
                            0.2222222222222222,
                            "#7201a8"
                          ],
                          [
                            0.3333333333333333,
                            "#9c179e"
                          ],
                          [
                            0.4444444444444444,
                            "#bd3786"
                          ],
                          [
                            0.5555555555555556,
                            "#d8576b"
                          ],
                          [
                            0.6666666666666666,
                            "#ed7953"
                          ],
                          [
                            0.7777777777777778,
                            "#fb9f3a"
                          ],
                          [
                            0.8888888888888888,
                            "#fdca26"
                          ],
                          [
                            1,
                            "#f0f921"
                          ]
                        ],
                        "type": "contour"
                      }
                    ],
                    "contourcarpet": [
                      {
                        "colorbar": {
                          "outlinewidth": 0,
                          "ticks": ""
                        },
                        "type": "contourcarpet"
                      }
                    ],
                    "heatmap": [
                      {
                        "colorbar": {
                          "outlinewidth": 0,
                          "ticks": ""
                        },
                        "colorscale": [
                          [
                            0,
                            "#0d0887"
                          ],
                          [
                            0.1111111111111111,
                            "#46039f"
                          ],
                          [
                            0.2222222222222222,
                            "#7201a8"
                          ],
                          [
                            0.3333333333333333,
                            "#9c179e"
                          ],
                          [
                            0.4444444444444444,
                            "#bd3786"
                          ],
                          [
                            0.5555555555555556,
                            "#d8576b"
                          ],
                          [
                            0.6666666666666666,
                            "#ed7953"
                          ],
                          [
                            0.7777777777777778,
                            "#fb9f3a"
                          ],
                          [
                            0.8888888888888888,
                            "#fdca26"
                          ],
                          [
                            1,
                            "#f0f921"
                          ]
                        ],
                        "type": "heatmap"
                      }
                    ],
                    "heatmapgl": [
                      {
                        "colorbar": {
                          "outlinewidth": 0,
                          "ticks": ""
                        },
                        "colorscale": [
                          [
                            0,
                            "#0d0887"
                          ],
                          [
                            0.1111111111111111,
                            "#46039f"
                          ],
                          [
                            0.2222222222222222,
                            "#7201a8"
                          ],
                          [
                            0.3333333333333333,
                            "#9c179e"
                          ],
                          [
                            0.4444444444444444,
                            "#bd3786"
                          ],
                          [
                            0.5555555555555556,
                            "#d8576b"
                          ],
                          [
                            0.6666666666666666,
                            "#ed7953"
                          ],
                          [
                            0.7777777777777778,
                            "#fb9f3a"
                          ],
                          [
                            0.8888888888888888,
                            "#fdca26"
                          ],
                          [
                            1,
                            "#f0f921"
                          ]
                        ],
                        "type": "heatmapgl"
                      }
                    ],
                    "histogram": [
                      {
                        "marker": {
                          "pattern": {
                            "fillmode": "overlay",
                            "size": 10,
                            "solidity": 0.2
                          }
                        },
                        "type": "histogram"
                      }
                    ],
                    "histogram2d": [
                      {
                        "colorbar": {
                          "outlinewidth": 0,
                          "ticks": ""
                        },
                        "colorscale": [
                          [
                            0,
                            "#0d0887"
                          ],
                          [
                            0.1111111111111111,
                            "#46039f"
                          ],
                          [
                            0.2222222222222222,
                            "#7201a8"
                          ],
                          [
                            0.3333333333333333,
                            "#9c179e"
                          ],
                          [
                            0.4444444444444444,
                            "#bd3786"
                          ],
                          [
                            0.5555555555555556,
                            "#d8576b"
                          ],
                          [
                            0.6666666666666666,
                            "#ed7953"
                          ],
                          [
                            0.7777777777777778,
                            "#fb9f3a"
                          ],
                          [
                            0.8888888888888888,
                            "#fdca26"
                          ],
                          [
                            1,
                            "#f0f921"
                          ]
                        ],
                        "type": "histogram2d"
                      }
                    ],
                    "histogram2dcontour": [
                      {
                        "colorbar": {
                          "outlinewidth": 0,
                          "ticks": ""
                        },
                        "colorscale": [
                          [
                            0,
                            "#0d0887"
                          ],
                          [
                            0.1111111111111111,
                            "#46039f"
                          ],
                          [
                            0.2222222222222222,
                            "#7201a8"
                          ],
                          [
                            0.3333333333333333,
                            "#9c179e"
                          ],
                          [
                            0.4444444444444444,
                            "#bd3786"
                          ],
                          [
                            0.5555555555555556,
                            "#d8576b"
                          ],
                          [
                            0.6666666666666666,
                            "#ed7953"
                          ],
                          [
                            0.7777777777777778,
                            "#fb9f3a"
                          ],
                          [
                            0.8888888888888888,
                            "#fdca26"
                          ],
                          [
                            1,
                            "#f0f921"
                          ]
                        ],
                        "type": "histogram2dcontour"
                      }
                    ],
                    "mesh3d": [
                      {
                        "colorbar": {
                          "outlinewidth": 0,
                          "ticks": ""
                        },
                        "type": "mesh3d"
                      }
                    ],
                    "parcoords": [
                      {
                        "line": {
                          "colorbar": {
                            "outlinewidth": 0,
                            "ticks": ""
                          }
                        },
                        "type": "parcoords"
                      }
                    ],
                    "pie": [
                      {
                        "automargin": true,
                        "type": "pie"
                      }
                    ],
                    "scatter": [
                      {
                        "marker": {
                          "colorbar": {
                            "outlinewidth": 0,
                            "ticks": ""
                          }
                        },
                        "type": "scatter"
                      }
                    ],
                    "scatter3d": [
                      {
                        "line": {
                          "colorbar": {
                            "outlinewidth": 0,
                            "ticks": ""
                          }
                        },
                        "marker": {
                          "colorbar": {
                            "outlinewidth": 0,
                            "ticks": ""
                          }
                        },
                        "type": "scatter3d"
                      }
                    ],
                    "scattercarpet": [
                      {
                        "marker": {
                          "colorbar": {
                            "outlinewidth": 0,
                            "ticks": ""
                          }
                        },
                        "type": "scattercarpet"
                      }
                    ],
                    "scattergeo": [
                      {
                        "marker": {
                          "colorbar": {
                            "outlinewidth": 0,
                            "ticks": ""
                          }
                        },
                        "type": "scattergeo"
                      }
                    ],
                    "scattergl": [
                      {
                        "marker": {
                          "colorbar": {
                            "outlinewidth": 0,
                            "ticks": ""
                          }
                        },
                        "type": "scattergl"
                      }
                    ],
                    "scattermapbox": [
                      {
                        "marker": {
                          "colorbar": {
                            "outlinewidth": 0,
                            "ticks": ""
                          }
                        },
                        "type": "scattermapbox"
                      }
                    ],
                    "scatterpolar": [
                      {
                        "marker": {
                          "colorbar": {
                            "outlinewidth": 0,
                            "ticks": ""
                          }
                        },
                        "type": "scatterpolar"
                      }
                    ],
                    "scatterpolargl": [
                      {
                        "marker": {
                          "colorbar": {
                            "outlinewidth": 0,
                            "ticks": ""
                          }
                        },
                        "type": "scatterpolargl"
                      }
                    ],
                    "scatterternary": [
                      {
                        "marker": {
                          "colorbar": {
                            "outlinewidth": 0,
                            "ticks": ""
                          }
                        },
                        "type": "scatterternary"
                      }
                    ],
                    "surface": [
                      {
                        "colorbar": {
                          "outlinewidth": 0,
                          "ticks": ""
                        },
                        "colorscale": [
                          [
                            0,
                            "#0d0887"
                          ],
                          [
                            0.1111111111111111,
                            "#46039f"
                          ],
                          [
                            0.2222222222222222,
                            "#7201a8"
                          ],
                          [
                            0.3333333333333333,
                            "#9c179e"
                          ],
                          [
                            0.4444444444444444,
                            "#bd3786"
                          ],
                          [
                            0.5555555555555556,
                            "#d8576b"
                          ],
                          [
                            0.6666666666666666,
                            "#ed7953"
                          ],
                          [
                            0.7777777777777778,
                            "#fb9f3a"
                          ],
                          [
                            0.8888888888888888,
                            "#fdca26"
                          ],
                          [
                            1,
                            "#f0f921"
                          ]
                        ],
                        "type": "surface"
                      }
                    ],
                    "table": [
                      {
                        "cells": {
                          "fill": {
                            "color": "#EBF0F8"
                          },
                          "line": {
                            "color": "white"
                          }
                        },
                        "header": {
                          "fill": {
                            "color": "#C8D4E3"
                          },
                          "line": {
                            "color": "white"
                          }
                        },
                        "type": "table"
                      }
                    ]
                  },
                  "layout": {
                    "annotationdefaults": {
                      "arrowcolor": "#2a3f5f",
                      "arrowhead": 0,
                      "arrowwidth": 1
                    },
                    "autotypenumbers": "strict",
                    "coloraxis": {
                      "colorbar": {
                        "outlinewidth": 0,
                        "ticks": ""
                      }
                    },
                    "colorscale": {
                      "diverging": [
                        [
                          0,
                          "#8e0152"
                        ],
                        [
                          0.1,
                          "#c51b7d"
                        ],
                        [
                          0.2,
                          "#de77ae"
                        ],
                        [
                          0.3,
                          "#f1b6da"
                        ],
                        [
                          0.4,
                          "#fde0ef"
                        ],
                        [
                          0.5,
                          "#f7f7f7"
                        ],
                        [
                          0.6,
                          "#e6f5d0"
                        ],
                        [
                          0.7,
                          "#b8e186"
                        ],
                        [
                          0.8,
                          "#7fbc41"
                        ],
                        [
                          0.9,
                          "#4d9221"
                        ],
                        [
                          1,
                          "#276419"
                        ]
                      ],
                      "sequential": [
                        [
                          0,
                          "#0d0887"
                        ],
                        [
                          0.1111111111111111,
                          "#46039f"
                        ],
                        [
                          0.2222222222222222,
                          "#7201a8"
                        ],
                        [
                          0.3333333333333333,
                          "#9c179e"
                        ],
                        [
                          0.4444444444444444,
                          "#bd3786"
                        ],
                        [
                          0.5555555555555556,
                          "#d8576b"
                        ],
                        [
                          0.6666666666666666,
                          "#ed7953"
                        ],
                        [
                          0.7777777777777778,
                          "#fb9f3a"
                        ],
                        [
                          0.8888888888888888,
                          "#fdca26"
                        ],
                        [
                          1,
                          "#f0f921"
                        ]
                      ],
                      "sequentialminus": [
                        [
                          0,
                          "#0d0887"
                        ],
                        [
                          0.1111111111111111,
                          "#46039f"
                        ],
                        [
                          0.2222222222222222,
                          "#7201a8"
                        ],
                        [
                          0.3333333333333333,
                          "#9c179e"
                        ],
                        [
                          0.4444444444444444,
                          "#bd3786"
                        ],
                        [
                          0.5555555555555556,
                          "#d8576b"
                        ],
                        [
                          0.6666666666666666,
                          "#ed7953"
                        ],
                        [
                          0.7777777777777778,
                          "#fb9f3a"
                        ],
                        [
                          0.8888888888888888,
                          "#fdca26"
                        ],
                        [
                          1,
                          "#f0f921"
                        ]
                      ]
                    },
                    "colorway": [
                      "#636efa",
                      "#EF553B",
                      "#00cc96",
                      "#ab63fa",
                      "#FFA15A",
                      "#19d3f3",
                      "#FF6692",
                      "#B6E880",
                      "#FF97FF",
                      "#FECB52"
                    ],
                    "font": {
                      "color": "#2a3f5f"
                    },
                    "geo": {
                      "bgcolor": "white",
                      "lakecolor": "white",
                      "landcolor": "#E5ECF6",
                      "showlakes": true,
                      "showland": true,
                      "subunitcolor": "white"
                    },
                    "hoverlabel": {
                      "align": "left"
                    },
                    "hovermode": "closest",
                    "mapbox": {
                      "style": "light"
                    },
                    "paper_bgcolor": "white",
                    "plot_bgcolor": "#E5ECF6",
                    "polar": {
                      "angularaxis": {
                        "gridcolor": "white",
                        "linecolor": "white",
                        "ticks": ""
                      },
                      "bgcolor": "#E5ECF6",
                      "radialaxis": {
                        "gridcolor": "white",
                        "linecolor": "white",
                        "ticks": ""
                      }
                    },
                    "scene": {
                      "xaxis": {
                        "backgroundcolor": "#E5ECF6",
                        "gridcolor": "white",
                        "gridwidth": 2,
                        "linecolor": "white",
                        "showbackground": true,
                        "ticks": "",
                        "zerolinecolor": "white"
                      },
                      "yaxis": {
                        "backgroundcolor": "#E5ECF6",
                        "gridcolor": "white",
                        "gridwidth": 2,
                        "linecolor": "white",
                        "showbackground": true,
                        "ticks": "",
                        "zerolinecolor": "white"
                      },
                      "zaxis": {
                        "backgroundcolor": "#E5ECF6",
                        "gridcolor": "white",
                        "gridwidth": 2,
                        "linecolor": "white",
                        "showbackground": true,
                        "ticks": "",
                        "zerolinecolor": "white"
                      }
                    },
                    "shapedefaults": {
                      "line": {
                        "color": "#2a3f5f"
                      }
                    },
                    "ternary": {
                      "aaxis": {
                        "gridcolor": "white",
                        "linecolor": "white",
                        "ticks": ""
                      },
                      "baxis": {
                        "gridcolor": "white",
                        "linecolor": "white",
                        "ticks": ""
                      },
                      "bgcolor": "#E5ECF6",
                      "caxis": {
                        "gridcolor": "white",
                        "linecolor": "white",
                        "ticks": ""
                      }
                    },
                    "title": {
                      "x": 0.05
                    },
                    "xaxis": {
                      "automargin": true,
                      "gridcolor": "white",
                      "linecolor": "white",
                      "ticks": "",
                      "title": {
                        "standoff": 15
                      },
                      "zerolinecolor": "white",
                      "zerolinewidth": 2
                    },
                    "yaxis": {
                      "automargin": true,
                      "gridcolor": "white",
                      "linecolor": "white",
                      "ticks": "",
                      "title": {
                        "standoff": 15
                      },
                      "zerolinecolor": "white",
                      "zerolinewidth": 2
                    }
                  }
                },
                "geo": {
                  "domain": {
                    "x": [
                      0,
                      1
                    ],
                    "y": [
                      0,
                      1
                    ]
                  },
                  "center": {}
                },
                "coloraxis": {
                  "colorbar": {
                    "title": {
                      "text": "Happiness score"
                    }
                  },
                  "colorscale": [
                    [
                      0,
                      "#0d0887"
                    ],
                    [
                      0.1111111111111111,
                      "#46039f"
                    ],
                    [
                      0.2222222222222222,
                      "#7201a8"
                    ],
                    [
                      0.3333333333333333,
                      "#9c179e"
                    ],
                    [
                      0.4444444444444444,
                      "#bd3786"
                    ],
                    [
                      0.5555555555555556,
                      "#d8576b"
                    ],
                    [
                      0.6666666666666666,
                      "#ed7953"
                    ],
                    [
                      0.7777777777777778,
                      "#fb9f3a"
                    ],
                    [
                      0.8888888888888888,
                      "#fdca26"
                    ],
                    [
                      1,
                      "#f0f921"
                    ]
                  ]
                },
                "legend": {
                  "tracegroupgap": 0
                },
                "margin": {
                  "t": 0,
                  "r": 0,
                  "l": 0,
                  "b": 0
                },
                "width": 900,
                "height": 400
              },
              "config": {
                "plotlyServerURL": "https://plot.ly"
              }
            },
            "text/html": [
              "<div>                            <div id=\"327f5ea8-3bd4-4785-b98d-b325de11e253\" class=\"plotly-graph-div\" style=\"height:400px; width:900px;\"></div>            <script type=\"text/javascript\">                require([\"plotly\"], function(Plotly) {                    window.PLOTLYENV=window.PLOTLYENV || {};                                    if (document.getElementById(\"327f5ea8-3bd4-4785-b98d-b325de11e253\")) {                    Plotly.newPlot(                        \"327f5ea8-3bd4-4785-b98d-b325de11e253\",                        [{\"coloraxis\":\"coloraxis\",\"customdata\":[[\"FINLAND\",\"1\"],[\"DENMARK\",\"2\"],[\"ICELAND\",\"3\"],[\"SWITZERLAND\",\"4\"],[\"NETHERLANDS\",\"5\"],[\"LUXEMBOURG*\",\"6\"],[\"SWEDEN\",\"7\"],[\"NORWAY\",\"8\"],[\"ISRAEL\",\"9\"],[\"NEW ZEALAND\",\"10\"],[\"AUSTRIA\",\"11\"],[\"AUSTRALIA\",\"12\"],[\"IRELAND\",\"13\"],[\"GERMANY\",\"14\"],[\"CANADA\",\"15\"],[\"UNITED STATES\",\"16\"],[\"UNITED KINGDOM\",\"17\"],[\"CZECHIA\",\"18\"],[\"BELGIUM\",\"19\"],[\"FRANCE\",\"20\"],[\"BAHRAIN\",\"21\"],[\"SLOVENIA\",\"22\"],[\"COSTA RICA\",\"23\"],[\"UNITED ARAB EMIRATES\",\"24\"],[\"SAUDI ARABIA\",\"25\"],[\"TAIWAN PROVINCE OF CHINA\",\"26\"],[\"SINGAPORE\",\"27\"],[\"ROMANIA\",\"28\"],[\"SPAIN\",\"29\"],[\"URUGUAY\",\"30\"],[\"ITALY\",\"31\"],[\"KOSOVO\",\"32\"],[\"MALTA\",\"33\"],[\"LITHUANIA\",\"34\"],[\"SLOVAKIA\",\"35\"],[\"ESTONIA\",\"36\"],[\"PANAMA\",\"37\"],[\"BRAZIL\",\"38\"],[\"GUATEMALA*\",\"39\"],[\"KAZAKHSTAN\",\"40\"],[\"CYPRUS\",\"41\"],[\"LATVIA\",\"42\"],[\"SERBIA\",\"43\"],[\"CHILE\",\"44\"],[\"NICARAGUA\",\"45\"],[\"MEXICO\",\"46\"],[\"CROATIA\",\"47\"],[\"POLAND\",\"48\"],[\"EL SALVADOR\",\"49\"],[\"KUWAIT*\",\"50\"],[\"HUNGARY\",\"51\"],[\"MAURITIUS\",\"52\"],[\"UZBEKISTAN\",\"53\"],[\"JAPAN\",\"54\"],[\"HONDURAS\",\"55\"],[\"PORTUGAL\",\"56\"],[\"ARGENTINA\",\"57\"],[\"GREECE\",\"58\"],[\"SOUTH KOREA\",\"59\"],[\"PHILIPPINES\",\"60\"],[\"THAILAND\",\"61\"],[\"MOLDOVA\",\"62\"],[\"JAMAICA\",\"63\"],[\"KYRGYZSTAN\",\"64\"],[\"BELARUS*\",\"65\"],[\"COLOMBIA\",\"66\"],[\"BOSNIA AND HERZEGOVINA\",\"67\"],[\"MONGOLIA\",\"68\"],[\"DOMINICAN REPUBLIC\",\"69\"],[\"MALAYSIA\",\"70\"],[\"BOLIVIA\",\"71\"],[\"CHINA\",\"72\"],[\"PARAGUAY\",\"73\"],[\"PERU\",\"74\"],[\"MONTENEGRO\",\"75\"],[\"ECUADOR\",\"76\"],[\"VIETNAM\",\"77\"],[\"TURKMENISTAN*\",\"78\"],[\"NORTH CYPRUS*\",\"79\"],[\"RUSSIA\",\"80\"],[\"HONG KONG S.A.R. OF CHINA\",\"81\"],[\"ARMENIA\",\"82\"],[\"TAJIKISTAN\",\"83\"],[\"NEPAL\",\"84\"],[\"BULGARIA\",\"85\"],[\"LIBYA*\",\"86\"],[\"INDONESIA\",\"87\"],[\"IVORY COAST\",\"88\"],[\"NORTH MACEDONIA\",\"89\"],[\"ALBANIA\",\"90\"],[\"SOUTH AFRICA\",\"91\"],[\"AZERBAIJAN*\",\"92\"],[\"GAMBIA*\",\"93\"],[\"BANGLADESH\",\"94\"],[\"LAOS\",\"95\"],[\"ALGERIA\",\"96\"],[\"LIBERIA*\",\"97\"],[\"UKRAINE\",\"98\"],[\"CONGO\",\"99\"],[\"MOROCCO\",\"100\"],[\"MOZAMBIQUE\",\"101\"],[\"CAMEROON\",\"102\"],[\"SENEGAL\",\"103\"],[\"NIGER*\",\"104\"],[\"GEORGIA\",\"105\"],[\"GABON\",\"106\"],[\"IRAQ\",\"107\"],[\"VENEZUELA\",\"108\"],[\"GUINEA\",\"109\"],[\"IRAN\",\"110\"],[\"GHANA\",\"111\"],[\"TURKEY\",\"112\"],[\"BURKINA FASO\",\"113\"],[\"CAMBODIA\",\"114\"],[\"BENIN\",\"115\"],[\"COMOROS*\",\"116\"],[\"UGANDA\",\"117\"],[\"NIGERIA\",\"118\"],[\"KENYA\",\"119\"],[\"TUNISIA\",\"120\"],[\"PAKISTAN\",\"121\"],[\"PALESTINIAN TERRITORIES*\",\"122\"],[\"MALI\",\"123\"],[\"NAMIBIA\",\"124\"],[\"ESWATINI, KINGDOM OF*\",\"125\"],[\"MYANMAR\",\"126\"],[\"SRI LANKA\",\"127\"],[\"MADAGASCAR*\",\"128\"],[\"EGYPT\",\"129\"],[\"CHAD*\",\"130\"],[\"ETHIOPIA\",\"131\"],[\"YEMEN*\",\"132\"],[\"MAURITANIA*\",\"133\"],[\"JORDAN\",\"134\"],[\"TOGO\",\"135\"],[\"INDIA\",\"136\"],[\"ZAMBIA\",\"137\"],[\"MALAWI\",\"138\"],[\"TANZANIA\",\"139\"],[\"SIERRA LEONE\",\"140\"],[\"LESOTHO*\",\"141\"],[\"BOTSWANA*\",\"142\"],[\"RWANDA*\",\"143\"],[\"ZIMBABWE\",\"144\"],[\"LEBANON\",\"145\"],[\"AFGHANISTAN\",\"146\"]],\"geo\":\"geo\",\"hovertemplate\":\"<b>%{hovertext}</b><br><br>RANK=%{customdata[1]}<br>Happiness score=%{z}<extra></extra>\",\"hovertext\":[\"FINLAND\",\"DENMARK\",\"ICELAND\",\"SWITZERLAND\",\"NETHERLANDS\",\"LUXEMBOURG*\",\"SWEDEN\",\"NORWAY\",\"ISRAEL\",\"NEW ZEALAND\",\"AUSTRIA\",\"AUSTRALIA\",\"IRELAND\",\"GERMANY\",\"CANADA\",\"UNITED STATES\",\"UNITED KINGDOM\",\"CZECHIA\",\"BELGIUM\",\"FRANCE\",\"BAHRAIN\",\"SLOVENIA\",\"COSTA RICA\",\"UNITED ARAB EMIRATES\",\"SAUDI ARABIA\",\"TAIWAN PROVINCE OF CHINA\",\"SINGAPORE\",\"ROMANIA\",\"SPAIN\",\"URUGUAY\",\"ITALY\",\"KOSOVO\",\"MALTA\",\"LITHUANIA\",\"SLOVAKIA\",\"ESTONIA\",\"PANAMA\",\"BRAZIL\",\"GUATEMALA*\",\"KAZAKHSTAN\",\"CYPRUS\",\"LATVIA\",\"SERBIA\",\"CHILE\",\"NICARAGUA\",\"MEXICO\",\"CROATIA\",\"POLAND\",\"EL SALVADOR\",\"KUWAIT*\",\"HUNGARY\",\"MAURITIUS\",\"UZBEKISTAN\",\"JAPAN\",\"HONDURAS\",\"PORTUGAL\",\"ARGENTINA\",\"GREECE\",\"SOUTH KOREA\",\"PHILIPPINES\",\"THAILAND\",\"MOLDOVA\",\"JAMAICA\",\"KYRGYZSTAN\",\"BELARUS*\",\"COLOMBIA\",\"BOSNIA AND HERZEGOVINA\",\"MONGOLIA\",\"DOMINICAN REPUBLIC\",\"MALAYSIA\",\"BOLIVIA\",\"CHINA\",\"PARAGUAY\",\"PERU\",\"MONTENEGRO\",\"ECUADOR\",\"VIETNAM\",\"TURKMENISTAN*\",\"NORTH CYPRUS*\",\"RUSSIA\",\"HONG KONG S.A.R. OF CHINA\",\"ARMENIA\",\"TAJIKISTAN\",\"NEPAL\",\"BULGARIA\",\"LIBYA*\",\"INDONESIA\",\"IVORY COAST\",\"NORTH MACEDONIA\",\"ALBANIA\",\"SOUTH AFRICA\",\"AZERBAIJAN*\",\"GAMBIA*\",\"BANGLADESH\",\"LAOS\",\"ALGERIA\",\"LIBERIA*\",\"UKRAINE\",\"CONGO\",\"MOROCCO\",\"MOZAMBIQUE\",\"CAMEROON\",\"SENEGAL\",\"NIGER*\",\"GEORGIA\",\"GABON\",\"IRAQ\",\"VENEZUELA\",\"GUINEA\",\"IRAN\",\"GHANA\",\"TURKEY\",\"BURKINA FASO\",\"CAMBODIA\",\"BENIN\",\"COMOROS*\",\"UGANDA\",\"NIGERIA\",\"KENYA\",\"TUNISIA\",\"PAKISTAN\",\"PALESTINIAN TERRITORIES*\",\"MALI\",\"NAMIBIA\",\"ESWATINI, KINGDOM OF*\",\"MYANMAR\",\"SRI LANKA\",\"MADAGASCAR*\",\"EGYPT\",\"CHAD*\",\"ETHIOPIA\",\"YEMEN*\",\"MAURITANIA*\",\"JORDAN\",\"TOGO\",\"INDIA\",\"ZAMBIA\",\"MALAWI\",\"TANZANIA\",\"SIERRA LEONE\",\"LESOTHO*\",\"BOTSWANA*\",\"RWANDA*\",\"ZIMBABWE\",\"LEBANON\",\"AFGHANISTAN\"],\"locationmode\":\"country names\",\"locations\":[\"FINLAND\",\"DENMARK\",\"ICELAND\",\"SWITZERLAND\",\"NETHERLANDS\",\"LUXEMBOURG*\",\"SWEDEN\",\"NORWAY\",\"ISRAEL\",\"NEW ZEALAND\",\"AUSTRIA\",\"AUSTRALIA\",\"IRELAND\",\"GERMANY\",\"CANADA\",\"UNITED STATES\",\"UNITED KINGDOM\",\"CZECHIA\",\"BELGIUM\",\"FRANCE\",\"BAHRAIN\",\"SLOVENIA\",\"COSTA RICA\",\"UNITED ARAB EMIRATES\",\"SAUDI ARABIA\",\"TAIWAN PROVINCE OF CHINA\",\"SINGAPORE\",\"ROMANIA\",\"SPAIN\",\"URUGUAY\",\"ITALY\",\"KOSOVO\",\"MALTA\",\"LITHUANIA\",\"SLOVAKIA\",\"ESTONIA\",\"PANAMA\",\"BRAZIL\",\"GUATEMALA*\",\"KAZAKHSTAN\",\"CYPRUS\",\"LATVIA\",\"SERBIA\",\"CHILE\",\"NICARAGUA\",\"MEXICO\",\"CROATIA\",\"POLAND\",\"EL SALVADOR\",\"KUWAIT*\",\"HUNGARY\",\"MAURITIUS\",\"UZBEKISTAN\",\"JAPAN\",\"HONDURAS\",\"PORTUGAL\",\"ARGENTINA\",\"GREECE\",\"SOUTH KOREA\",\"PHILIPPINES\",\"THAILAND\",\"MOLDOVA\",\"JAMAICA\",\"KYRGYZSTAN\",\"BELARUS*\",\"COLOMBIA\",\"BOSNIA AND HERZEGOVINA\",\"MONGOLIA\",\"DOMINICAN REPUBLIC\",\"MALAYSIA\",\"BOLIVIA\",\"CHINA\",\"PARAGUAY\",\"PERU\",\"MONTENEGRO\",\"ECUADOR\",\"VIETNAM\",\"TURKMENISTAN*\",\"NORTH CYPRUS*\",\"RUSSIA\",\"HONG KONG S.A.R. OF CHINA\",\"ARMENIA\",\"TAJIKISTAN\",\"NEPAL\",\"BULGARIA\",\"LIBYA*\",\"INDONESIA\",\"IVORY COAST\",\"NORTH MACEDONIA\",\"ALBANIA\",\"SOUTH AFRICA\",\"AZERBAIJAN*\",\"GAMBIA*\",\"BANGLADESH\",\"LAOS\",\"ALGERIA\",\"LIBERIA*\",\"UKRAINE\",\"CONGO\",\"MOROCCO\",\"MOZAMBIQUE\",\"CAMEROON\",\"SENEGAL\",\"NIGER*\",\"GEORGIA\",\"GABON\",\"IRAQ\",\"VENEZUELA\",\"GUINEA\",\"IRAN\",\"GHANA\",\"TURKEY\",\"BURKINA FASO\",\"CAMBODIA\",\"BENIN\",\"COMOROS*\",\"UGANDA\",\"NIGERIA\",\"KENYA\",\"TUNISIA\",\"PAKISTAN\",\"PALESTINIAN TERRITORIES*\",\"MALI\",\"NAMIBIA\",\"ESWATINI, KINGDOM OF*\",\"MYANMAR\",\"SRI LANKA\",\"MADAGASCAR*\",\"EGYPT\",\"CHAD*\",\"ETHIOPIA\",\"YEMEN*\",\"MAURITANIA*\",\"JORDAN\",\"TOGO\",\"INDIA\",\"ZAMBIA\",\"MALAWI\",\"TANZANIA\",\"SIERRA LEONE\",\"LESOTHO*\",\"BOTSWANA*\",\"RWANDA*\",\"ZIMBABWE\",\"LEBANON\",\"AFGHANISTAN\"],\"name\":\"\",\"z\":[7.821,7.636,7.557,7.512,7.415,7.404,7.384,7.365,7.364,7.2,7.163,7.162,7.041,7.034,7.025,6.977,6.943,6.92,6.805,6.687,6.647,6.63,6.582,6.576,6.523,6.512,6.48,6.477,6.476,6.474,6.467,6.455,6.447,6.446,6.391,6.341,6.309,6.293,6.262,6.234,6.221,6.18,6.178,6.172,6.165,6.128,6.125,6.123,6.12,6.106,6.086,6.071,6.063,6.039,6.022,6.016,5.967,5.948,5.935,5.904,5.891,5.857,5.85,5.828,5.821,5.781,5.768,5.761,5.737,5.711,5.6,5.585,5.578,5.559,5.547,5.533,5.485,5.474,5.467,5.459,5.425,5.399,5.377,5.377,5.371,5.33,5.24,5.235,5.199,5.199,5.194,5.173,5.164,5.155,5.14,5.122,5.122,5.084,5.075,5.06,5.048,5.048,5.046,5.003,4.973,4.958,4.941,4.925,4.891,4.888,4.872,4.744,4.67,4.64,4.623,4.609,4.603,4.552,4.543,4.516,4.516,4.483,4.479,4.459,4.396,4.394,4.362,4.339,4.288,4.251,4.241,4.197,4.153,4.152,4.112,3.777,3.76,3.75,3.702,3.574,3.512,3.471,3.268,2.995,2.955,2.404],\"type\":\"choropleth\"}],                        {\"template\":{\"data\":{\"bar\":[{\"error_x\":{\"color\":\"#2a3f5f\"},\"error_y\":{\"color\":\"#2a3f5f\"},\"marker\":{\"line\":{\"color\":\"#E5ECF6\",\"width\":0.5},\"pattern\":{\"fillmode\":\"overlay\",\"size\":10,\"solidity\":0.2}},\"type\":\"bar\"}],\"barpolar\":[{\"marker\":{\"line\":{\"color\":\"#E5ECF6\",\"width\":0.5},\"pattern\":{\"fillmode\":\"overlay\",\"size\":10,\"solidity\":0.2}},\"type\":\"barpolar\"}],\"carpet\":[{\"aaxis\":{\"endlinecolor\":\"#2a3f5f\",\"gridcolor\":\"white\",\"linecolor\":\"white\",\"minorgridcolor\":\"white\",\"startlinecolor\":\"#2a3f5f\"},\"baxis\":{\"endlinecolor\":\"#2a3f5f\",\"gridcolor\":\"white\",\"linecolor\":\"white\",\"minorgridcolor\":\"white\",\"startlinecolor\":\"#2a3f5f\"},\"type\":\"carpet\"}],\"choropleth\":[{\"colorbar\":{\"outlinewidth\":0,\"ticks\":\"\"},\"type\":\"choropleth\"}],\"contour\":[{\"colorbar\":{\"outlinewidth\":0,\"ticks\":\"\"},\"colorscale\":[[0.0,\"#0d0887\"],[0.1111111111111111,\"#46039f\"],[0.2222222222222222,\"#7201a8\"],[0.3333333333333333,\"#9c179e\"],[0.4444444444444444,\"#bd3786\"],[0.5555555555555556,\"#d8576b\"],[0.6666666666666666,\"#ed7953\"],[0.7777777777777778,\"#fb9f3a\"],[0.8888888888888888,\"#fdca26\"],[1.0,\"#f0f921\"]],\"type\":\"contour\"}],\"contourcarpet\":[{\"colorbar\":{\"outlinewidth\":0,\"ticks\":\"\"},\"type\":\"contourcarpet\"}],\"heatmap\":[{\"colorbar\":{\"outlinewidth\":0,\"ticks\":\"\"},\"colorscale\":[[0.0,\"#0d0887\"],[0.1111111111111111,\"#46039f\"],[0.2222222222222222,\"#7201a8\"],[0.3333333333333333,\"#9c179e\"],[0.4444444444444444,\"#bd3786\"],[0.5555555555555556,\"#d8576b\"],[0.6666666666666666,\"#ed7953\"],[0.7777777777777778,\"#fb9f3a\"],[0.8888888888888888,\"#fdca26\"],[1.0,\"#f0f921\"]],\"type\":\"heatmap\"}],\"heatmapgl\":[{\"colorbar\":{\"outlinewidth\":0,\"ticks\":\"\"},\"colorscale\":[[0.0,\"#0d0887\"],[0.1111111111111111,\"#46039f\"],[0.2222222222222222,\"#7201a8\"],[0.3333333333333333,\"#9c179e\"],[0.4444444444444444,\"#bd3786\"],[0.5555555555555556,\"#d8576b\"],[0.6666666666666666,\"#ed7953\"],[0.7777777777777778,\"#fb9f3a\"],[0.8888888888888888,\"#fdca26\"],[1.0,\"#f0f921\"]],\"type\":\"heatmapgl\"}],\"histogram\":[{\"marker\":{\"pattern\":{\"fillmode\":\"overlay\",\"size\":10,\"solidity\":0.2}},\"type\":\"histogram\"}],\"histogram2d\":[{\"colorbar\":{\"outlinewidth\":0,\"ticks\":\"\"},\"colorscale\":[[0.0,\"#0d0887\"],[0.1111111111111111,\"#46039f\"],[0.2222222222222222,\"#7201a8\"],[0.3333333333333333,\"#9c179e\"],[0.4444444444444444,\"#bd3786\"],[0.5555555555555556,\"#d8576b\"],[0.6666666666666666,\"#ed7953\"],[0.7777777777777778,\"#fb9f3a\"],[0.8888888888888888,\"#fdca26\"],[1.0,\"#f0f921\"]],\"type\":\"histogram2d\"}],\"histogram2dcontour\":[{\"colorbar\":{\"outlinewidth\":0,\"ticks\":\"\"},\"colorscale\":[[0.0,\"#0d0887\"],[0.1111111111111111,\"#46039f\"],[0.2222222222222222,\"#7201a8\"],[0.3333333333333333,\"#9c179e\"],[0.4444444444444444,\"#bd3786\"],[0.5555555555555556,\"#d8576b\"],[0.6666666666666666,\"#ed7953\"],[0.7777777777777778,\"#fb9f3a\"],[0.8888888888888888,\"#fdca26\"],[1.0,\"#f0f921\"]],\"type\":\"histogram2dcontour\"}],\"mesh3d\":[{\"colorbar\":{\"outlinewidth\":0,\"ticks\":\"\"},\"type\":\"mesh3d\"}],\"parcoords\":[{\"line\":{\"colorbar\":{\"outlinewidth\":0,\"ticks\":\"\"}},\"type\":\"parcoords\"}],\"pie\":[{\"automargin\":true,\"type\":\"pie\"}],\"scatter\":[{\"marker\":{\"colorbar\":{\"outlinewidth\":0,\"ticks\":\"\"}},\"type\":\"scatter\"}],\"scatter3d\":[{\"line\":{\"colorbar\":{\"outlinewidth\":0,\"ticks\":\"\"}},\"marker\":{\"colorbar\":{\"outlinewidth\":0,\"ticks\":\"\"}},\"type\":\"scatter3d\"}],\"scattercarpet\":[{\"marker\":{\"colorbar\":{\"outlinewidth\":0,\"ticks\":\"\"}},\"type\":\"scattercarpet\"}],\"scattergeo\":[{\"marker\":{\"colorbar\":{\"outlinewidth\":0,\"ticks\":\"\"}},\"type\":\"scattergeo\"}],\"scattergl\":[{\"marker\":{\"colorbar\":{\"outlinewidth\":0,\"ticks\":\"\"}},\"type\":\"scattergl\"}],\"scattermapbox\":[{\"marker\":{\"colorbar\":{\"outlinewidth\":0,\"ticks\":\"\"}},\"type\":\"scattermapbox\"}],\"scatterpolar\":[{\"marker\":{\"colorbar\":{\"outlinewidth\":0,\"ticks\":\"\"}},\"type\":\"scatterpolar\"}],\"scatterpolargl\":[{\"marker\":{\"colorbar\":{\"outlinewidth\":0,\"ticks\":\"\"}},\"type\":\"scatterpolargl\"}],\"scatterternary\":[{\"marker\":{\"colorbar\":{\"outlinewidth\":0,\"ticks\":\"\"}},\"type\":\"scatterternary\"}],\"surface\":[{\"colorbar\":{\"outlinewidth\":0,\"ticks\":\"\"},\"colorscale\":[[0.0,\"#0d0887\"],[0.1111111111111111,\"#46039f\"],[0.2222222222222222,\"#7201a8\"],[0.3333333333333333,\"#9c179e\"],[0.4444444444444444,\"#bd3786\"],[0.5555555555555556,\"#d8576b\"],[0.6666666666666666,\"#ed7953\"],[0.7777777777777778,\"#fb9f3a\"],[0.8888888888888888,\"#fdca26\"],[1.0,\"#f0f921\"]],\"type\":\"surface\"}],\"table\":[{\"cells\":{\"fill\":{\"color\":\"#EBF0F8\"},\"line\":{\"color\":\"white\"}},\"header\":{\"fill\":{\"color\":\"#C8D4E3\"},\"line\":{\"color\":\"white\"}},\"type\":\"table\"}]},\"layout\":{\"annotationdefaults\":{\"arrowcolor\":\"#2a3f5f\",\"arrowhead\":0,\"arrowwidth\":1},\"autotypenumbers\":\"strict\",\"coloraxis\":{\"colorbar\":{\"outlinewidth\":0,\"ticks\":\"\"}},\"colorscale\":{\"diverging\":[[0,\"#8e0152\"],[0.1,\"#c51b7d\"],[0.2,\"#de77ae\"],[0.3,\"#f1b6da\"],[0.4,\"#fde0ef\"],[0.5,\"#f7f7f7\"],[0.6,\"#e6f5d0\"],[0.7,\"#b8e186\"],[0.8,\"#7fbc41\"],[0.9,\"#4d9221\"],[1,\"#276419\"]],\"sequential\":[[0.0,\"#0d0887\"],[0.1111111111111111,\"#46039f\"],[0.2222222222222222,\"#7201a8\"],[0.3333333333333333,\"#9c179e\"],[0.4444444444444444,\"#bd3786\"],[0.5555555555555556,\"#d8576b\"],[0.6666666666666666,\"#ed7953\"],[0.7777777777777778,\"#fb9f3a\"],[0.8888888888888888,\"#fdca26\"],[1.0,\"#f0f921\"]],\"sequentialminus\":[[0.0,\"#0d0887\"],[0.1111111111111111,\"#46039f\"],[0.2222222222222222,\"#7201a8\"],[0.3333333333333333,\"#9c179e\"],[0.4444444444444444,\"#bd3786\"],[0.5555555555555556,\"#d8576b\"],[0.6666666666666666,\"#ed7953\"],[0.7777777777777778,\"#fb9f3a\"],[0.8888888888888888,\"#fdca26\"],[1.0,\"#f0f921\"]]},\"colorway\":[\"#636efa\",\"#EF553B\",\"#00cc96\",\"#ab63fa\",\"#FFA15A\",\"#19d3f3\",\"#FF6692\",\"#B6E880\",\"#FF97FF\",\"#FECB52\"],\"font\":{\"color\":\"#2a3f5f\"},\"geo\":{\"bgcolor\":\"white\",\"lakecolor\":\"white\",\"landcolor\":\"#E5ECF6\",\"showlakes\":true,\"showland\":true,\"subunitcolor\":\"white\"},\"hoverlabel\":{\"align\":\"left\"},\"hovermode\":\"closest\",\"mapbox\":{\"style\":\"light\"},\"paper_bgcolor\":\"white\",\"plot_bgcolor\":\"#E5ECF6\",\"polar\":{\"angularaxis\":{\"gridcolor\":\"white\",\"linecolor\":\"white\",\"ticks\":\"\"},\"bgcolor\":\"#E5ECF6\",\"radialaxis\":{\"gridcolor\":\"white\",\"linecolor\":\"white\",\"ticks\":\"\"}},\"scene\":{\"xaxis\":{\"backgroundcolor\":\"#E5ECF6\",\"gridcolor\":\"white\",\"gridwidth\":2,\"linecolor\":\"white\",\"showbackground\":true,\"ticks\":\"\",\"zerolinecolor\":\"white\"},\"yaxis\":{\"backgroundcolor\":\"#E5ECF6\",\"gridcolor\":\"white\",\"gridwidth\":2,\"linecolor\":\"white\",\"showbackground\":true,\"ticks\":\"\",\"zerolinecolor\":\"white\"},\"zaxis\":{\"backgroundcolor\":\"#E5ECF6\",\"gridcolor\":\"white\",\"gridwidth\":2,\"linecolor\":\"white\",\"showbackground\":true,\"ticks\":\"\",\"zerolinecolor\":\"white\"}},\"shapedefaults\":{\"line\":{\"color\":\"#2a3f5f\"}},\"ternary\":{\"aaxis\":{\"gridcolor\":\"white\",\"linecolor\":\"white\",\"ticks\":\"\"},\"baxis\":{\"gridcolor\":\"white\",\"linecolor\":\"white\",\"ticks\":\"\"},\"bgcolor\":\"#E5ECF6\",\"caxis\":{\"gridcolor\":\"white\",\"linecolor\":\"white\",\"ticks\":\"\"}},\"title\":{\"x\":0.05},\"xaxis\":{\"automargin\":true,\"gridcolor\":\"white\",\"linecolor\":\"white\",\"ticks\":\"\",\"title\":{\"standoff\":15},\"zerolinecolor\":\"white\",\"zerolinewidth\":2},\"yaxis\":{\"automargin\":true,\"gridcolor\":\"white\",\"linecolor\":\"white\",\"ticks\":\"\",\"title\":{\"standoff\":15},\"zerolinecolor\":\"white\",\"zerolinewidth\":2}}},\"geo\":{\"domain\":{\"x\":[0.0,1.0],\"y\":[0.0,1.0]},\"center\":{}},\"coloraxis\":{\"colorbar\":{\"title\":{\"text\":\"Happiness score\"}},\"colorscale\":[[0.0,\"#0d0887\"],[0.1111111111111111,\"#46039f\"],[0.2222222222222222,\"#7201a8\"],[0.3333333333333333,\"#9c179e\"],[0.4444444444444444,\"#bd3786\"],[0.5555555555555556,\"#d8576b\"],[0.6666666666666666,\"#ed7953\"],[0.7777777777777778,\"#fb9f3a\"],[0.8888888888888888,\"#fdca26\"],[1.0,\"#f0f921\"]]},\"legend\":{\"tracegroupgap\":0},\"margin\":{\"t\":0,\"r\":0,\"l\":0,\"b\":0},\"width\":900,\"height\":400},                        {\"responsive\": true}                    ).then(function(){\n",
              "                            \n",
              "var gd = document.getElementById('327f5ea8-3bd4-4785-b98d-b325de11e253');\n",
              "var x = new MutationObserver(function (mutations, observer) {{\n",
              "        var display = window.getComputedStyle(gd).display;\n",
              "        if (!display || display === 'none') {{\n",
              "            console.log([gd, 'removed!']);\n",
              "            Plotly.purge(gd);\n",
              "            observer.disconnect();\n",
              "        }}\n",
              "}});\n",
              "\n",
              "// Listen for the removal of the full notebook cells\n",
              "var notebookContainer = gd.closest('#notebook-container');\n",
              "if (notebookContainer) {{\n",
              "    x.observe(notebookContainer, {childList: true});\n",
              "}}\n",
              "\n",
              "// Listen for the clearing of the current output cell\n",
              "var outputEl = gd.closest('.output');\n",
              "if (outputEl) {{\n",
              "    x.observe(outputEl, {childList: true});\n",
              "}}\n",
              "\n",
              "                        })                };                });            </script>        </div>"
            ]
          },
          "metadata": {}
        }
      ]
    },
    {
      "cell_type": "code",
      "source": [
        ""
      ],
      "metadata": {
        "id": "wYbz3KoGYhNB"
      },
      "execution_count": null,
      "outputs": []
    }
  ]
}